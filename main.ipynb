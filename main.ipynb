{
 "cells": [
  {
   "cell_type": "code",
   "execution_count": 1,
   "metadata": {},
   "outputs": [],
   "source": [
    "import json \n",
    "import re\n",
    "\n",
    "import numpy as np \n",
    "import pandas as pd\n",
    "from tqdm.auto import tqdm"
   ]
  },
  {
   "cell_type": "code",
   "execution_count": 2,
   "metadata": {},
   "outputs": [
    {
     "data": {
      "application/vnd.jupyter.widget-view+json": {
       "model_id": "7bf18865a61f4166b3e2ca541b975f64",
       "version_major": 2,
       "version_minor": 0
      },
      "text/plain": [
       "  0%|          | 0/6807 [00:00<?, ?it/s]"
      ]
     },
     "metadata": {},
     "output_type": "display_data"
    }
   ],
   "source": [
    "with open('data/train.json', 'r', encoding='utf-8') as f:\n",
    "    data = json.load(f)\n",
    "\n",
    "text_df = []\n",
    "for doc_i, doc in enumerate(tqdm(data)):\n",
    "    for j in range(len(doc['tokens'])):\n",
    "        text_df.append([doc_i, j, doc['document'], doc['tokens'][j], doc['labels'][j]])\n",
    "text_df = pd.DataFrame(text_df, columns=['doc_i', 'token_i', 'document', 'token', 'label'])"
   ]
  },
  {
   "cell_type": "code",
   "execution_count": 3,
   "metadata": {},
   "outputs": [],
   "source": [
    "# url PII\n",
    "url_regex = re.compile(\n",
    "    r'tps?://'\n",
    "    r'(?:(?:[A-Z0-9](?:[A-Z0-9-]{0,61}[A-Z0-9])?\\.)+[A-Z]{2,6}\\.?|'\n",
    "    r'localhost|'  # localhost...\n",
    "    r'\\d{1,3}\\.\\d{1,3}\\.\\d{1,3}\\.\\d{1,3})' # ...or ip\n",
    "    r'(?::\\d+)?', re.IGNORECASE\n",
    ")\n",
    "perc_url = re.compile(r'.htm?|.php\\b|.jsp\\b|.asp\\b|[\\./]linkedin|[\\./]youtu|[\\./]facebook|[\\./]tate|[\\./]moore')\n",
    "text_df['is_personal_url'] = text_df.token.apply(lambda x: False if (perc_url.search(x) is None) | (url_regex.search(x) is None) else True)\n",
    "url_df = text_df.loc[text_df['is_personal_url'], ['document', 'token_i', 'token', 'label']].reset_index(drop=True)"
   ]
  },
  {
   "cell_type": "code",
   "execution_count": 4,
   "metadata": {},
   "outputs": [],
   "source": [
    "# email PII\n",
    "email_regex = re.compile(r'[^@]+@[\\w]+\\.[\\w]+') # email reg res\n",
    "text_df['is_email'] = text_df.token.apply(lambda x: False if email_regex.search(x) is None else True)\n",
    "email_df = text_df.loc[text_df['is_email'], ['document', 'token_i', 'token', 'label']].reset_index(drop=True)"
   ]
  },
  {
   "cell_type": "code",
   "execution_count": 14,
   "metadata": {},
   "outputs": [],
   "source": [
    "# phone PII\n",
    "phone_regex = re.compile(\n",
    "    r'\\(\\d{3}\\)\\d{3}-\\d{4}'\n",
    "    r'x?\\d{0,3}|'\n",
    "    r'\\d{3}\\.\\d{3}.\\d{4}'\n",
    ")\n",
    "\n",
    "phone_labeling = []\n",
    "token_pointers = []\n",
    "\n",
    "for i, doc in enumerate(data):\n",
    "    full_text = doc['full_text']\n",
    "    tokens = doc['tokens']\n",
    "    doc_i = doc['document']\n",
    "\n",
    "    reg_result = phone_regex.search(full_text)\n",
    "    if reg_result is None:\n",
    "        continue \n",
    "    \n",
    "    phone_st, phone_ed = reg_result.span()\n",
    "    pointer = 0\n",
    "\n",
    "    for tok_i, it in enumerate(tokens):\n",
    "        token_len = len(it)\n",
    "        token_pointers.append([pointer, pointer+token_len, it, doc['labels'][tok_i]])\n",
    "\n",
    "        if token_len >= len(full_text):\n",
    "            break\n",
    "\n",
    "        if pointer > phone_ed:\n",
    "            reg_result = phone_regex.search(full_text)\n",
    "            if reg_result is None:\n",
    "                break\n",
    "            phone_st, phone_ed = reg_result.span()\n",
    "            phone_st += pointer\n",
    "            phone_ed += pointer\n",
    "\n",
    "        if (pointer == phone_st):\n",
    "            phone_labeling.append([doc_i, tok_i, it, 'B-PHONE_NUM'])\n",
    "\n",
    "        elif (pointer < phone_ed) & (pointer+token_len >= phone_ed):\n",
    "            phone_labeling.append([doc_i, tok_i, it, 'I-PHONE_NUM'])   \n",
    "\n",
    "        elif (pointer > phone_st) & (pointer+token_len <= phone_ed):\n",
    "            phone_labeling.append([doc_i, tok_i, it, 'I-PHONE_NUM'])   \n",
    "    \n",
    "        if full_text[token_len] == ' ':\n",
    "            token_len += 1\n",
    "            if token_len >= len(full_text):\n",
    "                break\n",
    "\n",
    "        pointer += token_len\n",
    "        full_text = full_text[token_len:]\n",
    "\n",
    "phone_df = pd.DataFrame(phone_labeling, columns=['document', 'token_i', 'token', 'label'])"
   ]
  },
  {
   "cell_type": "code",
   "execution_count": 23,
   "metadata": {},
   "outputs": [],
   "source": [
    "reg_df = pd.concat((url_df, email_df, phone_df)).sort_values('document').reset_index(drop=True)"
   ]
  },
  {
   "cell_type": "code",
   "execution_count": 25,
   "metadata": {},
   "outputs": [
    {
     "data": {
      "text/plain": [
       "array(['B-URL_PERSONAL', 'B-EMAIL', 'O', 'I-PHONE_NUM', 'B-PHONE_NUM'],\n",
       "      dtype=object)"
      ]
     },
     "execution_count": 25,
     "metadata": {},
     "output_type": "execute_result"
    }
   ],
   "source": [
    "reg_df.label.unique()"
   ]
  },
  {
   "cell_type": "code",
   "execution_count": 27,
   "metadata": {},
   "outputs": [
    {
     "data": {
      "text/plain": [
       "(59, 4)"
      ]
     },
     "execution_count": 27,
     "metadata": {},
     "output_type": "execute_result"
    }
   ],
   "source": [
    "reg_df.loc[reg_df.label == 'O'].shape"
   ]
  },
  {
   "cell_type": "code",
   "execution_count": 28,
   "metadata": {},
   "outputs": [
    {
     "data": {
      "text/plain": [
       "(229, 4)"
      ]
     },
     "execution_count": 28,
     "metadata": {},
     "output_type": "execute_result"
    }
   ],
   "source": [
    "reg_df.shape"
   ]
  },
  {
   "cell_type": "code",
   "execution_count": 29,
   "metadata": {},
   "outputs": [
    {
     "data": {
      "text/plain": [
       "0.74235807860262"
      ]
     },
     "execution_count": 29,
     "metadata": {},
     "output_type": "execute_result"
    }
   ],
   "source": [
    "(229 - 59) / 229"
   ]
  },
  {
   "cell_type": "code",
   "execution_count": 33,
   "metadata": {},
   "outputs": [
    {
     "data": {
      "text/plain": [
       "(58, 4)"
      ]
     },
     "execution_count": 33,
     "metadata": {},
     "output_type": "execute_result"
    }
   ],
   "source": [
    "url_df.loc[url_df.label == 'O'].shape"
   ]
  },
  {
   "cell_type": "code",
   "execution_count": null,
   "metadata": {},
   "outputs": [],
   "source": []
  }
 ],
 "metadata": {
  "kernelspec": {
   "display_name": "Python 3",
   "language": "python",
   "name": "python3"
  },
  "language_info": {
   "codemirror_mode": {
    "name": "ipython",
    "version": 3
   },
   "file_extension": ".py",
   "mimetype": "text/x-python",
   "name": "python",
   "nbconvert_exporter": "python",
   "pygments_lexer": "ipython3",
   "version": "3.10.11"
  }
 },
 "nbformat": 4,
 "nbformat_minor": 2
}
