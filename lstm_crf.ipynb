{
 "cells": [
  {
   "cell_type": "code",
   "execution_count": 1,
   "metadata": {},
   "outputs": [],
   "source": [
    "import gc\n",
    "import json\n",
    "import pickle\n",
    "from importlib import reload\n",
    "\n",
    "import torch\n",
    "import numpy as np\n",
    "import pandas as pd \n",
    "from tqdm.auto import tqdm\n",
    "from sklearn.metrics import balanced_accuracy_score, f1_score, confusion_matrix\n",
    "\n",
    "from nn_module import BiLSTM_CRF"
   ]
  },
  {
   "cell_type": "code",
   "execution_count": 2,
   "metadata": {},
   "outputs": [],
   "source": [
    "def data_label_split(data, label, train_size=0.8):\n",
    "    randidx = np.arange(len(data))\n",
    "    data_train, data_test = train_test_split(data, randidx, train_size)\n",
    "    label_train, label_test = train_test_split(label, randidx, train_size)\n",
    "\n",
    "    return data_train, data_test, label_train, label_test\n",
    "\n",
    "def train_test_split(data, randidx, train_size):\n",
    "    N = len(data)\n",
    "    return [data[i] for i in randidx[:int(train_size*N)]], [data[i] for i in randidx[int(train_size*N):]]\n",
    "\n",
    "def shuffle_data_label_lists(data, label):\n",
    "    randidx = np.arange(len(data))\n",
    "    np.random.shuffle(randidx)\n",
    "    return [data[i] for i in randidx], [label[i] for i in randidx]\n",
    "\n",
    "def embedding(data, token2emb, label2num):\n",
    "    tokens_lst = []\n",
    "    labels_lst = []\n",
    "\n",
    "    for doc in tqdm(data):\n",
    "        tokens = map(lambda x: x.replace('\\t', '').replace('\\n', '').replace(' ', ''), doc['tokens'])\n",
    "        emb_tokens = torch.zeros(len(doc['tokens']), 300)\n",
    "        for i, token in enumerate(tokens):\n",
    "            if token in token2emb:\n",
    "                emb_tokens[i] = torch.FloatTensor(token2emb[token])\n",
    "            else:\n",
    "                for it in token:\n",
    "                    emb_tokens[i] += torch.FloatTensor(token2emb[it] if it in token2emb else [0]*300)\n",
    "\n",
    "        tokens_lst.append(torch.FloatTensor(emb_tokens))\n",
    "        labels_lst.append(torch.LongTensor([label2num[it] if it in label2num else 0 for it in doc['labels']]))\n",
    "        \n",
    "    return tokens_lst, labels_lst\n",
    "\n",
    "def batch_split(X, Y, batch_size=1000):\n",
    "    x_batched = []\n",
    "    y_batched = []\n",
    "\n",
    "    n = len(X)\n",
    "    pointer = 0\n",
    "    while pointer + batch_size < n:\n",
    "        x_batched.append(X[pointer:pointer+batch_size])\n",
    "        y_batched.append(Y[pointer:pointer+batch_size])\n",
    "        pointer += batch_size \n",
    "    \n",
    "    x_batched.append(X[pointer:])\n",
    "    y_batched.append(Y[pointer:])\n",
    "\n",
    "    return x_batched, y_batched\n",
    "\n",
    "def fix_label_disbalance(tokens, labels):\n",
    "    label_idxs = {}\n",
    "    for i in range(len(labels)):\n",
    "        unique_labels = np.unique(labels[i])\n",
    "        for lab in unique_labels:\n",
    "            if lab in label_idxs:\n",
    "                label_idxs[lab].append(i)\n",
    "            else:\n",
    "                label_idxs[lab] = [i]\n",
    "\n",
    "    idxs = []\n",
    "    count_o = len(label_idxs[0])\n",
    "    del label_idxs[0]\n",
    "\n",
    "    for it in label_idxs:\n",
    "        scale = count_o // len(label_idxs[it])\n",
    "        idxs += label_idxs[it]*scale\n",
    "\n",
    "    np.random.shuffle(idxs)\n",
    "    tokens = [tokens[i] for i in idxs]\n",
    "    labels = [labels[i] for i in idxs]\n",
    "\n",
    "    return tokens, labels"
   ]
  },
  {
   "cell_type": "code",
   "execution_count": 3,
   "metadata": {},
   "outputs": [],
   "source": [
    "# create table for name and address\n",
    "label2num = {\n",
    "    'O': 0,\n",
    "    'B-NAME_STUDENT': 1, \n",
    "    'I-NAME_STUDENT': 2, \n",
    "    'B-STREET_ADDRESS': 3, \n",
    "    'I-STREET_ADDRESS': 4, \n",
    "    'B-USERNAME': 5,\n",
    "    'I-USERNAME': 6, \n",
    "    'B-ID_NUM': 7, \n",
    "    'I-ID_NUM': 8, \n",
    "    'B-URL_PERSONAL': 9,\n",
    "    'I-URL_PERSONAL': 10,\n",
    "    'B-EMAIL': 11,\n",
    "    'I-EMAIL': 12,\n",
    "    'B-PHONE_NUM': 13,\n",
    "    'I-PHONE_NUM': 14,\n",
    "}\n",
    "\n",
    "num2label = {\n",
    "    0: 'O',\n",
    "    1: 'B-NAME_STUDENT',  \n",
    "    2: 'I-NAME_STUDENT',  \n",
    "    3: 'B-STREET_ADDRESS',  \n",
    "    4: 'I-STREET_ADDRESS',  \n",
    "    5: 'B-USERNAME', \n",
    "    6: 'I-USERNAME',  \n",
    "    7: 'B-ID_NUM',  \n",
    "    8: 'I-ID_NUM', \n",
    "    9: 'B-URL_PERSONAL',\n",
    "    10: 'I-URL_PERSONAL',\n",
    "    11: 'B-EMAIL',\n",
    "    12: 'I-EMAIL',\n",
    "    13: 'B-PHONE_NUM',\n",
    "    14: 'I-PHONE_NUM',\n",
    "}"
   ]
  },
  {
   "cell_type": "code",
   "execution_count": 4,
   "metadata": {},
   "outputs": [],
   "source": [
    "# load fastext\n",
    "# token2emb = {}\n",
    "# with open('wiki-news-300d-1M.vec', 'r', encoding='utf-8') as f:\n",
    "#     next(f)\n",
    "#     for it in tqdm(f):\n",
    "#         row = it.split(' ')\n",
    "#         token2emb[row[0]] = list(map(float, row[1:]))\n",
    "\n",
    "# # encoding tokens and labels\n",
    "# with open('data/mixtral-8x7b-v1.json', 'r', encoding='utf-8') as f:\n",
    "#     data_1 = json.load(f)\n",
    "# with open('data/train.json', 'r', encoding='utf-8') as f:\n",
    "#     data_2 = json.load(f)\n",
    "# data = data_1 + data_2\n",
    "\n",
    "# data_tokens = []\n",
    "# data_labels = []\n",
    "# for doc in tqdm(data):\n",
    "#     row_tokens = []\n",
    "#     row_labels = []\n",
    "\n",
    "#     for i, (token, label) in enumerate(zip(doc['tokens'], doc['labels'])):\n",
    "#         emb_tokens = torch.zeros(300)\n",
    "        \n",
    "#         if token in token2emb:\n",
    "#             emb_tokens = torch.FloatTensor(token2emb[token])\n",
    "#         else:\n",
    "#             for it in token:\n",
    "#                 emb_tokens += torch.FloatTensor(token2emb[it] if it in token2emb else [0]*300)\n",
    "\n",
    "#         row_tokens.append(emb_tokens.unsqueeze(0))\n",
    "#         row_labels.append(label2num[label])\n",
    "\n",
    "#     data_tokens.append(torch.cat(row_tokens))\n",
    "#     data_labels.append(torch.LongTensor(row_labels))\n",
    "\n",
    "# data = []\n",
    "# token2emb = None\n",
    "# gc.collect()\n",
    "\n",
    "# N = len(data_tokens)\n",
    "# np.random.seed(123)\n",
    "# data_idx = np.arange(N)\n",
    "# np.random.shuffle(data_idx)\n",
    "# data_tokens = [data_tokens[i] for i in data_idx]\n",
    "# data_labels = [data_labels[i] for i in data_idx]\n",
    "\n",
    "# with open('data/train_pool.pkl', 'wb') as f:\n",
    "#     pickle.dump([\n",
    "#         data_tokens,\n",
    "#         data_labels,\n",
    "#     ], f)"
   ]
  },
  {
   "cell_type": "code",
   "execution_count": 4,
   "metadata": {},
   "outputs": [],
   "source": [
    "with open('data/train_pool.pkl', 'rb') as f:\n",
    "    data_tokens, data_labels = pickle.load(f)\n",
    "\n",
    "N = len(data_tokens)\n",
    "train_size = 0.85\n",
    "n = int(N*train_size)\n",
    "train_tokens, valid_tokens = data_tokens[:n], data_tokens[n:]\n",
    "train_labels, valid_labels = data_labels[:n], data_labels[n:]\n",
    "\n",
    "data_tokens = None\n",
    "data_labels = None\n",
    "gc.collect()\n",
    "\n",
    "train_tokens, train_labels = fix_label_disbalance(train_tokens, train_labels)\n",
    "valid_tokens, valid_labels = fix_label_disbalance(valid_tokens, valid_labels)"
   ]
  },
  {
   "cell_type": "code",
   "execution_count": 6,
   "metadata": {},
   "outputs": [
    {
     "data": {
      "application/vnd.jupyter.widget-view+json": {
       "model_id": "1aead0864eae4d0786f451213f570447",
       "version_major": 2,
       "version_minor": 0
      },
      "text/plain": [
       "  0%|          | 0/10 [00:00<?, ?it/s]"
      ]
     },
     "metadata": {},
     "output_type": "display_data"
    },
    {
     "data": {
      "application/vnd.jupyter.widget-view+json": {
       "model_id": "e65b2399459a44cc8f7e1ed641d3e75e",
       "version_major": 2,
       "version_minor": 0
      },
      "text/plain": [
       "0it [00:00, ?it/s]"
      ]
     },
     "metadata": {},
     "output_type": "display_data"
    }
   ],
   "source": [
    "device = 'cuda' if torch.cuda.is_available() else 'cpu'\n",
    "# device = 'cpu'\n",
    "\n",
    "import nn_module    \n",
    "reload(nn_module)\n",
    "from nn_module import BiLSTM_CRF\n",
    "\n",
    "# fit lstm\n",
    "model = BiLSTM_CRF(\n",
    "    embedding_dim=300,\n",
    "    hidden_size=32,\n",
    "    nclasses=15,\n",
    "    device=device,\n",
    ").to(device)\n",
    "\n",
    "# checkpoint = torch.load('saved_models/bi_lstm.pt')\n",
    "# model.load_state_dict(checkpoint['model_state_dict'])\n",
    "# model.optim.load_state_dict(checkpoint['optimizer_state_dict'])\n",
    "\n",
    "model.fit(\n",
    "    train_X=train_tokens,\n",
    "    train_Y=train_labels,\n",
    "    valid_X=valid_tokens,\n",
    "    valid_Y=valid_labels,\n",
    "    nepochs=10,\n",
    "    lr=1e-3,\n",
    "    device=device\n",
    ")"
   ]
  },
  {
   "cell_type": "code",
   "execution_count": 8,
   "metadata": {},
   "outputs": [
    {
     "data": {
      "application/vnd.jupyter.widget-view+json": {
       "model_id": "45c09eaa7d8d499bb313431f6a3dbd88",
       "version_major": 2,
       "version_minor": 0
      },
      "text/plain": [
       "0it [00:00, ?it/s]"
      ]
     },
     "metadata": {},
     "output_type": "display_data"
    },
    {
     "data": {
      "application/vnd.jupyter.widget-view+json": {
       "model_id": "1c63216f7f924326ad66baa49e7e80d7",
       "version_major": 2,
       "version_minor": 0
      },
      "text/plain": [
       "0it [00:00, ?it/s]"
      ]
     },
     "metadata": {},
     "output_type": "display_data"
    },
    {
     "name": "stdout",
     "output_type": "stream",
     "text": [
      "Train precision 1.000, Train recall: 1.000, Valid precision: 0.997, Valid recall: 0.995\n"
     ]
    }
   ],
   "source": [
    "with torch.no_grad():\n",
    "    TP, TN, FP, FN = 0., 0., 0., 0.\n",
    "    train_predict = []\n",
    "    for batch_X, batch_Y in tqdm(zip(train_tokens, train_labels)):\n",
    "        predict = torch.argmax(model.forward(batch_X.to(device)), dim=1).cpu()\n",
    "        TP += ((predict == batch_Y) & (predict != 0)).sum()\n",
    "        TN += ((predict == batch_Y) & (predict == 0)).sum()\n",
    "        FP += ((predict != batch_Y) & (predict != 0)).sum()\n",
    "        FN += ((predict != batch_Y) & (predict == 0)).sum()\n",
    "    p_metric_train = TP / (TP + FP)\n",
    "    r_metric_train = TP / (TP + FN)\n",
    "\n",
    "    TP, TN, FP, FN = 0, 0, 0, 0\n",
    "    test_predict = []\n",
    "    for batch_X, batch_Y in tqdm(zip(valid_tokens, valid_labels)):\n",
    "        predict = torch.argmax(model.forward(batch_X.to(device)), dim=1).cpu()\n",
    "        TP += ((predict == batch_Y) & (predict != 0)).sum()\n",
    "        TN += ((predict == batch_Y) & (predict == 0)).sum()\n",
    "        FP += ((predict != batch_Y) & (predict != 0)).sum()\n",
    "        FN += ((predict != batch_Y) & (predict == 0)).sum()\n",
    "    p_metric_valid = TP / (TP + FP)\n",
    "    r_metric_valid = TP / (TP + FN)\n",
    "    \n",
    "    print(f'Train precision {p_metric_train:.3f}, Train recall: {r_metric_train:.3f}, Valid precision: {p_metric_valid:.3f}, Valid recall: {r_metric_valid:.3f}')"
   ]
  },
  {
   "cell_type": "code",
   "execution_count": 7,
   "metadata": {},
   "outputs": [],
   "source": [
    "torch.save({\n",
    "    'model_state_dict': model.state_dict(),\n",
    "    'optimizer_state_dict': model.optim.state_dict(),\n",
    "    }, 'saved_models/bi_lstm.pt')"
   ]
  },
  {
   "cell_type": "code",
   "execution_count": 9,
   "metadata": {},
   "outputs": [
    {
     "data": {
      "text/plain": [
       "5715"
      ]
     },
     "execution_count": 9,
     "metadata": {},
     "output_type": "execute_result"
    }
   ],
   "source": [
    "token2emb = []\n",
    "train_tokens = []\n",
    "train_labels = []\n",
    "test_tokens = []\n",
    "test_labels = []\n",
    "\n",
    "import gc\n",
    "gc.collect()"
   ]
  },
  {
   "cell_type": "code",
   "execution_count": 4,
   "metadata": {},
   "outputs": [
    {
     "name": "stdout",
     "output_type": "stream",
     "text": [
      "\n"
     ]
    }
   ],
   "source": [
    "device = 'cuda' if torch.cuda.is_available() else 'cpu'\n",
    "\n",
    "model = BiLSTM_CRF(\n",
    "    embedding_dim=300,\n",
    "    hidden_size=32,\n",
    "    nclasses=15,\n",
    "    device=device,\n",
    ")\n",
    "\n",
    "checkpoint = torch.load('saved_models/bi_lstm.pt')\n",
    "model.load_state_dict(checkpoint['model_state_dict'])\n",
    "model.optim.load_state_dict(checkpoint['optimizer_state_dict'])\n",
    "model.eval()\n",
    "model.to(device)\n",
    "print()"
   ]
  },
  {
   "cell_type": "code",
   "execution_count": 5,
   "metadata": {},
   "outputs": [
    {
     "data": {
      "application/vnd.jupyter.widget-view+json": {
       "model_id": "339c34f07c474f47811c0742dc9ca737",
       "version_major": 2,
       "version_minor": 0
      },
      "text/plain": [
       "0it [00:00, ?it/s]"
      ]
     },
     "metadata": {},
     "output_type": "display_data"
    }
   ],
   "source": [
    "token2emb = {}\n",
    "with open('wiki-news-300d-1M.vec', 'r', encoding='utf-8') as f:\n",
    "    next(f)\n",
    "    for it in tqdm(f):\n",
    "        row = it.split(' ')\n",
    "        token2emb[row[0]] = list(map(float, row[1:]))"
   ]
  },
  {
   "cell_type": "code",
   "execution_count": 6,
   "metadata": {},
   "outputs": [],
   "source": [
    "def check_name(x):\n",
    "    flag = False\n",
    "    flag = x[0].isupper()\n",
    "    for it in x[1:]:\n",
    "        flag *= it.islower()\n",
    "    return flag\n",
    "\n",
    "def get_predict_table(data, token2emb, num2label):\n",
    "    predict_table = [[], [], [], [], []] # document, token_idx, token, predict, real\n",
    "    for i in tqdm(range(len(data))):\n",
    "        with torch.no_grad():\n",
    "            batch_X = []\n",
    "\n",
    "            for token in data[i]['tokens']:\n",
    "                emb_tokens = torch.zeros(300)\n",
    "                if token in token2emb:\n",
    "                    emb_tokens = torch.FloatTensor(token2emb[token])\n",
    "                else:\n",
    "                    for it in token:\n",
    "                        emb_tokens += torch.FloatTensor(token2emb[it] if it in token2emb else [0]*300)\n",
    "                batch_X.append(emb_tokens.unsqueeze(0))\n",
    "\n",
    "            batch_X = torch.cat(batch_X)\n",
    "\n",
    "            predict =  torch.argmax(model.forward(batch_X.to(device)), dim=1).cpu()\n",
    "            predict = [num2label[it.item()] for it in predict]\n",
    "            predict = ['O' if len(set(x)) < 2 else y for x, y in zip(data[i]['tokens'], predict)]\n",
    "            predict_table[0] += [data[i]['document']]*len(predict)\n",
    "            predict_table[1] += list(range(len(predict)))\n",
    "            predict_table[2] += data[i]['tokens']\n",
    "            predict_table[3] += predict\n",
    "            predict_table[4] += data[i]['labels'] \n",
    "        \n",
    "    predict_table = [[predict_table[0][i], predict_table[1][i], predict_table[2][i], predict_table[3][i], predict_table[4][i]] for i in range(len(predict_table[0]))]\n",
    "    predict_table = pd.DataFrame(predict_table, columns=['document', 'token_i', 'token', 'predict', 'label'])\n",
    "    predict_table = predict_table.loc[(predict_table.label != 'O') & (predict_table.token != \"\\n\") & (predict_table.token != \"\\n\\n\") & (predict_table.token != \"\\t\")].reset_index(drop=True)\n",
    "\n",
    "    return predict_table.sort_values('document').reset_index(drop=True)"
   ]
  },
  {
   "cell_type": "code",
   "execution_count": 7,
   "metadata": {},
   "outputs": [
    {
     "data": {
      "application/vnd.jupyter.widget-view+json": {
       "model_id": "c8afb0442f174e5288d9e641fdef52a2",
       "version_major": 2,
       "version_minor": 0
      },
      "text/plain": [
       "  0%|          | 0/6807 [00:00<?, ?it/s]"
      ]
     },
     "metadata": {},
     "output_type": "display_data"
    },
    {
     "data": {
      "text/plain": [
       "0"
      ]
     },
     "execution_count": 7,
     "metadata": {},
     "output_type": "execute_result"
    }
   ],
   "source": [
    "import gc\n",
    "with open('data/train.json', 'r', encoding='utf-8') as f:\n",
    "    data = json.load(f)\n",
    "\n",
    "predict_table = get_predict_table(data, token2emb, num2label)\n",
    "gc.collect()"
   ]
  },
  {
   "cell_type": "code",
   "execution_count": 8,
   "metadata": {},
   "outputs": [
    {
     "name": "stdout",
     "output_type": "stream",
     "text": [
      "F1 score: 0.9459261965655827\n"
     ]
    }
   ],
   "source": [
    "label = predict_table['label'].str.slice(2).values \n",
    "predict = predict_table['predict'].str.slice(2).values \n",
    "print(f'F1 score: {f1_score(label, predict, average=\"micro\")}')"
   ]
  },
  {
   "cell_type": "code",
   "execution_count": 12,
   "metadata": {},
   "outputs": [
    {
     "name": "stdout",
     "output_type": "stream",
     "text": [
      "F1 score: 0.9444647424187066\n"
     ]
    }
   ],
   "source": [
    "label = predict_table['label'].values \n",
    "predict = predict_table['predict'].values \n",
    "print(f'F1 score: {f1_score(label, predict, average=\"micro\")}')"
   ]
  },
  {
   "cell_type": "code",
   "execution_count": 11,
   "metadata": {},
   "outputs": [
    {
     "name": "stdout",
     "output_type": "stream",
     "text": [
      "F1 score: 0.7822433321154548\n"
     ]
    }
   ],
   "source": [
    "for i in range(1, predict_table.shape[0]):\n",
    "    if (predict_table.at[i-1, 'predict'] == predict_table.at[i, 'predict']) & (predict_table.at[i-1, 'document'] == predict_table.at[i, 'document']) & (predict_table.at[i, 'token_i'] - predict_table.at[i-1, 'token_i'] == 1):\n",
    "        predict_table.at[i, 'prefix'] = 'I-'\n",
    "predict_table['predict'] = predict_table['prefix'] + predict_table['predict']\n",
    "\n",
    "print(f'F1 score: {f1_score(predict_table.label, predict_table.predict, average=\"micro\")}')"
   ]
  },
  {
   "cell_type": "code",
   "execution_count": 12,
   "metadata": {},
   "outputs": [
    {
     "data": {
      "text/html": [
       "<div>\n",
       "<style scoped>\n",
       "    .dataframe tbody tr th:only-of-type {\n",
       "        vertical-align: middle;\n",
       "    }\n",
       "\n",
       "    .dataframe tbody tr th {\n",
       "        vertical-align: top;\n",
       "    }\n",
       "\n",
       "    .dataframe thead th {\n",
       "        text-align: right;\n",
       "    }\n",
       "</style>\n",
       "<table border=\"1\" class=\"dataframe\">\n",
       "  <thead>\n",
       "    <tr style=\"text-align: right;\">\n",
       "      <th></th>\n",
       "      <th>document</th>\n",
       "      <th>token_i</th>\n",
       "      <th>token</th>\n",
       "      <th>predict</th>\n",
       "      <th>label</th>\n",
       "      <th>prefix</th>\n",
       "    </tr>\n",
       "  </thead>\n",
       "  <tbody>\n",
       "    <tr>\n",
       "      <th>0</th>\n",
       "      <td>7</td>\n",
       "      <td>9</td>\n",
       "      <td>Nathalie</td>\n",
       "      <td>B-NAME_STUDENT</td>\n",
       "      <td>B-NAME_STUDENT</td>\n",
       "      <td>B-</td>\n",
       "    </tr>\n",
       "    <tr>\n",
       "      <th>1</th>\n",
       "      <td>7</td>\n",
       "      <td>10</td>\n",
       "      <td>Sylla</td>\n",
       "      <td>I-NAME_STUDENT</td>\n",
       "      <td>I-NAME_STUDENT</td>\n",
       "      <td>I-</td>\n",
       "    </tr>\n",
       "    <tr>\n",
       "      <th>2</th>\n",
       "      <td>7</td>\n",
       "      <td>482</td>\n",
       "      <td>Nathalie</td>\n",
       "      <td>B-NAME_STUDENT</td>\n",
       "      <td>B-NAME_STUDENT</td>\n",
       "      <td>B-</td>\n",
       "    </tr>\n",
       "    <tr>\n",
       "      <th>3</th>\n",
       "      <td>7</td>\n",
       "      <td>483</td>\n",
       "      <td>Sylla</td>\n",
       "      <td>I-NAME_STUDENT</td>\n",
       "      <td>I-NAME_STUDENT</td>\n",
       "      <td>I-</td>\n",
       "    </tr>\n",
       "    <tr>\n",
       "      <th>4</th>\n",
       "      <td>7</td>\n",
       "      <td>741</td>\n",
       "      <td>Nathalie</td>\n",
       "      <td>B-NAME_STUDENT</td>\n",
       "      <td>B-NAME_STUDENT</td>\n",
       "      <td>B-</td>\n",
       "    </tr>\n",
       "    <tr>\n",
       "      <th>...</th>\n",
       "      <td>...</td>\n",
       "      <td>...</td>\n",
       "      <td>...</td>\n",
       "      <td>...</td>\n",
       "      <td>...</td>\n",
       "      <td>...</td>\n",
       "    </tr>\n",
       "    <tr>\n",
       "      <th>2732</th>\n",
       "      <td>15717</td>\n",
       "      <td>365</td>\n",
       "      <td>IV-8322</td>\n",
       "      <td>B-ID_NUM</td>\n",
       "      <td>B-ID_NUM</td>\n",
       "      <td>B-</td>\n",
       "    </tr>\n",
       "    <tr>\n",
       "      <th>2733</th>\n",
       "      <td>15717</td>\n",
       "      <td>964</td>\n",
       "      <td>IV-8322</td>\n",
       "      <td>B-ID_NUM</td>\n",
       "      <td>B-ID_NUM</td>\n",
       "      <td>B-</td>\n",
       "    </tr>\n",
       "    <tr>\n",
       "      <th>2734</th>\n",
       "      <td>19280</td>\n",
       "      <td>55</td>\n",
       "      <td>30407059</td>\n",
       "      <td>B-ID_NUM</td>\n",
       "      <td>I-ID_NUM</td>\n",
       "      <td>B-</td>\n",
       "    </tr>\n",
       "    <tr>\n",
       "      <th>2735</th>\n",
       "      <td>19280</td>\n",
       "      <td>54</td>\n",
       "      <td>Z.S.</td>\n",
       "      <td>B-ID_NUM</td>\n",
       "      <td>B-ID_NUM</td>\n",
       "      <td>B-</td>\n",
       "    </tr>\n",
       "    <tr>\n",
       "      <th>2736</th>\n",
       "      <td>20984</td>\n",
       "      <td>6</td>\n",
       "      <td>V69230</td>\n",
       "      <td>B-ID_NUM</td>\n",
       "      <td>B-ID_NUM</td>\n",
       "      <td>B-</td>\n",
       "    </tr>\n",
       "  </tbody>\n",
       "</table>\n",
       "<p>2737 rows × 6 columns</p>\n",
       "</div>"
      ],
      "text/plain": [
       "      document  token_i     token         predict           label prefix\n",
       "0            7        9  Nathalie  B-NAME_STUDENT  B-NAME_STUDENT     B-\n",
       "1            7       10     Sylla  I-NAME_STUDENT  I-NAME_STUDENT     I-\n",
       "2            7      482  Nathalie  B-NAME_STUDENT  B-NAME_STUDENT     B-\n",
       "3            7      483     Sylla  I-NAME_STUDENT  I-NAME_STUDENT     I-\n",
       "4            7      741  Nathalie  B-NAME_STUDENT  B-NAME_STUDENT     B-\n",
       "...        ...      ...       ...             ...             ...    ...\n",
       "2732     15717      365   IV-8322        B-ID_NUM        B-ID_NUM     B-\n",
       "2733     15717      964   IV-8322        B-ID_NUM        B-ID_NUM     B-\n",
       "2734     19280       55  30407059        B-ID_NUM        I-ID_NUM     B-\n",
       "2735     19280       54      Z.S.        B-ID_NUM        B-ID_NUM     B-\n",
       "2736     20984        6    V69230        B-ID_NUM        B-ID_NUM     B-\n",
       "\n",
       "[2737 rows x 6 columns]"
      ]
     },
     "execution_count": 12,
     "metadata": {},
     "output_type": "execute_result"
    }
   ],
   "source": [
    "predict_table"
   ]
  },
  {
   "cell_type": "code",
   "execution_count": 13,
   "metadata": {},
   "outputs": [
    {
     "data": {
      "text/html": [
       "<div>\n",
       "<style scoped>\n",
       "    .dataframe tbody tr th:only-of-type {\n",
       "        vertical-align: middle;\n",
       "    }\n",
       "\n",
       "    .dataframe tbody tr th {\n",
       "        vertical-align: top;\n",
       "    }\n",
       "\n",
       "    .dataframe thead th {\n",
       "        text-align: right;\n",
       "    }\n",
       "</style>\n",
       "<table border=\"1\" class=\"dataframe\">\n",
       "  <thead>\n",
       "    <tr style=\"text-align: right;\">\n",
       "      <th></th>\n",
       "      <th>predict</th>\n",
       "      <th>label</th>\n",
       "    </tr>\n",
       "  </thead>\n",
       "  <tbody>\n",
       "    <tr>\n",
       "      <th>0</th>\n",
       "      <td>B-ID_NUM</td>\n",
       "      <td>1</td>\n",
       "    </tr>\n",
       "    <tr>\n",
       "      <th>1</th>\n",
       "      <td>B-NAME_STUDENT</td>\n",
       "      <td>366</td>\n",
       "    </tr>\n",
       "    <tr>\n",
       "      <th>2</th>\n",
       "      <td>B-O</td>\n",
       "      <td>211</td>\n",
       "    </tr>\n",
       "    <tr>\n",
       "      <th>3</th>\n",
       "      <td>B-STREET_ADDRESS</td>\n",
       "      <td>10</td>\n",
       "    </tr>\n",
       "    <tr>\n",
       "      <th>4</th>\n",
       "      <td>B-USERNAME</td>\n",
       "      <td>1</td>\n",
       "    </tr>\n",
       "    <tr>\n",
       "      <th>5</th>\n",
       "      <td>I-O</td>\n",
       "      <td>7</td>\n",
       "    </tr>\n",
       "  </tbody>\n",
       "</table>\n",
       "</div>"
      ],
      "text/plain": [
       "            predict  label\n",
       "0          B-ID_NUM      1\n",
       "1    B-NAME_STUDENT    366\n",
       "2               B-O    211\n",
       "3  B-STREET_ADDRESS     10\n",
       "4        B-USERNAME      1\n",
       "5               I-O      7"
      ]
     },
     "execution_count": 13,
     "metadata": {},
     "output_type": "execute_result"
    }
   ],
   "source": [
    "predict_table.loc[predict_table.predict != predict_table.label].groupby('predict', as_index=False).label.count()"
   ]
  },
  {
   "cell_type": "code",
   "execution_count": 12,
   "metadata": {},
   "outputs": [
    {
     "data": {
      "text/html": [
       "<div>\n",
       "<style scoped>\n",
       "    .dataframe tbody tr th:only-of-type {\n",
       "        vertical-align: middle;\n",
       "    }\n",
       "\n",
       "    .dataframe tbody tr th {\n",
       "        vertical-align: top;\n",
       "    }\n",
       "\n",
       "    .dataframe thead th {\n",
       "        text-align: right;\n",
       "    }\n",
       "</style>\n",
       "<table border=\"1\" class=\"dataframe\">\n",
       "  <thead>\n",
       "    <tr style=\"text-align: right;\">\n",
       "      <th></th>\n",
       "      <th>document</th>\n",
       "      <th>token_i</th>\n",
       "      <th>token</th>\n",
       "      <th>predict</th>\n",
       "      <th>label</th>\n",
       "      <th>prefix</th>\n",
       "      <th>upper_start</th>\n",
       "    </tr>\n",
       "  </thead>\n",
       "  <tbody>\n",
       "    <tr>\n",
       "      <th>0</th>\n",
       "      <td>7</td>\n",
       "      <td>9</td>\n",
       "      <td>Nathalie</td>\n",
       "      <td>B-NAME_STUDENT</td>\n",
       "      <td>B-NAME_STUDENT</td>\n",
       "      <td>B-</td>\n",
       "      <td>1</td>\n",
       "    </tr>\n",
       "    <tr>\n",
       "      <th>1</th>\n",
       "      <td>7</td>\n",
       "      <td>10</td>\n",
       "      <td>Sylla</td>\n",
       "      <td>I-NAME_STUDENT</td>\n",
       "      <td>I-NAME_STUDENT</td>\n",
       "      <td>I-</td>\n",
       "      <td>1</td>\n",
       "    </tr>\n",
       "    <tr>\n",
       "      <th>2</th>\n",
       "      <td>7</td>\n",
       "      <td>482</td>\n",
       "      <td>Nathalie</td>\n",
       "      <td>B-NAME_STUDENT</td>\n",
       "      <td>B-NAME_STUDENT</td>\n",
       "      <td>B-</td>\n",
       "      <td>1</td>\n",
       "    </tr>\n",
       "    <tr>\n",
       "      <th>3</th>\n",
       "      <td>7</td>\n",
       "      <td>483</td>\n",
       "      <td>Sylla</td>\n",
       "      <td>I-NAME_STUDENT</td>\n",
       "      <td>I-NAME_STUDENT</td>\n",
       "      <td>I-</td>\n",
       "      <td>1</td>\n",
       "    </tr>\n",
       "    <tr>\n",
       "      <th>4</th>\n",
       "      <td>7</td>\n",
       "      <td>741</td>\n",
       "      <td>Nathalie</td>\n",
       "      <td>B-NAME_STUDENT</td>\n",
       "      <td>B-NAME_STUDENT</td>\n",
       "      <td>B-</td>\n",
       "      <td>1</td>\n",
       "    </tr>\n",
       "    <tr>\n",
       "      <th>...</th>\n",
       "      <td>...</td>\n",
       "      <td>...</td>\n",
       "      <td>...</td>\n",
       "      <td>...</td>\n",
       "      <td>...</td>\n",
       "      <td>...</td>\n",
       "      <td>...</td>\n",
       "    </tr>\n",
       "    <tr>\n",
       "      <th>2639</th>\n",
       "      <td>22147</td>\n",
       "      <td>457</td>\n",
       "      <td>Francesca</td>\n",
       "      <td>B-NAME_STUDENT</td>\n",
       "      <td>O</td>\n",
       "      <td>B-</td>\n",
       "      <td>1</td>\n",
       "    </tr>\n",
       "    <tr>\n",
       "      <th>2640</th>\n",
       "      <td>22147</td>\n",
       "      <td>1408</td>\n",
       "      <td>Melanie</td>\n",
       "      <td>B-NAME_STUDENT</td>\n",
       "      <td>O</td>\n",
       "      <td>B-</td>\n",
       "      <td>1</td>\n",
       "    </tr>\n",
       "    <tr>\n",
       "      <th>2641</th>\n",
       "      <td>22181</td>\n",
       "      <td>738</td>\n",
       "      <td>Portman</td>\n",
       "      <td>B-NAME_STUDENT</td>\n",
       "      <td>O</td>\n",
       "      <td>B-</td>\n",
       "      <td>1</td>\n",
       "    </tr>\n",
       "    <tr>\n",
       "      <th>2642</th>\n",
       "      <td>22181</td>\n",
       "      <td>736</td>\n",
       "      <td>Natalie</td>\n",
       "      <td>B-NAME_STUDENT</td>\n",
       "      <td>O</td>\n",
       "      <td>B-</td>\n",
       "      <td>1</td>\n",
       "    </tr>\n",
       "    <tr>\n",
       "      <th>2643</th>\n",
       "      <td>22206</td>\n",
       "      <td>108</td>\n",
       "      <td>René</td>\n",
       "      <td>B-NAME_STUDENT</td>\n",
       "      <td>O</td>\n",
       "      <td>B-</td>\n",
       "      <td>1</td>\n",
       "    </tr>\n",
       "  </tbody>\n",
       "</table>\n",
       "<p>2644 rows × 7 columns</p>\n",
       "</div>"
      ],
      "text/plain": [
       "      document  token_i      token         predict           label prefix  \\\n",
       "0            7        9   Nathalie  B-NAME_STUDENT  B-NAME_STUDENT     B-   \n",
       "1            7       10      Sylla  I-NAME_STUDENT  I-NAME_STUDENT     I-   \n",
       "2            7      482   Nathalie  B-NAME_STUDENT  B-NAME_STUDENT     B-   \n",
       "3            7      483      Sylla  I-NAME_STUDENT  I-NAME_STUDENT     I-   \n",
       "4            7      741   Nathalie  B-NAME_STUDENT  B-NAME_STUDENT     B-   \n",
       "...        ...      ...        ...             ...             ...    ...   \n",
       "2639     22147      457  Francesca  B-NAME_STUDENT               O     B-   \n",
       "2640     22147     1408    Melanie  B-NAME_STUDENT               O     B-   \n",
       "2641     22181      738    Portman  B-NAME_STUDENT               O     B-   \n",
       "2642     22181      736    Natalie  B-NAME_STUDENT               O     B-   \n",
       "2643     22206      108       René  B-NAME_STUDENT               O     B-   \n",
       "\n",
       "     upper_start  \n",
       "0              1  \n",
       "1              1  \n",
       "2              1  \n",
       "3              1  \n",
       "4              1  \n",
       "...          ...  \n",
       "2639           1  \n",
       "2640           1  \n",
       "2641           1  \n",
       "2642           1  \n",
       "2643           1  \n",
       "\n",
       "[2644 rows x 7 columns]"
      ]
     },
     "execution_count": 12,
     "metadata": {},
     "output_type": "execute_result"
    }
   ],
   "source": [
    "predict_table"
   ]
  },
  {
   "cell_type": "code",
   "execution_count": null,
   "metadata": {},
   "outputs": [],
   "source": []
  }
 ],
 "metadata": {
  "kernelspec": {
   "display_name": "Python 3",
   "language": "python",
   "name": "python3"
  },
  "language_info": {
   "codemirror_mode": {
    "name": "ipython",
    "version": 3
   },
   "file_extension": ".py",
   "mimetype": "text/x-python",
   "name": "python",
   "nbconvert_exporter": "python",
   "pygments_lexer": "ipython3",
   "version": "3.10.11"
  }
 },
 "nbformat": 4,
 "nbformat_minor": 2
}
