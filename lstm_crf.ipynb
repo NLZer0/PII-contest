{
 "cells": [
  {
   "cell_type": "code",
   "execution_count": 1,
   "metadata": {},
   "outputs": [],
   "source": [
    "import gc\n",
    "import json\n",
    "from importlib import reload\n",
    "\n",
    "import torch\n",
    "import numpy as np\n",
    "import pandas as pd \n",
    "from tqdm.auto import tqdm\n",
    "from sklearn.metrics import balanced_accuracy_score, f1_score, confusion_matrix\n",
    "\n",
    "from nn_module import BiLSTM_CRF"
   ]
  },
  {
   "cell_type": "code",
   "execution_count": 2,
   "metadata": {},
   "outputs": [],
   "source": [
    "def data_label_split(data, label, train_size=0.8):\n",
    "    randidx = np.arange(len(data))\n",
    "    data_train, data_test = train_test_split(data, randidx, train_size)\n",
    "    label_train, label_test = train_test_split(label, randidx, train_size)\n",
    "\n",
    "    return data_train, data_test, label_train, label_test\n",
    "\n",
    "def train_test_split(data, randidx, train_size):\n",
    "    N = len(data)\n",
    "    return [data[i] for i in randidx[:int(train_size*N)]], [data[i] for i in randidx[int(train_size*N):]]\n",
    "\n",
    "def shuffle_data_label_lists(data, label):\n",
    "    randidx = np.arange(len(data))\n",
    "    np.random.shuffle(randidx)\n",
    "    return [data[i] for i in randidx], [label[i] for i in randidx]\n",
    "\n",
    "def embedding(data, token2emb, label2num):\n",
    "    tokens_lst = []\n",
    "    labels_lst = []\n",
    "\n",
    "    for doc in tqdm(data):\n",
    "        tokens = map(lambda x: x.replace('\\t', '').replace('\\n', '').replace(' ', ''), doc['tokens'])\n",
    "        emb_tokens = torch.zeros(len(doc['tokens']), 300)\n",
    "        for i, token in enumerate(tokens):\n",
    "            if token in token2emb:\n",
    "                emb_tokens[i] = torch.FloatTensor(token2emb[token])\n",
    "            else:\n",
    "                for it in token:\n",
    "                    emb_tokens[i] += torch.FloatTensor(token2emb[it] if it in token2emb else [0]*300)\n",
    "\n",
    "        tokens_lst.append(torch.FloatTensor(emb_tokens))\n",
    "        labels_lst.append(torch.LongTensor([label2num[it] if it in label2num else 0 for it in doc['labels']]))\n",
    "        \n",
    "    return tokens_lst, labels_lst\n",
    "\n",
    "def batch_split(X, Y, batch_size=1000):\n",
    "    x_batched = []\n",
    "    y_batched = []\n",
    "\n",
    "    n = len(X)\n",
    "    pointer = 0\n",
    "    while pointer + batch_size < n:\n",
    "        x_batched.append(X[pointer:pointer+batch_size])\n",
    "        y_batched.append(Y[pointer:pointer+batch_size])\n",
    "        pointer += batch_size \n",
    "    \n",
    "    x_batched.append(X[pointer:])\n",
    "    y_batched.append(Y[pointer:])\n",
    "\n",
    "    return x_batched, y_batched\n",
    "\n",
    "def fix_label_disbalance(tokens, labels):\n",
    "    label_idxs = {}\n",
    "    for i in range(len(labels)):\n",
    "        unique_labels = np.unique(labels[i])\n",
    "        for lab in unique_labels:\n",
    "            if lab in label_idxs:\n",
    "                label_idxs[lab].append(i)\n",
    "            else:\n",
    "                label_idxs[lab] = [i]\n",
    "\n",
    "    idxs = []\n",
    "    count_o = len(label_idxs[0])\n",
    "    del label_idxs[0]\n",
    "\n",
    "    for it in label_idxs:\n",
    "        scale = count_o // len(label_idxs[it])\n",
    "        idxs += label_idxs[it]*scale\n",
    "\n",
    "    np.random.shuffle(idxs)\n",
    "    tokens = [tokens[i] for i in idxs]\n",
    "    labels = [labels[i] for i in idxs]\n",
    "\n",
    "    return tokens, labels"
   ]
  },
  {
   "cell_type": "code",
   "execution_count": 3,
   "metadata": {},
   "outputs": [],
   "source": [
    "# create table for name and address\n",
    "label2num = {\n",
    "    'O': 0,\n",
    "    'B-NAME_STUDENT': 1, \n",
    "    'I-NAME_STUDENT': 2, \n",
    "    'B-STREET_ADDRESS': 3, \n",
    "    'I-STREET_ADDRESS': 4, \n",
    "    'B-USERNAME': 5,\n",
    "    'I-USERNAME': 6, \n",
    "    'B-ID_NUM': 7, \n",
    "    'I-ID_NUM': 8, \n",
    "    'B-URL_PERSONAL': 9,\n",
    "    'I-URL_PERSONAL': 10,\n",
    "    'B-EMAIL': 11,\n",
    "    'I-EMAIL': 12,\n",
    "    'B-PHONE_NUM': 13,\n",
    "    'I-PHONE_NUM': 14,\n",
    "    '<START>': 15, \n",
    "    '<STOP>': 16,\n",
    "}\n",
    "\n",
    "num2label = {\n",
    "    0: 'O',\n",
    "    1: 'B-NAME_STUDENT',  \n",
    "    2: 'I-NAME_STUDENT',  \n",
    "    3: 'B-STREET_ADDRESS',  \n",
    "    4: 'I-STREET_ADDRESS',  \n",
    "    5: 'B-USERNAME', \n",
    "    6: 'I-USERNAME',  \n",
    "    7: 'B-ID_NUM',  \n",
    "    8: 'I-ID_NUM', \n",
    "    9: 'B-URL_PERSONAL',\n",
    "    10: 'I-URL_PERSONAL',\n",
    "    11: 'B-EMAIL',\n",
    "    12: 'I-EMAIL',\n",
    "    13: 'B-PHONE_NUM',\n",
    "    14: 'I-PHONE_NUM',\n",
    "    15: '<START>', \n",
    "    16: '<STOP>',\n",
    "}"
   ]
  },
  {
   "cell_type": "code",
   "execution_count": 4,
   "metadata": {},
   "outputs": [
    {
     "data": {
      "application/vnd.jupyter.widget-view+json": {
       "model_id": "c760f0e4e3544458898d33ff1e5e14a7",
       "version_major": 2,
       "version_minor": 0
      },
      "text/plain": [
       "0it [00:00, ?it/s]"
      ]
     },
     "metadata": {},
     "output_type": "display_data"
    }
   ],
   "source": [
    "# load fastext\n",
    "token2emb = {}\n",
    "with open('wiki-news-300d-1M.vec', 'r', encoding='utf-8') as f:\n",
    "    next(f)\n",
    "    for it in tqdm(f):\n",
    "        row = it.split(' ')\n",
    "        token2emb[row[0]] = list(map(float, row[1:]))"
   ]
  },
  {
   "cell_type": "code",
   "execution_count": 5,
   "metadata": {},
   "outputs": [
    {
     "data": {
      "application/vnd.jupyter.widget-view+json": {
       "model_id": "80cea27e6caf463c97798df4dc81064a",
       "version_major": 2,
       "version_minor": 0
      },
      "text/plain": [
       "  0%|          | 0/9162 [00:00<?, ?it/s]"
      ]
     },
     "metadata": {},
     "output_type": "display_data"
    }
   ],
   "source": [
    "# encoding tokens and labels\n",
    "with open('data/mixtral-8x7b-v1.json', 'r', encoding='utf-8') as f:\n",
    "    data_1 = json.load(f)\n",
    "with open('data/train.json', 'r', encoding='utf-8') as f:\n",
    "    data_2 = json.load(f)\n",
    "data = data_1 + data_2\n",
    "\n",
    "data_tokens = []\n",
    "data_labels = []\n",
    "for doc in tqdm(data):\n",
    "    row_tokens = []\n",
    "    row_labels = []\n",
    "\n",
    "    for i, (token, label) in enumerate(zip(doc['tokens'], doc['labels'])):\n",
    "        emb_tokens = torch.zeros(300)\n",
    "        \n",
    "        if token in token2emb:\n",
    "            emb_tokens = torch.FloatTensor(token2emb[token])\n",
    "        else:\n",
    "            for it in token:\n",
    "                emb_tokens += torch.FloatTensor(token2emb[it] if it in token2emb else [0]*300)\n",
    "\n",
    "        row_tokens.append(emb_tokens.unsqueeze(0))\n",
    "        row_labels.append(label2num[label])\n",
    "\n",
    "        if token.endswith('\\n'):\n",
    "            data_tokens.append(torch.cat(row_tokens))\n",
    "            data_labels.append(torch.LongTensor(row_labels))\n",
    "\n",
    "            row_tokens = []\n",
    "            row_labels = []\n",
    "\n",
    "data = []\n",
    "token2emb = None\n",
    "gc.collect()\n",
    "\n",
    "N = len(data_tokens)\n",
    "np.random.seed(123)\n",
    "data_idx = np.arange(N)\n",
    "np.random.shuffle(data_idx)\n",
    "data_tokens = [data_tokens[i] for i in data_idx]\n",
    "data_labels = [data_labels[i] for i in data_idx]\n",
    "\n",
    "train_size = 0.85\n",
    "n = int(N*train_size)\n",
    "train_tokens, valid_tokens = data_tokens[:n], data_tokens[n:]\n",
    "train_labels, valid_labels = data_labels[:n], data_labels[n:]"
   ]
  },
  {
   "cell_type": "code",
   "execution_count": 33,
   "metadata": {},
   "outputs": [
    {
     "data": {
      "application/vnd.jupyter.widget-view+json": {
       "model_id": "bae2933191be48d29ea32b330396e8a1",
       "version_major": 2,
       "version_minor": 0
      },
      "text/plain": [
       "  0%|          | 0/1 [00:00<?, ?it/s]"
      ]
     },
     "metadata": {},
     "output_type": "display_data"
    },
    {
     "data": {
      "application/vnd.jupyter.widget-view+json": {
       "model_id": "b15b74dc764941b5b32565caf4a6ce8c",
       "version_major": 2,
       "version_minor": 0
      },
      "text/plain": [
       "0it [00:00, ?it/s]"
      ]
     },
     "metadata": {},
     "output_type": "display_data"
    }
   ],
   "source": [
    "device = 'cuda' if torch.cuda.is_available() else 'cpu'\n",
    "# device = 'cpu'\n",
    "\n",
    "import nn_module    \n",
    "reload(nn_module)\n",
    "from nn_module import BiLSTM_CRF\n",
    "\n",
    "# fit lstm\n",
    "model = BiLSTM_CRF(\n",
    "    embedding_dim=300,\n",
    "    hidden_size=32,\n",
    "    nclasses=17,\n",
    "    label2num=label2num,\n",
    "    device=device,\n",
    ")\n",
    "\n",
    "# checkpoint = torch.load('saved_models/bi_lstm.pt')\n",
    "# model.load_state_dict(checkpoint['model_state_dict'])\n",
    "# model.optim.load_state_dict(checkpoint['optimizer_state_dict'])\n",
    "\n",
    "model.fit(\n",
    "    train_X=train_tokens,\n",
    "    train_Y=train_labels,\n",
    "    valid_X=valid_tokens,\n",
    "    valid_Y=valid_labels,\n",
    "    nepochs=1,\n",
    "    lr=1e-3,\n",
    "    device=device\n",
    ")"
   ]
  },
  {
   "cell_type": "code",
   "execution_count": 26,
   "metadata": {},
   "outputs": [
    {
     "name": "stdout",
     "output_type": "stream",
     "text": [
      "torch.Size([5, 19])\n"
     ]
    }
   ],
   "source": [
    "with torch.no_grad():\n",
    "    score, predict = model.forward(train_tokens[0], device=device)"
   ]
  },
  {
   "cell_type": "code",
   "execution_count": 27,
   "metadata": {},
   "outputs": [
    {
     "data": {
      "text/plain": [
       "tensor([1, 7, 5, 7, 5])"
      ]
     },
     "execution_count": 27,
     "metadata": {},
     "output_type": "execute_result"
    }
   ],
   "source": [
    "predict"
   ]
  },
  {
   "cell_type": "code",
   "execution_count": 12,
   "metadata": {},
   "outputs": [],
   "source": [
    "torch.save({\n",
    "    'model_state_dict': model.state_dict(),\n",
    "    'optimizer_state_dict': model.optim.state_dict(),\n",
    "    }, 'saved_models/bi_lstm.pt')"
   ]
  },
  {
   "cell_type": "code",
   "execution_count": 6,
   "metadata": {},
   "outputs": [
    {
     "data": {
      "application/vnd.jupyter.widget-view+json": {
       "model_id": "c221f18486d4488aa63688acc7c56600",
       "version_major": 2,
       "version_minor": 0
      },
      "text/plain": [
       "0it [00:00, ?it/s]"
      ]
     },
     "metadata": {},
     "output_type": "display_data"
    },
    {
     "data": {
      "application/vnd.jupyter.widget-view+json": {
       "model_id": "15ea666843224c64ad1b55348ea6e85c",
       "version_major": 2,
       "version_minor": 0
      },
      "text/plain": [
       "  0%|          | 0/2749 [00:00<?, ?it/s]"
      ]
     },
     "metadata": {},
     "output_type": "display_data"
    },
    {
     "data": {
      "text/plain": [
       "39"
      ]
     },
     "execution_count": 6,
     "metadata": {},
     "output_type": "execute_result"
    }
   ],
   "source": [
    "token2emb = {}\n",
    "\n",
    "with open('wiki-news-300d-1M.vec', 'r', encoding='utf-8') as f:\n",
    "    next(f)\n",
    "    for it in tqdm(f):\n",
    "        row = it.split(' ')\n",
    "        token2emb[row[0]] = list(map(float, row[1:]))\n",
    "\n",
    "valid_tokens, valid_labels = embedding(valid_data, token2emb, label2num)\n",
    "\n",
    "# clearing token2emb memory\n",
    "token2emb = None\n",
    "import gc\n",
    "gc.collect()"
   ]
  },
  {
   "cell_type": "code",
   "execution_count": 10,
   "metadata": {},
   "outputs": [
    {
     "data": {
      "application/vnd.jupyter.widget-view+json": {
       "model_id": "747373d8043143d8bfcfad5e1193aa87",
       "version_major": 2,
       "version_minor": 0
      },
      "text/plain": [
       "  0%|          | 0/2749 [00:00<?, ?it/s]"
      ]
     },
     "metadata": {},
     "output_type": "display_data"
    }
   ],
   "source": [
    "device = 'cpu'\n",
    "model.to(device)\n",
    "\n",
    "valid_predict = []\n",
    "with torch.no_grad():\n",
    "    for batch_X in tqdm(valid_tokens):\n",
    "        predict = model.forward(batch_X, device=device)[1]\n",
    "        valid_predict += predict"
   ]
  },
  {
   "cell_type": "code",
   "execution_count": 11,
   "metadata": {},
   "outputs": [],
   "source": [
    "real = torch.cat(valid_labels)\n",
    "valid_predict = torch.FloatTensor(valid_predict)"
   ]
  },
  {
   "cell_type": "code",
   "execution_count": 18,
   "metadata": {},
   "outputs": [
    {
     "data": {
      "text/plain": [
       "0.9706940488682356"
      ]
     },
     "execution_count": 18,
     "metadata": {},
     "output_type": "execute_result"
    }
   ],
   "source": [
    "f1_score(real[valid_predict != 0], valid_predict[valid_predict != 0], average='micro')"
   ]
  },
  {
   "cell_type": "code",
   "execution_count": 10,
   "metadata": {},
   "outputs": [
    {
     "name": "stdout",
     "output_type": "stream",
     "text": [
      "BA: 0.994\n"
     ]
    }
   ],
   "source": [
    "with torch.no_grad():\n",
    "    valid_predict = []\n",
    "    for batch_X in valid_tokens:\n",
    "        predict = model(batch_X.to(device)).cpu()\n",
    "        valid_predict.append(torch.argmax(predict, dim=1))\n",
    "    valid_predict = torch.cat(valid_predict)\n",
    "    valid_real = torch.cat(valid_labels)\n",
    "    print(f'BA: {balanced_accuracy_score(valid_real, valid_predict):.3f}')"
   ]
  },
  {
   "cell_type": "code",
   "execution_count": 16,
   "metadata": {},
   "outputs": [
    {
     "data": {
      "text/html": [
       "<div>\n",
       "<style scoped>\n",
       "    .dataframe tbody tr th:only-of-type {\n",
       "        vertical-align: middle;\n",
       "    }\n",
       "\n",
       "    .dataframe tbody tr th {\n",
       "        vertical-align: top;\n",
       "    }\n",
       "\n",
       "    .dataframe thead th {\n",
       "        text-align: right;\n",
       "    }\n",
       "</style>\n",
       "<table border=\"1\" class=\"dataframe\">\n",
       "  <thead>\n",
       "    <tr style=\"text-align: right;\">\n",
       "      <th></th>\n",
       "      <th>O</th>\n",
       "      <th>NAME_STUDENT</th>\n",
       "      <th>STREET_ADDRESS</th>\n",
       "      <th>USERNAME</th>\n",
       "      <th>ID_NUM</th>\n",
       "    </tr>\n",
       "  </thead>\n",
       "  <tbody>\n",
       "    <tr>\n",
       "      <th>0</th>\n",
       "      <td>2096363</td>\n",
       "      <td>433</td>\n",
       "      <td>10</td>\n",
       "      <td>22</td>\n",
       "      <td>16</td>\n",
       "    </tr>\n",
       "    <tr>\n",
       "      <th>1</th>\n",
       "      <td>48</td>\n",
       "      <td>4734</td>\n",
       "      <td>2</td>\n",
       "      <td>3</td>\n",
       "      <td>0</td>\n",
       "    </tr>\n",
       "    <tr>\n",
       "      <th>2</th>\n",
       "      <td>0</td>\n",
       "      <td>0</td>\n",
       "      <td>6565</td>\n",
       "      <td>0</td>\n",
       "      <td>0</td>\n",
       "    </tr>\n",
       "    <tr>\n",
       "      <th>3</th>\n",
       "      <td>9</td>\n",
       "      <td>0</td>\n",
       "      <td>0</td>\n",
       "      <td>732</td>\n",
       "      <td>0</td>\n",
       "    </tr>\n",
       "    <tr>\n",
       "      <th>4</th>\n",
       "      <td>5</td>\n",
       "      <td>0</td>\n",
       "      <td>0</td>\n",
       "      <td>0</td>\n",
       "      <td>1036</td>\n",
       "    </tr>\n",
       "  </tbody>\n",
       "</table>\n",
       "</div>"
      ],
      "text/plain": [
       "         O  NAME_STUDENT  STREET_ADDRESS  USERNAME  ID_NUM\n",
       "0  2096363           433              10        22      16\n",
       "1       48          4734               2         3       0\n",
       "2        0             0            6565         0       0\n",
       "3        9             0               0       732       0\n",
       "4        5             0               0         0    1036"
      ]
     },
     "execution_count": 16,
     "metadata": {},
     "output_type": "execute_result"
    }
   ],
   "source": [
    "columns = [\n",
    "    'O',\n",
    "    'NAME_STUDENT',\n",
    "    'STREET_ADDRESS',\n",
    "    'USERNAME',\n",
    "    'ID_NUM',\n",
    "]\n",
    "\n",
    "pd.DataFrame(confusion_matrix(valid_real, valid_predict), columns=columns)"
   ]
  },
  {
   "cell_type": "code",
   "execution_count": 8,
   "metadata": {},
   "outputs": [
    {
     "name": "stdout",
     "output_type": "stream",
     "text": [
      "BA: 1.000\n",
      "F1: 1.000\n"
     ]
    }
   ],
   "source": [
    "with torch.no_grad():\n",
    "    train_predict = []\n",
    "    train_proba = []\n",
    "    for batch_X in train_tokens:\n",
    "        predict = model(batch_X.to(device)).cpu()\n",
    "        train_proba.append(predict[:, 1])\n",
    "        train_predict.append(torch.argmax(predict, dim=1))\n",
    "    \n",
    "    train_predict = torch.cat(train_predict)\n",
    "    train_proba = torch.cat(train_proba)\n",
    "    train_real = torch.cat(train_labels)\n",
    "\n",
    "    print(f'BA: {balanced_accuracy_score(train_real, train_predict):.3f}')\n",
    "    print(f'F1: {f1_score(train_real, train_predict, average=\"micro\"):.3f}')\n",
    "\n",
    "with torch.no_grad():\n",
    "    valid_predict = []\n",
    "    valid_proba = []\n",
    "    for batch_X in valid_tokens:\n",
    "        predict = model(batch_X.to(device)).cpu()\n",
    "        valid_proba.append(predict[:, 1])\n",
    "        valid_predict.append(torch.argmax(predict, dim=1))\n",
    "\n",
    "    valid_predict = torch.cat(valid_predict)\n",
    "    valid_proba = torch.cat(valid_proba)\n",
    "    valid_real = torch.cat(valid_labels)\n",
    "\n",
    "    print(f'BA: {balanced_accuracy_score(valid_real, valid_predict):.3f}')\n",
    "    print(f'F1: {f1_score(valid_real, valid_predict, average=\"micro\"):.3f}')"
   ]
  },
  {
   "cell_type": "code",
   "execution_count": 11,
   "metadata": {},
   "outputs": [
    {
     "data": {
      "text/html": [
       "<div>\n",
       "<style scoped>\n",
       "    .dataframe tbody tr th:only-of-type {\n",
       "        vertical-align: middle;\n",
       "    }\n",
       "\n",
       "    .dataframe tbody tr th {\n",
       "        vertical-align: top;\n",
       "    }\n",
       "\n",
       "    .dataframe thead th {\n",
       "        text-align: right;\n",
       "    }\n",
       "</style>\n",
       "<table border=\"1\" class=\"dataframe\">\n",
       "  <thead>\n",
       "    <tr style=\"text-align: right;\">\n",
       "      <th></th>\n",
       "      <th>O</th>\n",
       "      <th>NAME_STUDENT</th>\n",
       "      <th>STREET_ADDRESS</th>\n",
       "    </tr>\n",
       "  </thead>\n",
       "  <tbody>\n",
       "    <tr>\n",
       "      <th>0</th>\n",
       "      <td>1671929</td>\n",
       "      <td>130</td>\n",
       "      <td>12</td>\n",
       "    </tr>\n",
       "    <tr>\n",
       "      <th>1</th>\n",
       "      <td>103</td>\n",
       "      <td>3815</td>\n",
       "      <td>1</td>\n",
       "    </tr>\n",
       "    <tr>\n",
       "      <th>2</th>\n",
       "      <td>0</td>\n",
       "      <td>0</td>\n",
       "      <td>5364</td>\n",
       "    </tr>\n",
       "  </tbody>\n",
       "</table>\n",
       "</div>"
      ],
      "text/plain": [
       "         O  NAME_STUDENT  STREET_ADDRESS\n",
       "0  1671929           130              12\n",
       "1      103          3815               1\n",
       "2        0             0            5364"
      ]
     },
     "execution_count": 11,
     "metadata": {},
     "output_type": "execute_result"
    }
   ],
   "source": [
    "columns = [\n",
    "    'O',\n",
    "    'NAME_STUDENT',\n",
    "    'STREET_ADDRESS',\n",
    "    # 'USERNAME',\n",
    "    # 'ID_NUM',\n",
    "]\n",
    "\n",
    "pd.DataFrame(confusion_matrix(valid_real, valid_predict), columns=columns)"
   ]
  },
  {
   "cell_type": "code",
   "execution_count": 9,
   "metadata": {},
   "outputs": [
    {
     "data": {
      "text/plain": [
       "1119"
      ]
     },
     "execution_count": 9,
     "metadata": {},
     "output_type": "execute_result"
    }
   ],
   "source": [
    "token2emb = []\n",
    "train_tokens = []\n",
    "train_labels = []\n",
    "test_tokens = []\n",
    "test_labels = []\n",
    "\n",
    "import gc\n",
    "gc.collect()"
   ]
  },
  {
   "cell_type": "code",
   "execution_count": 4,
   "metadata": {},
   "outputs": [
    {
     "name": "stdout",
     "output_type": "stream",
     "text": [
      "\n"
     ]
    }
   ],
   "source": [
    "device = 'cuda' if torch.cuda.is_available() else 'cpu'\n",
    "\n",
    "model = BiLSTM_CRF(\n",
    "    embedding_dim=300,\n",
    "    hidden_size=32,\n",
    "    nclasses=11,\n",
    "    label2num=label2num,\n",
    "    device=device,\n",
    ")\n",
    "\n",
    "checkpoint = torch.load('saved_models/bi_lstm.pt')\n",
    "model.load_state_dict(checkpoint['model_state_dict'])\n",
    "model.optim.load_state_dict(checkpoint['optimizer_state_dict'])\n",
    "model.eval()\n",
    "model.to(device)\n",
    "print()"
   ]
  },
  {
   "cell_type": "code",
   "execution_count": 5,
   "metadata": {},
   "outputs": [
    {
     "data": {
      "application/vnd.jupyter.widget-view+json": {
       "model_id": "00d7bfc551ca4a95a5eafcdbc9378159",
       "version_major": 2,
       "version_minor": 0
      },
      "text/plain": [
       "0it [00:00, ?it/s]"
      ]
     },
     "metadata": {},
     "output_type": "display_data"
    }
   ],
   "source": [
    "token2emb = {}\n",
    "with open('wiki-news-300d-1M.vec', 'r', encoding='utf-8') as f:\n",
    "    next(f)\n",
    "    for it in tqdm(f):\n",
    "        row = it.split(' ')\n",
    "        token2emb[row[0]] = list(map(float, row[1:]))"
   ]
  },
  {
   "cell_type": "code",
   "execution_count": 6,
   "metadata": {},
   "outputs": [],
   "source": [
    "def check_name(x):\n",
    "    flag = False\n",
    "    flag = x[0].isupper()\n",
    "    for it in x[1:]:\n",
    "        flag *= it.islower()\n",
    "    return flag\n",
    "\n",
    "def get_predict_table(data, token2emb, num2label, label2num):\n",
    "    data_tokens, _ = embedding(data, token2emb, label2num)\n",
    "    predict_table = [[], [], [], [], []] # document, token_idx, token, predict, real\n",
    "    for i in tqdm(range(len(data))):\n",
    "        with torch.no_grad():\n",
    "            score, predict = model.forward(data_tokens[i].to(device), device=device)\n",
    "            predict = [num2label[it] for it in predict]\n",
    "            predict = ['O' if len(set(x)) < 2 else y for x, y in zip(data[i]['tokens'], predict)]\n",
    "            predict_table[0] += [data[i]['document']]*len(predict)\n",
    "            predict_table[1] += list(range(len(predict)))\n",
    "            predict_table[2] += data[i]['tokens']\n",
    "            predict_table[3] += predict\n",
    "            predict_table[4] += data[i]['labels'] \n",
    "        \n",
    "    predict_table = [[predict_table[0][i], predict_table[1][i], predict_table[2][i], predict_table[3][i], predict_table[4][i]] for i in range(len(predict_table[0]))]\n",
    "    predict_table = pd.DataFrame(predict_table, columns=['document', 'token_i', 'token', 'predict', 'label'])\n",
    "    predict_table = predict_table.loc[(predict_table.label != 'O') & (predict_table.token != \"\\n\") & (predict_table.token != \"\\n\\n\") & (predict_table.token != \"\\t\")].reset_index(drop=True)\n",
    "\n",
    "    return predict_table.sort_values('document').reset_index(drop=True)"
   ]
  },
  {
   "cell_type": "code",
   "execution_count": 7,
   "metadata": {},
   "outputs": [
    {
     "data": {
      "application/vnd.jupyter.widget-view+json": {
       "model_id": "cb258bb1625b4ea883c130263d0e2e48",
       "version_major": 2,
       "version_minor": 0
      },
      "text/plain": [
       "  0%|          | 0/6807 [00:00<?, ?it/s]"
      ]
     },
     "metadata": {},
     "output_type": "display_data"
    },
    {
     "data": {
      "application/vnd.jupyter.widget-view+json": {
       "model_id": "c832fa44c66a41cd822834f1c3958d40",
       "version_major": 2,
       "version_minor": 0
      },
      "text/plain": [
       "  0%|          | 0/6807 [00:00<?, ?it/s]"
      ]
     },
     "metadata": {},
     "output_type": "display_data"
    },
    {
     "ename": "KeyboardInterrupt",
     "evalue": "",
     "output_type": "error",
     "traceback": [
      "\u001b[1;31m---------------------------------------------------------------------------\u001b[0m",
      "\u001b[1;31mKeyboardInterrupt\u001b[0m                         Traceback (most recent call last)",
      "Cell \u001b[1;32mIn [7], line 5\u001b[0m\n\u001b[0;32m      2\u001b[0m \u001b[38;5;28;01mwith\u001b[39;00m \u001b[38;5;28mopen\u001b[39m(\u001b[38;5;124m'\u001b[39m\u001b[38;5;124mdata/train.json\u001b[39m\u001b[38;5;124m'\u001b[39m, \u001b[38;5;124m'\u001b[39m\u001b[38;5;124mr\u001b[39m\u001b[38;5;124m'\u001b[39m, encoding\u001b[38;5;241m=\u001b[39m\u001b[38;5;124m'\u001b[39m\u001b[38;5;124mutf-8\u001b[39m\u001b[38;5;124m'\u001b[39m) \u001b[38;5;28;01mas\u001b[39;00m f:\n\u001b[0;32m      3\u001b[0m     data \u001b[38;5;241m=\u001b[39m json\u001b[38;5;241m.\u001b[39mload(f)\n\u001b[1;32m----> 5\u001b[0m predict_table \u001b[38;5;241m=\u001b[39m \u001b[43mget_predict_table\u001b[49m\u001b[43m(\u001b[49m\u001b[43mdata\u001b[49m\u001b[43m,\u001b[49m\u001b[43m \u001b[49m\u001b[43mtoken2emb\u001b[49m\u001b[43m,\u001b[49m\u001b[43m \u001b[49m\u001b[43mnum2label\u001b[49m\u001b[43m,\u001b[49m\u001b[43m \u001b[49m\u001b[43mlabel2num\u001b[49m\u001b[43m)\u001b[49m\n\u001b[0;32m      6\u001b[0m gc\u001b[38;5;241m.\u001b[39mcollect()\n",
      "Cell \u001b[1;32mIn [6], line 13\u001b[0m, in \u001b[0;36mget_predict_table\u001b[1;34m(data, token2emb, num2label, label2num)\u001b[0m\n\u001b[0;32m     11\u001b[0m \u001b[38;5;28;01mfor\u001b[39;00m i \u001b[38;5;129;01min\u001b[39;00m tqdm(\u001b[38;5;28mrange\u001b[39m(\u001b[38;5;28mlen\u001b[39m(data))):\n\u001b[0;32m     12\u001b[0m     \u001b[38;5;28;01mwith\u001b[39;00m torch\u001b[38;5;241m.\u001b[39mno_grad():\n\u001b[1;32m---> 13\u001b[0m         score, predict \u001b[38;5;241m=\u001b[39m \u001b[43mmodel\u001b[49m\u001b[38;5;241;43m.\u001b[39;49m\u001b[43mforward\u001b[49m\u001b[43m(\u001b[49m\u001b[43mdata_tokens\u001b[49m\u001b[43m[\u001b[49m\u001b[43mi\u001b[49m\u001b[43m]\u001b[49m\u001b[38;5;241;43m.\u001b[39;49m\u001b[43mto\u001b[49m\u001b[43m(\u001b[49m\u001b[43mdevice\u001b[49m\u001b[43m)\u001b[49m\u001b[43m,\u001b[49m\u001b[43m \u001b[49m\u001b[43mdevice\u001b[49m\u001b[38;5;241;43m=\u001b[39;49m\u001b[43mdevice\u001b[49m\u001b[43m)\u001b[49m\n\u001b[0;32m     14\u001b[0m         predict \u001b[38;5;241m=\u001b[39m [num2label[it] \u001b[38;5;28;01mfor\u001b[39;00m it \u001b[38;5;129;01min\u001b[39;00m predict]\n\u001b[0;32m     15\u001b[0m         predict \u001b[38;5;241m=\u001b[39m [\u001b[38;5;124m'\u001b[39m\u001b[38;5;124mO\u001b[39m\u001b[38;5;124m'\u001b[39m \u001b[38;5;28;01mif\u001b[39;00m \u001b[38;5;28mlen\u001b[39m(\u001b[38;5;28mset\u001b[39m(x)) \u001b[38;5;241m<\u001b[39m \u001b[38;5;241m2\u001b[39m \u001b[38;5;28;01melse\u001b[39;00m y \u001b[38;5;28;01mfor\u001b[39;00m x, y \u001b[38;5;129;01min\u001b[39;00m \u001b[38;5;28mzip\u001b[39m(data[i][\u001b[38;5;124m'\u001b[39m\u001b[38;5;124mtokens\u001b[39m\u001b[38;5;124m'\u001b[39m], predict)]\n",
      "File \u001b[1;32mc:\\Users\\zmitrovich.nik\\Desktop\\pii_git\\nn_module.py:157\u001b[0m, in \u001b[0;36mBiLSTM_CRF.forward\u001b[1;34m(self, batch, device)\u001b[0m\n\u001b[0;32m    155\u001b[0m \u001b[38;5;28;01mdef\u001b[39;00m \u001b[38;5;21mforward\u001b[39m(\u001b[38;5;28mself\u001b[39m, batch, device):   \n\u001b[0;32m    156\u001b[0m     lstm_feats \u001b[38;5;241m=\u001b[39m \u001b[38;5;28mself\u001b[39m\u001b[38;5;241m.\u001b[39m_get_lstm_features(batch)\n\u001b[1;32m--> 157\u001b[0m     score, tag_seq \u001b[38;5;241m=\u001b[39m \u001b[38;5;28;43mself\u001b[39;49m\u001b[38;5;241;43m.\u001b[39;49m\u001b[43m_viterbi_decode\u001b[49m\u001b[43m(\u001b[49m\u001b[43mlstm_feats\u001b[49m\u001b[43m,\u001b[49m\u001b[43m \u001b[49m\u001b[43mdevice\u001b[49m\u001b[43m)\u001b[49m\n\u001b[0;32m    159\u001b[0m     \u001b[38;5;28;01mreturn\u001b[39;00m score, tag_seq\n",
      "File \u001b[1;32mc:\\Users\\zmitrovich.nik\\Desktop\\pii_git\\nn_module.py:90\u001b[0m, in \u001b[0;36mBiLSTM_CRF._viterbi_decode\u001b[1;34m(self, feats, device)\u001b[0m\n\u001b[0;32m     83\u001b[0m \u001b[38;5;28;01mfor\u001b[39;00m next_tag \u001b[38;5;129;01min\u001b[39;00m \u001b[38;5;28mrange\u001b[39m(\u001b[38;5;28mself\u001b[39m\u001b[38;5;241m.\u001b[39mtagset_size):\n\u001b[0;32m     84\u001b[0m     \u001b[38;5;66;03m# next_tag_var[i] holds the viterbi variable for tag i at the\u001b[39;00m\n\u001b[0;32m     85\u001b[0m     \u001b[38;5;66;03m# previous step, plus the score of transitioning\u001b[39;00m\n\u001b[0;32m     86\u001b[0m     \u001b[38;5;66;03m# from tag i to next_tag.\u001b[39;00m\n\u001b[0;32m     87\u001b[0m     \u001b[38;5;66;03m# We don't include the emission scores here because the max\u001b[39;00m\n\u001b[0;32m     88\u001b[0m     \u001b[38;5;66;03m# does not depend on them (we add them in below)\u001b[39;00m\n\u001b[0;32m     89\u001b[0m     next_tag_var \u001b[38;5;241m=\u001b[39m forward_var \u001b[38;5;241m+\u001b[39m \u001b[38;5;28mself\u001b[39m\u001b[38;5;241m.\u001b[39mtransitions[next_tag]\n\u001b[1;32m---> 90\u001b[0m     best_tag_id \u001b[38;5;241m=\u001b[39m \u001b[43margmax\u001b[49m\u001b[43m(\u001b[49m\u001b[43mnext_tag_var\u001b[49m\u001b[43m)\u001b[49m\n\u001b[0;32m     91\u001b[0m     bptrs_t\u001b[38;5;241m.\u001b[39mappend(best_tag_id)\n\u001b[0;32m     92\u001b[0m     viterbivars_t\u001b[38;5;241m.\u001b[39mappend(next_tag_var[\u001b[38;5;241m0\u001b[39m][best_tag_id]\u001b[38;5;241m.\u001b[39mview(\u001b[38;5;241m1\u001b[39m))\n",
      "File \u001b[1;32mc:\\Users\\zmitrovich.nik\\Desktop\\pii_git\\nn_module.py:12\u001b[0m, in \u001b[0;36margmax\u001b[1;34m(vec)\u001b[0m\n\u001b[0;32m     10\u001b[0m \u001b[38;5;28;01mdef\u001b[39;00m \u001b[38;5;21margmax\u001b[39m(vec):\n\u001b[0;32m     11\u001b[0m     \u001b[38;5;66;03m# return the argmax as a python int\u001b[39;00m\n\u001b[1;32m---> 12\u001b[0m     _, idx \u001b[38;5;241m=\u001b[39m \u001b[43mtorch\u001b[49m\u001b[38;5;241;43m.\u001b[39;49m\u001b[43mmax\u001b[49m\u001b[43m(\u001b[49m\u001b[43mvec\u001b[49m\u001b[43m,\u001b[49m\u001b[43m \u001b[49m\u001b[38;5;241;43m1\u001b[39;49m\u001b[43m)\u001b[49m\n\u001b[0;32m     13\u001b[0m     \u001b[38;5;28;01mreturn\u001b[39;00m idx\u001b[38;5;241m.\u001b[39mitem()\n",
      "\u001b[1;31mKeyboardInterrupt\u001b[0m: "
     ]
    }
   ],
   "source": [
    "import gc\n",
    "with open('data/train.json', 'r', encoding='utf-8') as f:\n",
    "    data = json.load(f)\n",
    "\n",
    "predict_table = get_predict_table(data, token2emb, num2label, label2num)\n",
    "gc.collect()"
   ]
  },
  {
   "cell_type": "code",
   "execution_count": 9,
   "metadata": {},
   "outputs": [
    {
     "data": {
      "text/html": [
       "<div>\n",
       "<style scoped>\n",
       "    .dataframe tbody tr th:only-of-type {\n",
       "        vertical-align: middle;\n",
       "    }\n",
       "\n",
       "    .dataframe tbody tr th {\n",
       "        vertical-align: top;\n",
       "    }\n",
       "\n",
       "    .dataframe thead th {\n",
       "        text-align: right;\n",
       "    }\n",
       "</style>\n",
       "<table border=\"1\" class=\"dataframe\">\n",
       "  <thead>\n",
       "    <tr style=\"text-align: right;\">\n",
       "      <th></th>\n",
       "      <th>document</th>\n",
       "      <th>token_i</th>\n",
       "      <th>token</th>\n",
       "      <th>predict</th>\n",
       "      <th>label</th>\n",
       "      <th>prefix</th>\n",
       "    </tr>\n",
       "  </thead>\n",
       "  <tbody>\n",
       "    <tr>\n",
       "      <th>0</th>\n",
       "      <td>7</td>\n",
       "      <td>9</td>\n",
       "      <td>Nathalie</td>\n",
       "      <td>NAME_STUDENT</td>\n",
       "      <td>B-NAME_STUDENT</td>\n",
       "      <td>B-</td>\n",
       "    </tr>\n",
       "    <tr>\n",
       "      <th>1</th>\n",
       "      <td>7</td>\n",
       "      <td>10</td>\n",
       "      <td>Sylla</td>\n",
       "      <td>NAME_STUDENT</td>\n",
       "      <td>I-NAME_STUDENT</td>\n",
       "      <td>B-</td>\n",
       "    </tr>\n",
       "    <tr>\n",
       "      <th>2</th>\n",
       "      <td>7</td>\n",
       "      <td>482</td>\n",
       "      <td>Nathalie</td>\n",
       "      <td>NAME_STUDENT</td>\n",
       "      <td>B-NAME_STUDENT</td>\n",
       "      <td>B-</td>\n",
       "    </tr>\n",
       "    <tr>\n",
       "      <th>3</th>\n",
       "      <td>7</td>\n",
       "      <td>483</td>\n",
       "      <td>Sylla</td>\n",
       "      <td>NAME_STUDENT</td>\n",
       "      <td>I-NAME_STUDENT</td>\n",
       "      <td>B-</td>\n",
       "    </tr>\n",
       "    <tr>\n",
       "      <th>4</th>\n",
       "      <td>7</td>\n",
       "      <td>741</td>\n",
       "      <td>Nathalie</td>\n",
       "      <td>NAME_STUDENT</td>\n",
       "      <td>B-NAME_STUDENT</td>\n",
       "      <td>B-</td>\n",
       "    </tr>\n",
       "  </tbody>\n",
       "</table>\n",
       "</div>"
      ],
      "text/plain": [
       "   document  token_i     token       predict           label prefix\n",
       "0         7        9  Nathalie  NAME_STUDENT  B-NAME_STUDENT     B-\n",
       "1         7       10     Sylla  NAME_STUDENT  I-NAME_STUDENT     B-\n",
       "2         7      482  Nathalie  NAME_STUDENT  B-NAME_STUDENT     B-\n",
       "3         7      483     Sylla  NAME_STUDENT  I-NAME_STUDENT     B-\n",
       "4         7      741  Nathalie  NAME_STUDENT  B-NAME_STUDENT     B-"
      ]
     },
     "execution_count": 9,
     "metadata": {},
     "output_type": "execute_result"
    }
   ],
   "source": [
    "predict_table.head()"
   ]
  },
  {
   "cell_type": "code",
   "execution_count": 10,
   "metadata": {},
   "outputs": [
    {
     "name": "stdout",
     "output_type": "stream",
     "text": [
      "F1 score: 0.9199853854585314\n"
     ]
    }
   ],
   "source": [
    "label = predict_table['label'].str.slice(2).values \n",
    "predict = predict_table['predict'].values \n",
    "print(f'F1 score: {f1_score(label, predict, average=\"micro\")}')"
   ]
  },
  {
   "cell_type": "code",
   "execution_count": 11,
   "metadata": {},
   "outputs": [
    {
     "name": "stdout",
     "output_type": "stream",
     "text": [
      "F1 score: 0.7822433321154548\n"
     ]
    }
   ],
   "source": [
    "for i in range(1, predict_table.shape[0]):\n",
    "    if (predict_table.at[i-1, 'predict'] == predict_table.at[i, 'predict']) & (predict_table.at[i-1, 'document'] == predict_table.at[i, 'document']) & (predict_table.at[i, 'token_i'] - predict_table.at[i-1, 'token_i'] == 1):\n",
    "        predict_table.at[i, 'prefix'] = 'I-'\n",
    "predict_table['predict'] = predict_table['prefix'] + predict_table['predict']\n",
    "\n",
    "print(f'F1 score: {f1_score(predict_table.label, predict_table.predict, average=\"micro\")}')"
   ]
  },
  {
   "cell_type": "code",
   "execution_count": 12,
   "metadata": {},
   "outputs": [
    {
     "data": {
      "text/html": [
       "<div>\n",
       "<style scoped>\n",
       "    .dataframe tbody tr th:only-of-type {\n",
       "        vertical-align: middle;\n",
       "    }\n",
       "\n",
       "    .dataframe tbody tr th {\n",
       "        vertical-align: top;\n",
       "    }\n",
       "\n",
       "    .dataframe thead th {\n",
       "        text-align: right;\n",
       "    }\n",
       "</style>\n",
       "<table border=\"1\" class=\"dataframe\">\n",
       "  <thead>\n",
       "    <tr style=\"text-align: right;\">\n",
       "      <th></th>\n",
       "      <th>document</th>\n",
       "      <th>token_i</th>\n",
       "      <th>token</th>\n",
       "      <th>predict</th>\n",
       "      <th>label</th>\n",
       "      <th>prefix</th>\n",
       "    </tr>\n",
       "  </thead>\n",
       "  <tbody>\n",
       "    <tr>\n",
       "      <th>0</th>\n",
       "      <td>7</td>\n",
       "      <td>9</td>\n",
       "      <td>Nathalie</td>\n",
       "      <td>B-NAME_STUDENT</td>\n",
       "      <td>B-NAME_STUDENT</td>\n",
       "      <td>B-</td>\n",
       "    </tr>\n",
       "    <tr>\n",
       "      <th>1</th>\n",
       "      <td>7</td>\n",
       "      <td>10</td>\n",
       "      <td>Sylla</td>\n",
       "      <td>I-NAME_STUDENT</td>\n",
       "      <td>I-NAME_STUDENT</td>\n",
       "      <td>I-</td>\n",
       "    </tr>\n",
       "    <tr>\n",
       "      <th>2</th>\n",
       "      <td>7</td>\n",
       "      <td>482</td>\n",
       "      <td>Nathalie</td>\n",
       "      <td>B-NAME_STUDENT</td>\n",
       "      <td>B-NAME_STUDENT</td>\n",
       "      <td>B-</td>\n",
       "    </tr>\n",
       "    <tr>\n",
       "      <th>3</th>\n",
       "      <td>7</td>\n",
       "      <td>483</td>\n",
       "      <td>Sylla</td>\n",
       "      <td>I-NAME_STUDENT</td>\n",
       "      <td>I-NAME_STUDENT</td>\n",
       "      <td>I-</td>\n",
       "    </tr>\n",
       "    <tr>\n",
       "      <th>4</th>\n",
       "      <td>7</td>\n",
       "      <td>741</td>\n",
       "      <td>Nathalie</td>\n",
       "      <td>B-NAME_STUDENT</td>\n",
       "      <td>B-NAME_STUDENT</td>\n",
       "      <td>B-</td>\n",
       "    </tr>\n",
       "    <tr>\n",
       "      <th>...</th>\n",
       "      <td>...</td>\n",
       "      <td>...</td>\n",
       "      <td>...</td>\n",
       "      <td>...</td>\n",
       "      <td>...</td>\n",
       "      <td>...</td>\n",
       "    </tr>\n",
       "    <tr>\n",
       "      <th>2732</th>\n",
       "      <td>15717</td>\n",
       "      <td>365</td>\n",
       "      <td>IV-8322</td>\n",
       "      <td>B-ID_NUM</td>\n",
       "      <td>B-ID_NUM</td>\n",
       "      <td>B-</td>\n",
       "    </tr>\n",
       "    <tr>\n",
       "      <th>2733</th>\n",
       "      <td>15717</td>\n",
       "      <td>964</td>\n",
       "      <td>IV-8322</td>\n",
       "      <td>B-ID_NUM</td>\n",
       "      <td>B-ID_NUM</td>\n",
       "      <td>B-</td>\n",
       "    </tr>\n",
       "    <tr>\n",
       "      <th>2734</th>\n",
       "      <td>19280</td>\n",
       "      <td>55</td>\n",
       "      <td>30407059</td>\n",
       "      <td>B-ID_NUM</td>\n",
       "      <td>I-ID_NUM</td>\n",
       "      <td>B-</td>\n",
       "    </tr>\n",
       "    <tr>\n",
       "      <th>2735</th>\n",
       "      <td>19280</td>\n",
       "      <td>54</td>\n",
       "      <td>Z.S.</td>\n",
       "      <td>B-ID_NUM</td>\n",
       "      <td>B-ID_NUM</td>\n",
       "      <td>B-</td>\n",
       "    </tr>\n",
       "    <tr>\n",
       "      <th>2736</th>\n",
       "      <td>20984</td>\n",
       "      <td>6</td>\n",
       "      <td>V69230</td>\n",
       "      <td>B-ID_NUM</td>\n",
       "      <td>B-ID_NUM</td>\n",
       "      <td>B-</td>\n",
       "    </tr>\n",
       "  </tbody>\n",
       "</table>\n",
       "<p>2737 rows × 6 columns</p>\n",
       "</div>"
      ],
      "text/plain": [
       "      document  token_i     token         predict           label prefix\n",
       "0            7        9  Nathalie  B-NAME_STUDENT  B-NAME_STUDENT     B-\n",
       "1            7       10     Sylla  I-NAME_STUDENT  I-NAME_STUDENT     I-\n",
       "2            7      482  Nathalie  B-NAME_STUDENT  B-NAME_STUDENT     B-\n",
       "3            7      483     Sylla  I-NAME_STUDENT  I-NAME_STUDENT     I-\n",
       "4            7      741  Nathalie  B-NAME_STUDENT  B-NAME_STUDENT     B-\n",
       "...        ...      ...       ...             ...             ...    ...\n",
       "2732     15717      365   IV-8322        B-ID_NUM        B-ID_NUM     B-\n",
       "2733     15717      964   IV-8322        B-ID_NUM        B-ID_NUM     B-\n",
       "2734     19280       55  30407059        B-ID_NUM        I-ID_NUM     B-\n",
       "2735     19280       54      Z.S.        B-ID_NUM        B-ID_NUM     B-\n",
       "2736     20984        6    V69230        B-ID_NUM        B-ID_NUM     B-\n",
       "\n",
       "[2737 rows x 6 columns]"
      ]
     },
     "execution_count": 12,
     "metadata": {},
     "output_type": "execute_result"
    }
   ],
   "source": [
    "predict_table"
   ]
  },
  {
   "cell_type": "code",
   "execution_count": 13,
   "metadata": {},
   "outputs": [
    {
     "data": {
      "text/html": [
       "<div>\n",
       "<style scoped>\n",
       "    .dataframe tbody tr th:only-of-type {\n",
       "        vertical-align: middle;\n",
       "    }\n",
       "\n",
       "    .dataframe tbody tr th {\n",
       "        vertical-align: top;\n",
       "    }\n",
       "\n",
       "    .dataframe thead th {\n",
       "        text-align: right;\n",
       "    }\n",
       "</style>\n",
       "<table border=\"1\" class=\"dataframe\">\n",
       "  <thead>\n",
       "    <tr style=\"text-align: right;\">\n",
       "      <th></th>\n",
       "      <th>predict</th>\n",
       "      <th>label</th>\n",
       "    </tr>\n",
       "  </thead>\n",
       "  <tbody>\n",
       "    <tr>\n",
       "      <th>0</th>\n",
       "      <td>B-ID_NUM</td>\n",
       "      <td>1</td>\n",
       "    </tr>\n",
       "    <tr>\n",
       "      <th>1</th>\n",
       "      <td>B-NAME_STUDENT</td>\n",
       "      <td>366</td>\n",
       "    </tr>\n",
       "    <tr>\n",
       "      <th>2</th>\n",
       "      <td>B-O</td>\n",
       "      <td>211</td>\n",
       "    </tr>\n",
       "    <tr>\n",
       "      <th>3</th>\n",
       "      <td>B-STREET_ADDRESS</td>\n",
       "      <td>10</td>\n",
       "    </tr>\n",
       "    <tr>\n",
       "      <th>4</th>\n",
       "      <td>B-USERNAME</td>\n",
       "      <td>1</td>\n",
       "    </tr>\n",
       "    <tr>\n",
       "      <th>5</th>\n",
       "      <td>I-O</td>\n",
       "      <td>7</td>\n",
       "    </tr>\n",
       "  </tbody>\n",
       "</table>\n",
       "</div>"
      ],
      "text/plain": [
       "            predict  label\n",
       "0          B-ID_NUM      1\n",
       "1    B-NAME_STUDENT    366\n",
       "2               B-O    211\n",
       "3  B-STREET_ADDRESS     10\n",
       "4        B-USERNAME      1\n",
       "5               I-O      7"
      ]
     },
     "execution_count": 13,
     "metadata": {},
     "output_type": "execute_result"
    }
   ],
   "source": [
    "predict_table.loc[predict_table.predict != predict_table.label].groupby('predict', as_index=False).label.count()"
   ]
  },
  {
   "cell_type": "code",
   "execution_count": 12,
   "metadata": {},
   "outputs": [
    {
     "data": {
      "text/html": [
       "<div>\n",
       "<style scoped>\n",
       "    .dataframe tbody tr th:only-of-type {\n",
       "        vertical-align: middle;\n",
       "    }\n",
       "\n",
       "    .dataframe tbody tr th {\n",
       "        vertical-align: top;\n",
       "    }\n",
       "\n",
       "    .dataframe thead th {\n",
       "        text-align: right;\n",
       "    }\n",
       "</style>\n",
       "<table border=\"1\" class=\"dataframe\">\n",
       "  <thead>\n",
       "    <tr style=\"text-align: right;\">\n",
       "      <th></th>\n",
       "      <th>document</th>\n",
       "      <th>token_i</th>\n",
       "      <th>token</th>\n",
       "      <th>predict</th>\n",
       "      <th>label</th>\n",
       "      <th>prefix</th>\n",
       "      <th>upper_start</th>\n",
       "    </tr>\n",
       "  </thead>\n",
       "  <tbody>\n",
       "    <tr>\n",
       "      <th>0</th>\n",
       "      <td>7</td>\n",
       "      <td>9</td>\n",
       "      <td>Nathalie</td>\n",
       "      <td>B-NAME_STUDENT</td>\n",
       "      <td>B-NAME_STUDENT</td>\n",
       "      <td>B-</td>\n",
       "      <td>1</td>\n",
       "    </tr>\n",
       "    <tr>\n",
       "      <th>1</th>\n",
       "      <td>7</td>\n",
       "      <td>10</td>\n",
       "      <td>Sylla</td>\n",
       "      <td>I-NAME_STUDENT</td>\n",
       "      <td>I-NAME_STUDENT</td>\n",
       "      <td>I-</td>\n",
       "      <td>1</td>\n",
       "    </tr>\n",
       "    <tr>\n",
       "      <th>2</th>\n",
       "      <td>7</td>\n",
       "      <td>482</td>\n",
       "      <td>Nathalie</td>\n",
       "      <td>B-NAME_STUDENT</td>\n",
       "      <td>B-NAME_STUDENT</td>\n",
       "      <td>B-</td>\n",
       "      <td>1</td>\n",
       "    </tr>\n",
       "    <tr>\n",
       "      <th>3</th>\n",
       "      <td>7</td>\n",
       "      <td>483</td>\n",
       "      <td>Sylla</td>\n",
       "      <td>I-NAME_STUDENT</td>\n",
       "      <td>I-NAME_STUDENT</td>\n",
       "      <td>I-</td>\n",
       "      <td>1</td>\n",
       "    </tr>\n",
       "    <tr>\n",
       "      <th>4</th>\n",
       "      <td>7</td>\n",
       "      <td>741</td>\n",
       "      <td>Nathalie</td>\n",
       "      <td>B-NAME_STUDENT</td>\n",
       "      <td>B-NAME_STUDENT</td>\n",
       "      <td>B-</td>\n",
       "      <td>1</td>\n",
       "    </tr>\n",
       "    <tr>\n",
       "      <th>...</th>\n",
       "      <td>...</td>\n",
       "      <td>...</td>\n",
       "      <td>...</td>\n",
       "      <td>...</td>\n",
       "      <td>...</td>\n",
       "      <td>...</td>\n",
       "      <td>...</td>\n",
       "    </tr>\n",
       "    <tr>\n",
       "      <th>2639</th>\n",
       "      <td>22147</td>\n",
       "      <td>457</td>\n",
       "      <td>Francesca</td>\n",
       "      <td>B-NAME_STUDENT</td>\n",
       "      <td>O</td>\n",
       "      <td>B-</td>\n",
       "      <td>1</td>\n",
       "    </tr>\n",
       "    <tr>\n",
       "      <th>2640</th>\n",
       "      <td>22147</td>\n",
       "      <td>1408</td>\n",
       "      <td>Melanie</td>\n",
       "      <td>B-NAME_STUDENT</td>\n",
       "      <td>O</td>\n",
       "      <td>B-</td>\n",
       "      <td>1</td>\n",
       "    </tr>\n",
       "    <tr>\n",
       "      <th>2641</th>\n",
       "      <td>22181</td>\n",
       "      <td>738</td>\n",
       "      <td>Portman</td>\n",
       "      <td>B-NAME_STUDENT</td>\n",
       "      <td>O</td>\n",
       "      <td>B-</td>\n",
       "      <td>1</td>\n",
       "    </tr>\n",
       "    <tr>\n",
       "      <th>2642</th>\n",
       "      <td>22181</td>\n",
       "      <td>736</td>\n",
       "      <td>Natalie</td>\n",
       "      <td>B-NAME_STUDENT</td>\n",
       "      <td>O</td>\n",
       "      <td>B-</td>\n",
       "      <td>1</td>\n",
       "    </tr>\n",
       "    <tr>\n",
       "      <th>2643</th>\n",
       "      <td>22206</td>\n",
       "      <td>108</td>\n",
       "      <td>René</td>\n",
       "      <td>B-NAME_STUDENT</td>\n",
       "      <td>O</td>\n",
       "      <td>B-</td>\n",
       "      <td>1</td>\n",
       "    </tr>\n",
       "  </tbody>\n",
       "</table>\n",
       "<p>2644 rows × 7 columns</p>\n",
       "</div>"
      ],
      "text/plain": [
       "      document  token_i      token         predict           label prefix  \\\n",
       "0            7        9   Nathalie  B-NAME_STUDENT  B-NAME_STUDENT     B-   \n",
       "1            7       10      Sylla  I-NAME_STUDENT  I-NAME_STUDENT     I-   \n",
       "2            7      482   Nathalie  B-NAME_STUDENT  B-NAME_STUDENT     B-   \n",
       "3            7      483      Sylla  I-NAME_STUDENT  I-NAME_STUDENT     I-   \n",
       "4            7      741   Nathalie  B-NAME_STUDENT  B-NAME_STUDENT     B-   \n",
       "...        ...      ...        ...             ...             ...    ...   \n",
       "2639     22147      457  Francesca  B-NAME_STUDENT               O     B-   \n",
       "2640     22147     1408    Melanie  B-NAME_STUDENT               O     B-   \n",
       "2641     22181      738    Portman  B-NAME_STUDENT               O     B-   \n",
       "2642     22181      736    Natalie  B-NAME_STUDENT               O     B-   \n",
       "2643     22206      108       René  B-NAME_STUDENT               O     B-   \n",
       "\n",
       "     upper_start  \n",
       "0              1  \n",
       "1              1  \n",
       "2              1  \n",
       "3              1  \n",
       "4              1  \n",
       "...          ...  \n",
       "2639           1  \n",
       "2640           1  \n",
       "2641           1  \n",
       "2642           1  \n",
       "2643           1  \n",
       "\n",
       "[2644 rows x 7 columns]"
      ]
     },
     "execution_count": 12,
     "metadata": {},
     "output_type": "execute_result"
    }
   ],
   "source": [
    "predict_table"
   ]
  },
  {
   "cell_type": "code",
   "execution_count": null,
   "metadata": {},
   "outputs": [],
   "source": []
  }
 ],
 "metadata": {
  "kernelspec": {
   "display_name": "Python 3",
   "language": "python",
   "name": "python3"
  },
  "language_info": {
   "codemirror_mode": {
    "name": "ipython",
    "version": 3
   },
   "file_extension": ".py",
   "mimetype": "text/x-python",
   "name": "python",
   "nbconvert_exporter": "python",
   "pygments_lexer": "ipython3",
   "version": "3.10.11"
  }
 },
 "nbformat": 4,
 "nbformat_minor": 2
}
