{
 "cells": [
  {
   "cell_type": "code",
   "execution_count": 1,
   "metadata": {},
   "outputs": [],
   "source": [
    "import torch \n",
    "from torch import nn \n",
    "import torch.nn.functional as F\n",
    "from torch.nn.utils.rnn import pack_padded_sequence, pad_packed_sequence\n",
    "\n",
    "from tqdm.auto import tqdm \n",
    "\n",
    "class BiLSTM(nn.Module):\n",
    "    def __init__(self, vocab_size, embedding_dim, hidden_size, nclasses, device) -> None:\n",
    "        super().__init__()\n",
    "\n",
    "        self.embedding = nn.Embedding(num_embeddings=vocab_size, embedding_dim=embedding_dim).to(device)\n",
    "        self.lstm_model = nn.LSTM(embedding_dim, hidden_size//2, bidirectional=True).to(device)\n",
    "        self.ffwd_lay = nn.Linear(hidden_size, nclasses).to(device)\n",
    "        self.softmax = nn.Softmax(dim=2).to(device)\n",
    "\n",
    "        self.optim = torch.optim.Adam(self.parameters(), lr=1e-2)\n",
    "        self.criterion = nn.CrossEntropyLoss()\n",
    "\n",
    "\n",
    "    def forward(self, batch_X, seq_lens, device):\n",
    "        out = self.embedding(batch_X.to(device)) # L x vocab_size -> L x embedding_dim\n",
    "        out = pack_padded_sequence(out, seq_lens, batch_first=True, enforce_sorted=False)\n",
    "        out, _ = self.lstm_model(out) # L x hidden_size\n",
    "        out, seq_lens = pad_packed_sequence(out, batch_first=True)\n",
    "        out = self.ffwd_lay(out)\n",
    "        out = self.softmax(out)\n",
    "\n",
    "        return out\n",
    "\n",
    "\n",
    "    def fit(self, train_X, train_Y, seq_lens, nepochs, lr, device):\n",
    "        self.train()\n",
    "        self.to(device)\n",
    "\n",
    "        for g in self.optim.param_groups:\n",
    "            g['lr'] = lr    \n",
    "        \n",
    "        for ep in tqdm(range(nepochs)):\n",
    "            eploss = 0\n",
    "            \n",
    "            for batch_X, batch_Y, batch_seq_len in tqdm(zip(train_X, train_Y, seq_lens)):\n",
    "                predict = self.forward(batch_X, batch_seq_len, device)\n",
    "                predict = torch.cat([predict[i, :batch_seq_len[i]] for i in range(len(predict))])\n",
    "                real = torch.cat([batch_Y[i][:batch_seq_len[i]] for i in range(len(batch_Y))])\n",
    "  \n",
    "                self.optim.zero_grad()\n",
    "                loss = self.criterion(predict, real.to(device))\n",
    "                loss.backward()\n",
    "                self.optim.step()\n",
    "\n",
    "                eploss += loss.item()\n",
    "            \n",
    "            printbool = ep % (nepochs//10) == 0 if nepochs > 10 else True\n",
    "            if printbool:\n",
    "                print(f'Train loss: {eploss/len(train_X):.3f}')"
   ]
  },
  {
   "cell_type": "code",
   "execution_count": 2,
   "metadata": {},
   "outputs": [],
   "source": [
    "import json\n",
    "from importlib import reload\n",
    "\n",
    "import torch\n",
    "import numpy as np\n",
    "import pandas as pd \n",
    "from tqdm.auto import tqdm\n",
    "from sklearn.metrics import balanced_accuracy_score, f1_score\n",
    "\n",
    "\n",
    "def data_label_split(data, label, train_size=0.8):\n",
    "    randidx = np.arange(len(data))\n",
    "    data_train, data_test = train_test_split(data, randidx, train_size)\n",
    "    label_train, label_test = train_test_split(label, randidx, train_size)\n",
    "\n",
    "    return data_train, data_test, label_train, label_test\n",
    "\n",
    "def train_test_split(data, randidx, train_size):\n",
    "    N = len(data)\n",
    "    return [data[i] for i in randidx[:int(train_size*N)]], [data[i] for i in randidx[int(train_size*N):]]\n",
    "\n",
    "def shuffle_data_label_lists(data, label):\n",
    "    randidx = np.arange(len(data))\n",
    "    np.random.shuffle(randidx)\n",
    "    return [data[i] for i in randidx], [label[i] for i in randidx]\n",
    "\n",
    "def batch_split(X, Y, seq_len, batch_size=1000):\n",
    "    x_batched = []\n",
    "    y_batched = []\n",
    "    seq_len_batched = []\n",
    "\n",
    "    n = len(X)\n",
    "    pointer = 0\n",
    "    while pointer + batch_size < n:\n",
    "        x_batched.append(X[pointer:pointer+batch_size])\n",
    "        y_batched.append(Y[pointer:pointer+batch_size])\n",
    "        seq_len_batched.append(seq_len[pointer:pointer+batch_size])\n",
    "        pointer += batch_size \n",
    "    \n",
    "    x_batched.append(X[pointer:])\n",
    "    y_batched.append(Y[pointer:])\n",
    "    seq_len_batched.append(seq_len[pointer:])\n",
    "\n",
    "    return x_batched, y_batched, seq_len_batched"
   ]
  },
  {
   "cell_type": "code",
   "execution_count": 3,
   "metadata": {},
   "outputs": [
    {
     "data": {
      "application/vnd.jupyter.widget-view+json": {
       "model_id": "35f788f980d44372a319aa55a85c327b",
       "version_major": 2,
       "version_minor": 0
      },
      "text/plain": [
       "  0%|          | 0/9162 [00:00<?, ?it/s]"
      ]
     },
     "metadata": {},
     "output_type": "display_data"
    }
   ],
   "source": [
    "# encoding tokens and labels\n",
    "with open('data/mixtral-8x7b-v1.json', 'r', encoding='utf-8') as f:\n",
    "    data_1 = json.load(f)\n",
    "with open('data/train.json', 'r', encoding='utf-8') as f:\n",
    "    data_2 = json.load(f)\n",
    "\n",
    "data = data_1 + data_2\n",
    "\n",
    "unique_tokens, unique_labels = set(), set()\n",
    "for doc_i, doc in enumerate(tqdm(data)):\n",
    "    unique_tokens |= set(np.unique(doc['tokens']))\n",
    "    unique_labels |= set(np.unique(doc['labels']))\n",
    "\n",
    "token2num = dict(zip(unique_tokens, range(1, len(unique_tokens)+1)))\n",
    "label2num = {\n",
    "    'O': 0,\n",
    "    'B-URL_PERSONAL': 1, \n",
    "    'I-URL_PERSONAL': 1, \n",
    "    'B-ID_NUM': 2, \n",
    "    'I-ID_NUM': 2, \n",
    "    'B-EMAIL': 3, \n",
    "    'I-EMAIL': 3,\n",
    "    'B-NAME_STUDENT': 4, \n",
    "    'I-NAME_STUDENT': 4, \n",
    "    'B-PHONE_NUM': 5, \n",
    "    'I-PHONE_NUM': 5, \n",
    "    'B-USERNAME': 6,\n",
    "    'I-USERNAME': 6, \n",
    "    'B-STREET_ADDRESS': 7, \n",
    "    'I-STREET_ADDRESS': 7, \n",
    "}\n",
    "num2token = {}\n",
    "for it in token2num:\n",
    "    num2token[token2num[it]] = it"
   ]
  },
  {
   "cell_type": "code",
   "execution_count": 4,
   "metadata": {},
   "outputs": [
    {
     "data": {
      "application/vnd.jupyter.widget-view+json": {
       "model_id": "7a78eea8af2e46d6b28cf003cda6824e",
       "version_major": 2,
       "version_minor": 0
      },
      "text/plain": [
       "  0%|          | 0/9162 [00:00<?, ?it/s]"
      ]
     },
     "metadata": {},
     "output_type": "display_data"
    },
    {
     "name": "stdout",
     "output_type": "stream",
     "text": [
      "max_cl_size: 316863\n"
     ]
    }
   ],
   "source": [
    "# load data and split by sentences\n",
    "sentences = []\n",
    "cur_sentence = []\n",
    "sentences_labels = []\n",
    "cur_sentences_labels = []\n",
    "\n",
    "for doc_i, doc in enumerate(tqdm(data)):\n",
    "    for token, label in zip(data[doc_i]['tokens'], data[doc_i]['labels']):\n",
    "        cur_sentence.append(token2num[token])\n",
    "        cur_sentences_labels.append(label2num[label])\n",
    "\n",
    "        if (token == '.') | (token.endswith('\\n')) | (token == '?') | (token == '!'):  \n",
    "            if len(cur_sentence) > 2: \n",
    "                sentences.append(torch.LongTensor(cur_sentence))\n",
    "                sentences_labels.append(torch.LongTensor(cur_sentences_labels))\n",
    "\n",
    "            cur_sentences_labels = []\n",
    "            cur_sentence = []\n",
    "    \n",
    "    if len(cur_sentence) > 2:\n",
    "        sentences.append(torch.LongTensor(cur_sentence))\n",
    "        sentences_labels.append(torch.LongTensor(cur_sentences_labels))\n",
    "\n",
    "    cur_sentences_labels = []\n",
    "    cur_sentence = []\n",
    "    \n",
    "    \n",
    "# create train and test df\n",
    "class_split_sentences = {\n",
    "    'O': [[],[]],\n",
    "    'B-NAME_STUDENT': [[],[]],    \n",
    "    'B-STREET_ADDRESS': [[],[]],\n",
    "    'B-URL_PERSONAL': [[],[]],\n",
    "    'B-ID_NUM': [[],[]],\n",
    "    'B-EMAIL': [[],[]],\n",
    "    'B-PHONE_NUM': [[],[]],\n",
    "    'B-USERNAME': [[],[]],\n",
    "}\n",
    "\n",
    "classes_link = {}\n",
    "for it in class_split_sentences:\n",
    "    classes_link[label2num[it]] = it\n",
    "unique_classes = classes_link.keys()\n",
    "\n",
    "for i, it in enumerate(sentences):\n",
    "    for cl in unique_classes:\n",
    "        if cl in sentences_labels[i]:\n",
    "            class_split_sentences[classes_link[cl]][0].append(sentences[i])\n",
    "            class_split_sentences[classes_link[cl]][1].append(sentences_labels[i])\n",
    "                   \n",
    "# train test split\n",
    "sentences_train = []\n",
    "sentences_labels_train = []\n",
    "\n",
    "sentences_test = []\n",
    "sentences_labels_test = []\n",
    "\n",
    "max_cl_size = max([len(class_split_sentences[it][0]) for it in class_split_sentences])\n",
    "print(f'max_cl_size: {max_cl_size}')\n",
    "for it in class_split_sentences:\n",
    "    cl_sen_train, cl_sen_test, cl_sen_labels_train, cl_sen_labels_test = data_label_split(class_split_sentences[it][0], class_split_sentences[it][1])\n",
    "    imbalance_coef = max_cl_size // len(class_split_sentences[it][0])\n",
    "    \n",
    "    sentences_train += cl_sen_train*imbalance_coef\n",
    "    sentences_labels_train += cl_sen_labels_train*imbalance_coef\n",
    "\n",
    "    sentences_test += cl_sen_test*imbalance_coef\n",
    "    sentences_labels_test += cl_sen_labels_test*imbalance_coef"
   ]
  },
  {
   "cell_type": "code",
   "execution_count": 5,
   "metadata": {},
   "outputs": [],
   "source": [
    "sentences_train, sentences_labels_train = shuffle_data_label_lists(sentences_train, sentences_labels_train)\n",
    "sentences_test, sentences_labels_test = shuffle_data_label_lists(sentences_test, sentences_labels_test)\n",
    "\n",
    "seq_len_train = list(map(len, sentences_train))\n",
    "max_len = max(seq_len_train)\n",
    "sentences_train = torch.cat([F.pad(sentences_train[i], (0, max_len-seq_len_train[i])).reshape(1,-1) for i in range(len(sentences_train))])\n",
    "\n",
    "seq_len_test = list(map(len, sentences_test))\n",
    "max_len = max(seq_len_test)\n",
    "sentences_test = torch.cat([F.pad(sentences_test[i], (0, max_len-seq_len_test[i])).reshape(1,-1) for i in range(len(sentences_test))])\n",
    "\n",
    "sentences_train, sentences_labels_train, seq_len_train = batch_split(sentences_train, sentences_labels_train, seq_len_train)\n",
    "sentences_test, sentences_labels_test, seq_len_test = batch_split(sentences_test, sentences_labels_test, seq_len_test)"
   ]
  },
  {
   "cell_type": "code",
   "execution_count": 6,
   "metadata": {},
   "outputs": [],
   "source": [
    "# old load data and split by sentences\n",
    "# sentences = []\n",
    "# cur_sentence = []\n",
    "# sentences_labels = []\n",
    "# cur_sentences_labels = []\n",
    "\n",
    "# for doc_i, doc in enumerate(tqdm(data)):\n",
    "#     for token, label in zip(data[doc_i]['tokens'], data[doc_i]['labels']):\n",
    "#         cur_sentence.append(token)\n",
    "#         cur_sentences_labels.append(label)\n",
    "\n",
    "#         if (token == '.') | (token.endswith('\\n')) | (token == '?') | (token == '!'):   \n",
    "#             if len(cur_sentence) > 2:\n",
    "#                 sentences.append(cur_sentence)\n",
    "#                 sentences_labels.append(cur_sentences_labels)\n",
    "\n",
    "#             cur_sentences_labels = []\n",
    "#             cur_sentence = []\n",
    "    \n",
    "#     if ('B-NAME_STUDENT' in cur_sentences_labels) | ('I-NAME_STUDENT' in cur_sentences_labels):\n",
    "#         sentences.append(cur_sentence)\n",
    "#         sentences_labels.append(cur_sentences_labels)\n",
    "\n",
    "#     cur_sentences_labels = []\n",
    "#     cur_sentence = []\n",
    "\n",
    "# # load data and split by sentences\n",
    "# sentences = []\n",
    "# cur_sentence = []\n",
    "# sentences_labels = []\n",
    "# cur_sentences_labels = []\n",
    "\n",
    "# for doc_i, doc in enumerate(tqdm(data)):\n",
    "#     for token, label in zip(data[doc_i]['tokens'], data[doc_i]['labels']):\n",
    "#         cur_sentence.append(token2num[token])\n",
    "#         cur_sentences_labels.append(label2num[label])\n",
    "\n",
    "#         if (token == '.') | (token.endswith('\\n')) | (token == '?') | (token == '!'):  \n",
    "#             if len(cur_sentence) > 2: \n",
    "#                 sentences.append(torch.LongTensor(cur_sentence))\n",
    "#                 sentences_labels.append(torch.LongTensor(cur_sentences_labels))\n",
    "\n",
    "#             cur_sentences_labels = []\n",
    "#             cur_sentence = []\n",
    "    \n",
    "#     if len(cur_sentence) > 2:\n",
    "#         sentences.append(torch.LongTensor(cur_sentence))\n",
    "#         sentences_labels.append(torch.LongTensor(cur_sentences_labels))\n",
    "\n",
    "#     cur_sentences_labels = []\n",
    "#     cur_sentence = []\n",
    "    \n",
    "# # create train and test df \n",
    "# name_sentences_labels = []\n",
    "# name_sentences = []\n",
    "\n",
    "# username_sentences_labels = []\n",
    "# username_sentences = []\n",
    "\n",
    "# o_sentences_labels = []\n",
    "# o_sentences = []\n",
    "\n",
    "# for i, it in enumerate(sentences):\n",
    "#     if 1 in sentences_labels[i]:\n",
    "#         name_sentences_labels.append(sentences_labels[i])\n",
    "#         name_sentences.append(sentences[i])\n",
    "#     if 2 in sentences_labels[i]:\n",
    "#         username_sentences_labels.append(sentences_labels[i])\n",
    "#         username_sentences.append(sentences[i])\n",
    "#     else:\n",
    "#         o_sentences_labels.append(sentences_labels[i])\n",
    "#         o_sentences.append(sentences[i])\n",
    "      \n",
    "        \n",
    "# name_sentences_train, name_sentences_test, name_sentences_labels_train, name_sentences_labels_test = data_label_split(name_sentences, name_sentences_labels)\n",
    "# # username_sentences_train, username_sentences_test, username_sentences_labels_train, username_sentences_labels_test = data_label_split(username_sentences, username_sentences_labels)\n",
    "# o_sentences_train, o_sentences_test, o_sentences_labels_train, o_sentences_labels_test = data_label_split(o_sentences, o_sentences_labels)\n",
    "\n",
    "# sentences_train = o_sentences_train + name_sentences_train*20\n",
    "# sentences_labels_train = o_sentences_labels_train + name_sentences_labels_train*20\n",
    "\n",
    "# sentences_test = o_sentences_test + name_sentences_test*20\n",
    "# sentences_labels_test = o_sentences_labels_test + name_sentences_labels_test*20\n",
    "\n",
    "# # sentences_train = o_sentences_train + name_sentences_train*20 + username_sentences_train*20\n",
    "# # sentences_labels_train = o_sentences_labels_train + name_sentences_labels_train*20 + username_sentences_labels_train*20\n",
    "\n",
    "# # sentences_test = o_sentences_test + name_sentences_test*20 + username_sentences_test*20\n",
    "# # sentences_labels_test = o_sentences_labels_test + name_sentences_labels_test*20 + username_sentences_labels_test*20\n",
    "\n",
    "# sentences_train, sentences_labels_train = shuffle_data_label_lists(sentences_train, sentences_labels_train)\n",
    "# sentences_test, sentences_labels_test = shuffle_data_label_lists(sentences_test, sentences_labels_test)\n",
    "\n",
    "# seq_len_train = list(map(len, sentences_train))\n",
    "# max_len = max(seq_len_train)\n",
    "# sentences_train = torch.cat([F.pad(sentences_train[i], (0, max_len-seq_len_train[i])).reshape(1,-1) for i in range(len(sentences_train))])\n",
    "\n",
    "# seq_len_test = list(map(len, sentences_test))\n",
    "# max_len = max(seq_len_test)\n",
    "# sentences_test = torch.cat([F.pad(sentences_test[i], (0, max_len-seq_len_test[i])).reshape(1,-1) for i in range(len(sentences_test))])\n",
    "\n",
    "# sentences_train, sentences_labels_train, seq_len_train = batch_split(sentences_train, sentences_labels_train, seq_len_train)\n",
    "# sentences_test, sentences_labels_test, seq_len_test = batch_split(sentences_test, sentences_labels_test, seq_len_test)"
   ]
  },
  {
   "cell_type": "code",
   "execution_count": 7,
   "metadata": {},
   "outputs": [],
   "source": [
    "device = 'cuda' if torch.cuda.is_available() else 'cpu'\n",
    "# device = 'cpu'\n",
    "# fit lstm\n",
    "model = BiLSTM(\n",
    "    vocab_size=len(token2num)+1,\n",
    "    embedding_dim=32,\n",
    "    hidden_size=32,\n",
    "    nclasses=8,\n",
    "    device=device\n",
    ")"
   ]
  },
  {
   "cell_type": "code",
   "execution_count": 8,
   "metadata": {},
   "outputs": [
    {
     "data": {
      "application/vnd.jupyter.widget-view+json": {
       "model_id": "7d2dc275725946d885be6801247b105d",
       "version_major": 2,
       "version_minor": 0
      },
      "text/plain": [
       "  0%|          | 0/5 [00:00<?, ?it/s]"
      ]
     },
     "metadata": {},
     "output_type": "display_data"
    },
    {
     "data": {
      "application/vnd.jupyter.widget-view+json": {
       "model_id": "59bc6595c74446858132f504d55c19f4",
       "version_major": 2,
       "version_minor": 0
      },
      "text/plain": [
       "0it [00:00, ?it/s]"
      ]
     },
     "metadata": {},
     "output_type": "display_data"
    },
    {
     "name": "stdout",
     "output_type": "stream",
     "text": [
      "Train loss: 1.443\n"
     ]
    },
    {
     "data": {
      "application/vnd.jupyter.widget-view+json": {
       "model_id": "196005b012d7427493596147c47c66d6",
       "version_major": 2,
       "version_minor": 0
      },
      "text/plain": [
       "0it [00:00, ?it/s]"
      ]
     },
     "metadata": {},
     "output_type": "display_data"
    }
   ],
   "source": [
    "# fit bi-lstm\n",
    "model.fit(\n",
    "    sentences_train,\n",
    "    sentences_labels_train,\n",
    "    seq_len_train,\n",
    "    nepochs=5,\n",
    "    lr=1e-3,\n",
    "    device=device\n",
    ")"
   ]
  },
  {
   "cell_type": "code",
   "execution_count": 61,
   "metadata": {},
   "outputs": [
    {
     "data": {
      "application/vnd.jupyter.widget-view+json": {
       "model_id": "abe9fa6ca0dc4b738a3d144bae119436",
       "version_major": 2,
       "version_minor": 0
      },
      "text/plain": [
       "0it [00:00, ?it/s]"
      ]
     },
     "metadata": {},
     "output_type": "display_data"
    },
    {
     "name": "stdout",
     "output_type": "stream",
     "text": [
      "BA: 0.994\n",
      "\n"
     ]
    }
   ],
   "source": [
    "train_predict = []\n",
    "train_real = []\n",
    "with torch.no_grad():\n",
    "    for batch_X, batch_Y, batch_seq_len in tqdm(zip(sentences_train, sentences_labels_train, seq_len_train)):\n",
    "        predict = model.forward(batch_X, batch_seq_len, device)\n",
    "        predict = torch.argmax(torch.cat([predict[i, :batch_seq_len[i]] for i in range(len(predict))]), dim=1).cpu()\n",
    "        real = torch.cat([batch_Y[i][:batch_seq_len[i]] for i in range(len(batch_Y))])\n",
    "\n",
    "        train_predict.append(predict)\n",
    "        train_real.append(real)\n",
    "\n",
    "train_predict = torch.cat(train_predict)\n",
    "train_real = torch.cat(train_real)\n",
    "print(f'BA: {balanced_accuracy_score(train_real, train_predict):.3f}')\n",
    "print()"
   ]
  },
  {
   "cell_type": "code",
   "execution_count": 63,
   "metadata": {},
   "outputs": [
    {
     "data": {
      "application/vnd.jupyter.widget-view+json": {
       "model_id": "14e898c7cb62451189d8c9d905308da1",
       "version_major": 2,
       "version_minor": 0
      },
      "text/plain": [
       "0it [00:00, ?it/s]"
      ]
     },
     "metadata": {},
     "output_type": "display_data"
    },
    {
     "name": "stdout",
     "output_type": "stream",
     "text": [
      "BA: 0.636\n"
     ]
    }
   ],
   "source": [
    "test_predict = []\n",
    "test_real = []\n",
    "with torch.no_grad():\n",
    "    for batch_X, batch_Y, batch_seq_len in tqdm(zip(sentences_test, sentences_labels_test, seq_len_test)):\n",
    "        predict = model.forward(batch_X, batch_seq_len, device)\n",
    "        predict = torch.argmax(torch.cat([predict[i, :batch_seq_len[i]] for i in range(len(predict))]), dim=1).cpu()\n",
    "        real = torch.cat([batch_Y[i][:batch_seq_len[i]] for i in range(len(batch_Y))])\n",
    "\n",
    "        test_predict.append(predict)\n",
    "        test_real.append(real)\n",
    "\n",
    "test_predict = torch.cat(test_predict)\n",
    "test_real = torch.cat(test_real)\n",
    "print(f'BA: {balanced_accuracy_score(test_real, test_predict):.3f}')"
   ]
  },
  {
   "cell_type": "code",
   "execution_count": null,
   "metadata": {},
   "outputs": [],
   "source": []
  },
  {
   "cell_type": "markdown",
   "metadata": {},
   "source": [
    "Only address test = 0.978\n",
    "Address + name  = 0.884"
   ]
  },
  {
   "cell_type": "code",
   "execution_count": null,
   "metadata": {},
   "outputs": [],
   "source": []
  },
  {
   "cell_type": "code",
   "execution_count": null,
   "metadata": {},
   "outputs": [],
   "source": []
  }
 ],
 "metadata": {
  "kernelspec": {
   "display_name": "Python 3",
   "language": "python",
   "name": "python3"
  },
  "language_info": {
   "codemirror_mode": {
    "name": "ipython",
    "version": 3
   },
   "file_extension": ".py",
   "mimetype": "text/x-python",
   "name": "python",
   "nbconvert_exporter": "python",
   "pygments_lexer": "ipython3",
   "version": "3.12.0"
  }
 },
 "nbformat": 4,
 "nbformat_minor": 2
}
