{
 "cells": [
  {
   "cell_type": "code",
   "execution_count": 1,
   "metadata": {},
   "outputs": [],
   "source": [
    "# model class \n",
    "\n",
    "import torch \n",
    "from torch import nn \n",
    "from tqdm.auto import tqdm \n",
    "\n",
    "import json\n",
    "from importlib import reload\n",
    "\n",
    "import torch\n",
    "import numpy as np\n",
    "import pandas as pd \n",
    "from tqdm.auto import tqdm\n",
    "from sklearn.metrics import balanced_accuracy_score, f1_score, confusion_matrix, roc_auc_score\n",
    "\n",
    "\n",
    "class BiLSTM(nn.Module):\n",
    "    def __init__(self, embedding_dim, hidden_size, nclasses, class_weigths=None, device='cpu') -> None:\n",
    "        super().__init__()\n",
    "\n",
    "        # self.embedding = nn.Embedding(num_embeddings=vocab_size, embedding_dim=embedding_dim).to(device)\n",
    "        self.lstm_model = nn.LSTM(embedding_dim, hidden_size//2, bidirectional=True).to(device)\n",
    "        self.ffwd_lay = nn.Linear(hidden_size, nclasses).to(device)\n",
    "        self.softmax = nn.Softmax(dim=1).to(device)\n",
    "\n",
    "        self.optim = torch.optim.Adam(self.parameters(), lr=1e-2)\n",
    "        self.criterion = nn.CrossEntropyLoss(weight=class_weigths)\n",
    "        \n",
    "        self.loss_history = []\n",
    "\n",
    "\n",
    "    def forward(self, batch):\n",
    "        # out = self.embedding(batch) # L x vocab_size -> L x embedding_dim\n",
    "        out = self.lstm_model(batch)[0] # L x hidden_size\n",
    "        out = self.ffwd_lay(out) # L x nclasses\n",
    "        return self.softmax(out)\n",
    "\n",
    "\n",
    "    def fit(self, train_X, train_Y, valid_X, valid_Y, nepochs, lr, device):\n",
    "        self.train()\n",
    "        self.to(device)\n",
    "\n",
    "        for g in self.optim.param_groups:\n",
    "            g['lr'] = lr    \n",
    "        \n",
    "        for ep in tqdm(range(nepochs)):\n",
    "            eploss = 0\n",
    "\n",
    "            for batch_X, batch_Y in zip(train_X, train_Y):\n",
    "                predict = self.forward(batch_X.to(device))\n",
    "                \n",
    "                self.optim.zero_grad()\n",
    "                loss = self.criterion(predict, batch_Y.to(device))\n",
    "                loss.backward()\n",
    "                self.optim.step()\n",
    "\n",
    "                eploss += loss.item()\n",
    "                self.loss_history.append(loss.item())\n",
    "            \n",
    "            printbool = ep % (nepochs//10) == 0 if nepochs > 10 else True\n",
    "            if printbool:\n",
    "                with torch.no_grad():\n",
    "                    train_predict = []\n",
    "                    for batch_X in train_X:\n",
    "                        predict = torch.argmax(self.forward(batch_X.to(device)), dim=1)\n",
    "                        train_predict.append(predict.cpu())\n",
    "                    \n",
    "                    train_predict = torch.cat(train_predict)\n",
    "                    train_real = torch.cat(train_Y)\n",
    "    \n",
    "                    test_predict = []\n",
    "                    for batch_X in valid_X:\n",
    "                        predict = torch.argmax(self.forward(batch_X.to(device)), dim=1)\n",
    "                        test_predict.append(predict.cpu())\n",
    "                    \n",
    "                    test_predict = torch.cat(test_predict)\n",
    "                    test_real = torch.cat(valid_Y)\n",
    "\n",
    "                    # train_predict, train_real = train_predict[train_predict != 0], train_real[train_predict != 0]\n",
    "                    # test_predict, test_real = test_predict[test_predict != 0], test_real[test_predict != 0]\n",
    "                    TP = ((train_predict == train_real) & (train_predict != 0)).sum()\n",
    "                    FP = ((train_predict != train_real) & (train_predict != 0)).sum()\n",
    "                    acc_metric_train = TP / (TP + FP)\n",
    "\n",
    "                    TP = ((test_predict == test_real) & (test_predict != 0)).sum()\n",
    "                    FP = ((test_predict != test_real) & (test_predict != 0)).sum()\n",
    "                    acc_metric_valid = TP / (TP + FP)\n",
    "                    \n",
    "                    print(f'Iter: {ep}, Loss: {eploss/len(train_X):.3f} Train precision {acc_metric_train:.3f}, Train F1: {f1_score(train_real, train_predict, average=\"micro\"):.3f}, Valid precision: {acc_metric_valid:.3f}, Valid F1: {f1_score(test_real, test_predict, average=\"micro\"):.3f}')\n",
    "                    # print(f'Iter: {ep}, Loss: {eploss/len(train_X):.3f} Train BA: {balanced_accuracy_score(train_real, train_predict):.3f}, Train F1: {f1_score(train_real, train_predict, average=\"micro\"):.3f}, Valid BA: {balanced_accuracy_score(test_real, test_predict):.3f}, Valid F1: {f1_score(test_real, test_predict, average=\"micro\"):.3f}')\n",
    "                        \n",
    "            # printbool = ep % (nepochs//10) == 0 if nepochs > 10 else True\n",
    "            # if printbool:\n",
    "            #     print(f'Train loss: {eploss/len(train_X):.3f}')"
   ]
  },
  {
   "cell_type": "code",
   "execution_count": 2,
   "metadata": {},
   "outputs": [],
   "source": [
    "def data_label_split(data, label, train_size=0.8):\n",
    "    randidx = np.arange(len(data))\n",
    "    data_train, data_test = train_test_split(data, randidx, train_size)\n",
    "    label_train, label_test = train_test_split(label, randidx, train_size)\n",
    "\n",
    "    return data_train, data_test, label_train, label_test\n",
    "\n",
    "def train_test_split(data, randidx, train_size):\n",
    "    N = len(data)\n",
    "    return [data[i] for i in randidx[:int(train_size*N)]], [data[i] for i in randidx[int(train_size*N):]]\n",
    "\n",
    "def shuffle_data_label_lists(data, label):\n",
    "    randidx = np.arange(len(data))\n",
    "    np.random.shuffle(randidx)\n",
    "    return [data[i] for i in randidx], [label[i] for i in randidx]\n",
    "\n",
    "def embedding(data, token2emb):\n",
    "    tokens_lst = []\n",
    "    labels_lst = []\n",
    "\n",
    "    for doc in tqdm(data):\n",
    "        tokens = map(lambda x: x.replace('\\t', '').replace('\\n', '').replace(' ', ''), doc['tokens'])\n",
    "        emb_tokens = torch.zeros(len(doc['tokens']), 300)\n",
    "        for i, token in enumerate(tokens):\n",
    "            if token in token2emb:\n",
    "                emb_tokens[i] = torch.FloatTensor(token2emb[token])\n",
    "            else:\n",
    "                for it in token:\n",
    "                    emb_tokens[i] += torch.FloatTensor(token2emb[it] if it in token2emb else [0]*300)\n",
    "\n",
    "        tokens_lst.append(torch.FloatTensor(emb_tokens))\n",
    "        labels_lst.append(torch.LongTensor([label2num[it] if it in label2num else 0 for it in doc['labels']]))\n",
    "        \n",
    "    return tokens_lst, labels_lst\n",
    "\n",
    "def batch_split(X, Y, seq_len, batch_size=1000):\n",
    "    x_batched = []\n",
    "    y_batched = []\n",
    "    seq_len_batched = []\n",
    "\n",
    "    n = len(X)\n",
    "    pointer = 0\n",
    "    while pointer + batch_size < n:\n",
    "        x_batched.append(X[pointer:pointer+batch_size])\n",
    "        y_batched.append(Y[pointer:pointer+batch_size])\n",
    "        seq_len_batched.append(seq_len[pointer:pointer+batch_size])\n",
    "        pointer += batch_size \n",
    "    \n",
    "    x_batched.append(X[pointer:])\n",
    "    y_batched.append(Y[pointer:])\n",
    "    seq_len_batched.append(seq_len[pointer:])\n",
    "\n",
    "    return x_batched, y_batched, seq_len_batched\n",
    "\n",
    "label2num = {\n",
    "    'B-NAME_STUDENT': 1, \n",
    "    'I-NAME_STUDENT': 1, \n",
    "    'B-STREET_ADDRESS': 2, \n",
    "    'I-STREET_ADDRESS': 2, \n",
    "    'B-USERNAME': 0,\n",
    "    'I-USERNAME': 0, \n",
    "    'B-ID_NUM': 0, \n",
    "    'I-ID_NUM': 0, \n",
    "    \n",
    "    'O': 0,\n",
    "    'B-URL_PERSONAL': 0, \n",
    "    'I-URL_PERSONAL': 0, \n",
    "    'B-EMAIL': 0, \n",
    "    'I-EMAIL': 0,\n",
    "    'B-PHONE_NUM': 0, \n",
    "    'I-PHONE_NUM': 0, \n",
    "}\n",
    "\n",
    "num2label = {\n",
    "    0: 'O',\n",
    "    1: 'NAME_STUDENT', \n",
    "    2: 'STREET_ADDRESS', \n",
    "    # 3: 'USERNAME',\n",
    "    # 4: 'ID_NUM',\n",
    "}"
   ]
  },
  {
   "cell_type": "code",
   "execution_count": 3,
   "metadata": {},
   "outputs": [
    {
     "data": {
      "application/vnd.jupyter.widget-view+json": {
       "model_id": "8414b5246a3e41dc8ff808e17504c952",
       "version_major": 2,
       "version_minor": 0
      },
      "text/plain": [
       "0it [00:00, ?it/s]"
      ]
     },
     "metadata": {},
     "output_type": "display_data"
    },
    {
     "name": "stdout",
     "output_type": "stream",
     "text": [
      "9162\n"
     ]
    },
    {
     "data": {
      "application/vnd.jupyter.widget-view+json": {
       "model_id": "f42f448fbf744dec9b7d2a351974e72d",
       "version_major": 2,
       "version_minor": 0
      },
      "text/plain": [
       "  0%|          | 0/7000 [00:00<?, ?it/s]"
      ]
     },
     "metadata": {},
     "output_type": "display_data"
    },
    {
     "data": {
      "application/vnd.jupyter.widget-view+json": {
       "model_id": "643ffa4bcbc947a1b05bd1e8191ebc2d",
       "version_major": 2,
       "version_minor": 0
      },
      "text/plain": [
       "  0%|          | 0/2162 [00:00<?, ?it/s]"
      ]
     },
     "metadata": {},
     "output_type": "display_data"
    },
    {
     "ename": "ValueError",
     "evalue": "I/O operation on closed file.",
     "output_type": "error",
     "traceback": [
      "\u001b[1;31m---------------------------------------------------------------------------\u001b[0m",
      "\u001b[1;31mMemoryError\u001b[0m                               Traceback (most recent call last)",
      "File \u001b[1;32mc:\\Users\\zmitrovich.nik\\AppData\\Local\\Programs\\Python\\Python310\\lib\\site-packages\\torch\\serialization.py:445\u001b[0m, in \u001b[0;36msave\u001b[1;34m(obj, f, pickle_module, pickle_protocol, _use_new_zipfile_serialization)\u001b[0m\n\u001b[0;32m    444\u001b[0m \u001b[38;5;28;01mwith\u001b[39;00m _open_file_like(f, \u001b[38;5;124m'\u001b[39m\u001b[38;5;124mwb\u001b[39m\u001b[38;5;124m'\u001b[39m) \u001b[38;5;28;01mas\u001b[39;00m opened_file:\n\u001b[1;32m--> 445\u001b[0m     \u001b[43m_legacy_save\u001b[49m\u001b[43m(\u001b[49m\u001b[43mobj\u001b[49m\u001b[43m,\u001b[49m\u001b[43m \u001b[49m\u001b[43mopened_file\u001b[49m\u001b[43m,\u001b[49m\u001b[43m \u001b[49m\u001b[43mpickle_module\u001b[49m\u001b[43m,\u001b[49m\u001b[43m \u001b[49m\u001b[43mpickle_protocol\u001b[49m\u001b[43m)\u001b[49m\n",
      "File \u001b[1;32mc:\\Users\\zmitrovich.nik\\AppData\\Local\\Programs\\Python\\Python310\\lib\\site-packages\\torch\\serialization.py:589\u001b[0m, in \u001b[0;36m_legacy_save\u001b[1;34m(obj, f, pickle_module, pickle_protocol)\u001b[0m\n\u001b[0;32m    588\u001b[0m storage, dtype \u001b[38;5;241m=\u001b[39m serialized_storages[key]\n\u001b[1;32m--> 589\u001b[0m \u001b[43mstorage\u001b[49m\u001b[38;5;241;43m.\u001b[39;49m\u001b[43m_write_file\u001b[49m\u001b[43m(\u001b[49m\u001b[43mf\u001b[49m\u001b[43m,\u001b[49m\u001b[43m \u001b[49m\u001b[43m_should_read_directly\u001b[49m\u001b[43m(\u001b[49m\u001b[43mf\u001b[49m\u001b[43m)\u001b[49m\u001b[43m,\u001b[49m\u001b[43m \u001b[49m\u001b[38;5;28;43;01mTrue\u001b[39;49;00m\u001b[43m,\u001b[49m\u001b[43m \u001b[49m\u001b[43mtorch\u001b[49m\u001b[38;5;241;43m.\u001b[39;49m\u001b[43m_utils\u001b[49m\u001b[38;5;241;43m.\u001b[39;49m\u001b[43m_element_size\u001b[49m\u001b[43m(\u001b[49m\u001b[43mdtype\u001b[49m\u001b[43m)\u001b[49m\u001b[43m)\u001b[49m\n",
      "\u001b[1;31mMemoryError\u001b[0m: ",
      "\nDuring handling of the above exception, another exception occurred:\n",
      "\u001b[1;31mValueError\u001b[0m                                Traceback (most recent call last)",
      "Cell \u001b[1;32mIn [3], line 30\u001b[0m\n\u001b[0;32m     28\u001b[0m \u001b[38;5;28;01mimport\u001b[39;00m \u001b[38;5;21;01mpickle\u001b[39;00m\n\u001b[0;32m     29\u001b[0m \u001b[38;5;28;01mwith\u001b[39;00m \u001b[38;5;28mopen\u001b[39m(\u001b[38;5;124m'\u001b[39m\u001b[38;5;124mtrain_data.pkl\u001b[39m\u001b[38;5;124m'\u001b[39m, \u001b[38;5;124m'\u001b[39m\u001b[38;5;124mwb\u001b[39m\u001b[38;5;124m'\u001b[39m) \u001b[38;5;28;01mas\u001b[39;00m f:\n\u001b[1;32m---> 30\u001b[0m     \u001b[43mpickle\u001b[49m\u001b[38;5;241;43m.\u001b[39;49m\u001b[43mdump\u001b[49m\u001b[43m(\u001b[49m\u001b[43m[\u001b[49m\u001b[43mtrain_tokens\u001b[49m\u001b[43m,\u001b[49m\u001b[43m \u001b[49m\u001b[43mtrain_labels\u001b[49m\u001b[43m]\u001b[49m\u001b[43m,\u001b[49m\u001b[43m \u001b[49m\u001b[43mf\u001b[49m\u001b[43m)\u001b[49m\n\u001b[0;32m     32\u001b[0m \u001b[38;5;28;01mwith\u001b[39;00m \u001b[38;5;28mopen\u001b[39m(\u001b[38;5;124m'\u001b[39m\u001b[38;5;124mvalid_data.pkl\u001b[39m\u001b[38;5;124m'\u001b[39m, \u001b[38;5;124m'\u001b[39m\u001b[38;5;124mwb\u001b[39m\u001b[38;5;124m'\u001b[39m) \u001b[38;5;28;01mas\u001b[39;00m f:\n\u001b[0;32m     33\u001b[0m     pickle\u001b[38;5;241m.\u001b[39mdump([valid_tokens, valid_labels], f)\n",
      "File \u001b[1;32mc:\\Users\\zmitrovich.nik\\AppData\\Local\\Programs\\Python\\Python310\\lib\\site-packages\\torch\\storage.py:770\u001b[0m, in \u001b[0;36mTypedStorage.__reduce__\u001b[1;34m(self)\u001b[0m\n\u001b[0;32m    768\u001b[0m \u001b[38;5;28;01mdef\u001b[39;00m \u001b[38;5;21m__reduce__\u001b[39m(\u001b[38;5;28mself\u001b[39m):\n\u001b[0;32m    769\u001b[0m     b \u001b[38;5;241m=\u001b[39m io\u001b[38;5;241m.\u001b[39mBytesIO()\n\u001b[1;32m--> 770\u001b[0m     \u001b[43mtorch\u001b[49m\u001b[38;5;241;43m.\u001b[39;49m\u001b[43msave\u001b[49m\u001b[43m(\u001b[49m\u001b[38;5;28;43mself\u001b[39;49m\u001b[43m,\u001b[49m\u001b[43m \u001b[49m\u001b[43mb\u001b[49m\u001b[43m,\u001b[49m\u001b[43m \u001b[49m\u001b[43m_use_new_zipfile_serialization\u001b[49m\u001b[38;5;241;43m=\u001b[39;49m\u001b[38;5;28;43;01mFalse\u001b[39;49;00m\u001b[43m)\u001b[49m\n\u001b[0;32m    771\u001b[0m     \u001b[38;5;28;01mreturn\u001b[39;00m (_load_from_bytes, (b\u001b[38;5;241m.\u001b[39mgetvalue(),))\n",
      "File \u001b[1;32mc:\\Users\\zmitrovich.nik\\AppData\\Local\\Programs\\Python\\Python310\\lib\\site-packages\\torch\\serialization.py:444\u001b[0m, in \u001b[0;36msave\u001b[1;34m(obj, f, pickle_module, pickle_protocol, _use_new_zipfile_serialization)\u001b[0m\n\u001b[0;32m    442\u001b[0m         \u001b[38;5;28;01mreturn\u001b[39;00m\n\u001b[0;32m    443\u001b[0m \u001b[38;5;28;01melse\u001b[39;00m:\n\u001b[1;32m--> 444\u001b[0m     \u001b[38;5;28;01mwith\u001b[39;00m _open_file_like(f, \u001b[38;5;124m'\u001b[39m\u001b[38;5;124mwb\u001b[39m\u001b[38;5;124m'\u001b[39m) \u001b[38;5;28;01mas\u001b[39;00m opened_file:\n\u001b[0;32m    445\u001b[0m         _legacy_save(obj, opened_file, pickle_module, pickle_protocol)\n",
      "File \u001b[1;32mc:\\Users\\zmitrovich.nik\\AppData\\Local\\Programs\\Python\\Python310\\lib\\site-packages\\torch\\serialization.py:266\u001b[0m, in \u001b[0;36m_open_buffer_writer.__exit__\u001b[1;34m(self, *args)\u001b[0m\n\u001b[0;32m    265\u001b[0m \u001b[38;5;28;01mdef\u001b[39;00m \u001b[38;5;21m__exit__\u001b[39m(\u001b[38;5;28mself\u001b[39m, \u001b[38;5;241m*\u001b[39margs):\n\u001b[1;32m--> 266\u001b[0m     \u001b[38;5;28;43mself\u001b[39;49m\u001b[38;5;241;43m.\u001b[39;49m\u001b[43mfile_like\u001b[49m\u001b[38;5;241;43m.\u001b[39;49m\u001b[43mflush\u001b[49m\u001b[43m(\u001b[49m\u001b[43m)\u001b[49m\n",
      "\u001b[1;31mValueError\u001b[0m: I/O operation on closed file."
     ]
    }
   ],
   "source": [
    "# load fastext\n",
    "token2emb = {}\n",
    "with open('wiki-news-300d-1M.vec', 'r', encoding='utf-8') as f:\n",
    "    next(f)\n",
    "    for it in tqdm(f):\n",
    "        row = it.split(' ')\n",
    "        token2emb[row[0]] = list(map(float, row[1:]))\n",
    "\n",
    "# encoding tokens and labels\n",
    "with open('data/mixtral-8x7b-v1.json', 'r', encoding='utf-8') as f:\n",
    "    data_1 = json.load(f)\n",
    "with open('data/train.json', 'r', encoding='utf-8') as f:\n",
    "    data_2 = json.load(f)\n",
    "data = data_1 + data_2\n",
    "\n",
    "# shuffle data\n",
    "randidx = np.arange(len(data))\n",
    "np.random.shuffle(randidx)\n",
    "data = [data[i] for i in randidx]\n",
    "\n",
    "print(len(data))\n",
    " \n",
    "# split data on train and valid\n",
    "train_data, valid_data = data[:7000], data[7000:]\n",
    "train_tokens, train_labels = embedding(train_data, token2emb)\n",
    "valid_tokens, valid_labels = embedding(valid_data, token2emb)\n",
    "\n",
    "# import pickle\n",
    "# with open('train_data.pkl', 'wb') as f:\n",
    "#     pickle.dump([train_tokens, train_labels], f)\n",
    "\n",
    "# with open('valid_data.pkl', 'wb') as f:\n",
    "#     pickle.dump([valid_tokens, valid_labels], f)\n",
    "\n",
    "token2emb = None\n",
    "import gc\n",
    "gc.collect()"
   ]
  },
  {
   "cell_type": "code",
   "execution_count": 4,
   "metadata": {},
   "outputs": [
    {
     "data": {
      "text/plain": [
       "1061"
      ]
     },
     "execution_count": 4,
     "metadata": {},
     "output_type": "execute_result"
    }
   ],
   "source": [
    "token2emb = None\n",
    "import gc\n",
    "gc.collect()"
   ]
  },
  {
   "cell_type": "code",
   "execution_count": 6,
   "metadata": {},
   "outputs": [],
   "source": [
    "# import pickle\n",
    "# with open('train_data.pkl', 'rb') as f:\n",
    "#     train_tokens, train_labels = pickle.load(f)\n",
    "\n",
    "# with open('valid_data.pkl', 'rb') as f:\n",
    "#     valid_tokens, valid_labels = pickle.load(f)\n",
    "\n",
    "# init class weigths\n",
    "class_weigths = torch.zeros(max(label2num.values())+1)\n",
    "for i in range(len(class_weigths)):\n",
    "    class_weigths[i] = sum([(it == i).sum().item() for it in train_labels])\n",
    "class_weigths = 1 / class_weigths \n",
    "class_weigths /= class_weigths.sum()"
   ]
  },
  {
   "cell_type": "code",
   "execution_count": 7,
   "metadata": {},
   "outputs": [],
   "source": [
    "device = 'cuda' if torch.cuda.is_available() else 'cpu'\n",
    "# device = 'cpu'\n",
    "# fit lstm\n",
    "model = BiLSTM(\n",
    "    embedding_dim=300,\n",
    "    hidden_size=32,\n",
    "    nclasses=len(class_weigths),\n",
    "    device=device,\n",
    "    class_weigths=class_weigths\n",
    ")\n",
    "# checkpoint = torch.load('saved_models/bi_lstm4.pt')\n",
    "# model.load_state_dict(checkpoint['model_state_dict'])\n",
    "# model.optim.load_state_dict(checkpoint['optimizer_state_dict'])"
   ]
  },
  {
   "cell_type": "code",
   "execution_count": 8,
   "metadata": {},
   "outputs": [
    {
     "data": {
      "application/vnd.jupyter.widget-view+json": {
       "model_id": "08bd1e3a493d4b2c95bc15e5cee3b84d",
       "version_major": 2,
       "version_minor": 0
      },
      "text/plain": [
       "  0%|          | 0/20 [00:00<?, ?it/s]"
      ]
     },
     "metadata": {},
     "output_type": "display_data"
    },
    {
     "name": "stdout",
     "output_type": "stream",
     "text": [
      "Iter: 0, Loss: 0.567 Train precision 0.410, Train F1: 0.992, Valid precision: 0.402, Valid F1: 0.992\n",
      "Iter: 2, Loss: 0.552 Train precision 0.829, Train F1: 0.999, Valid precision: 0.814, Valid F1: 0.999\n",
      "Iter: 4, Loss: 0.552 Train precision 0.889, Train F1: 0.999, Valid precision: 0.883, Valid F1: 0.999\n",
      "Iter: 6, Loss: 0.552 Train precision 0.923, Train F1: 1.000, Valid precision: 0.921, Valid F1: 1.000\n",
      "Iter: 8, Loss: 0.552 Train precision 0.937, Train F1: 1.000, Valid precision: 0.932, Valid F1: 1.000\n",
      "Iter: 10, Loss: 0.552 Train precision 0.883, Train F1: 0.999, Valid precision: 0.870, Valid F1: 0.999\n",
      "Iter: 12, Loss: 0.552 Train precision 0.901, Train F1: 0.999, Valid precision: 0.885, Valid F1: 0.999\n",
      "Iter: 14, Loss: 0.552 Train precision 0.945, Train F1: 1.000, Valid precision: 0.936, Valid F1: 1.000\n",
      "Iter: 16, Loss: 0.552 Train precision 0.938, Train F1: 1.000, Valid precision: 0.929, Valid F1: 1.000\n",
      "Iter: 18, Loss: 0.552 Train precision 0.974, Train F1: 1.000, Valid precision: 0.971, Valid F1: 1.000\n"
     ]
    }
   ],
   "source": [
    "model.fit(\n",
    "    train_X=train_tokens,\n",
    "    train_Y=train_labels,\n",
    "    valid_X=valid_tokens,\n",
    "    valid_Y=valid_labels,\n",
    "    nepochs=20,\n",
    "    lr=1e-3,\n",
    "    device=device\n",
    ")"
   ]
  },
  {
   "cell_type": "code",
   "execution_count": 9,
   "metadata": {},
   "outputs": [],
   "source": [
    "torch.save({\n",
    "    'model_state_dict': model.state_dict(),\n",
    "    'optimizer_state_dict': model.optim.state_dict(),\n",
    "    }, 'saved_models/bi_lstm_long.pt')"
   ]
  },
  {
   "cell_type": "code",
   "execution_count": 10,
   "metadata": {},
   "outputs": [
    {
     "data": {
      "text/plain": [
       "[<matplotlib.lines.Line2D at 0x28a6c1a98a0>]"
      ]
     },
     "execution_count": 10,
     "metadata": {},
     "output_type": "execute_result"
    },
    {
     "data": {
      "image/png": "[encoded data removed]",
      "text/plain": [
       "<Figure size 1600x400 with 1 Axes>"
      ]
     },
     "metadata": {},
     "output_type": "display_data"
    }
   ],
   "source": [
    "import matplotlib.pyplot as plt\n",
    "plt.figure(figsize=(16,4))\n",
    "plt.plot(model.loss_history)"
   ]
  },
  {
   "cell_type": "code",
   "execution_count": 17,
   "metadata": {},
   "outputs": [
    {
     "name": "stdout",
     "output_type": "stream",
     "text": [
      "BA: 0.995\n",
      "F1: 0.999\n"
     ]
    }
   ],
   "source": [
    "with torch.no_grad():\n",
    "    train_predict = []\n",
    "    train_proba = []\n",
    "    for batch_X in train_tokens:\n",
    "        predict = model(batch_X.to(device)).cpu()\n",
    "        train_proba.append(predict[:, 1])\n",
    "        train_predict.append(torch.argmax(predict, dim=1))\n",
    "    \n",
    "    train_predict = torch.cat(train_predict)\n",
    "    train_proba = torch.cat(train_proba)\n",
    "    train_real = torch.cat(train_labels)\n",
    "\n",
    "    print(f'BA: {balanced_accuracy_score(train_real, train_predict):.3f}')\n",
    "    print(f'F1: {f1_score(train_real, train_predict, average=\"micro\"):.3f}')\n",
    "    # print(f'ROC AUC: {roc_auc_score(train_real, train_proba):.3f}')"
   ]
  },
  {
   "cell_type": "code",
   "execution_count": 18,
   "metadata": {},
   "outputs": [
    {
     "name": "stdout",
     "output_type": "stream",
     "text": [
      "BA: 0.958\n",
      "F1: 0.999\n"
     ]
    }
   ],
   "source": [
    "with torch.no_grad():\n",
    "    valid_predict = []\n",
    "    valid_proba = []\n",
    "    for batch_X in valid_tokens:\n",
    "        predict = model(batch_X.to(device)).cpu()\n",
    "        valid_proba.append(predict[:, 1])\n",
    "        valid_predict.append(torch.argmax(predict, dim=1))\n",
    "\n",
    "    valid_predict = torch.cat(valid_predict)\n",
    "    valid_proba = torch.cat(valid_proba)\n",
    "    valid_real = torch.cat(valid_labels)\n",
    "\n",
    "    print(f'BA: {balanced_accuracy_score(valid_real, valid_predict):.3f}')\n",
    "    print(f'F1: {f1_score(valid_real, valid_predict, average=\"micro\"):.3f}')\n",
    "    # print(f'ROC AUC: {roc_auc_score(test_real, test_proba):.3f}')"
   ]
  },
  {
   "cell_type": "code",
   "execution_count": 25,
   "metadata": {},
   "outputs": [
    {
     "data": {
      "text/html": [
       "<div>\n",
       "<style scoped>\n",
       "    .dataframe tbody tr th:only-of-type {\n",
       "        vertical-align: middle;\n",
       "    }\n",
       "\n",
       "    .dataframe tbody tr th {\n",
       "        vertical-align: top;\n",
       "    }\n",
       "\n",
       "    .dataframe thead th {\n",
       "        text-align: right;\n",
       "    }\n",
       "</style>\n",
       "<table border=\"1\" class=\"dataframe\">\n",
       "  <thead>\n",
       "    <tr style=\"text-align: right;\">\n",
       "      <th></th>\n",
       "      <th>O</th>\n",
       "      <th>STREET_ADDRESS</th>\n",
       "      <th>USERNAME</th>\n",
       "      <th>ID_NUM</th>\n",
       "    </tr>\n",
       "  </thead>\n",
       "  <tbody>\n",
       "    <tr>\n",
       "      <th>0</th>\n",
       "      <td>1657550</td>\n",
       "      <td>0</td>\n",
       "      <td>0</td>\n",
       "      <td>0</td>\n",
       "    </tr>\n",
       "    <tr>\n",
       "      <th>1</th>\n",
       "      <td>7</td>\n",
       "      <td>5185</td>\n",
       "      <td>0</td>\n",
       "      <td>0</td>\n",
       "    </tr>\n",
       "    <tr>\n",
       "      <th>2</th>\n",
       "      <td>547</td>\n",
       "      <td>0</td>\n",
       "      <td>0</td>\n",
       "      <td>0</td>\n",
       "    </tr>\n",
       "    <tr>\n",
       "      <th>3</th>\n",
       "      <td>840</td>\n",
       "      <td>1</td>\n",
       "      <td>0</td>\n",
       "      <td>0</td>\n",
       "    </tr>\n",
       "  </tbody>\n",
       "</table>\n",
       "</div>"
      ],
      "text/plain": [
       "         O  STREET_ADDRESS  USERNAME  ID_NUM\n",
       "0  1657550               0         0       0\n",
       "1        7            5185         0       0\n",
       "2      547               0         0       0\n",
       "3      840               1         0       0"
      ]
     },
     "execution_count": 25,
     "metadata": {},
     "output_type": "execute_result"
    }
   ],
   "source": [
    "columns = [\n",
    "    'O',\n",
    "    'STREET_ADDRESS',\n",
    "    'USERNAME',\n",
    "    'ID_NUM',\n",
    "    # 'NAME_STUDENT',\n",
    "]\n",
    "\n",
    "pd.DataFrame(confusion_matrix(test_real, test_predict), columns=columns)"
   ]
  },
  {
   "cell_type": "code",
   "execution_count": 13,
   "metadata": {},
   "outputs": [
    {
     "data": {
      "text/plain": [
       "2126"
      ]
     },
     "execution_count": 13,
     "metadata": {},
     "output_type": "execute_result"
    }
   ],
   "source": [
    "token2emb = []\n",
    "train_tokens = []\n",
    "train_labels = []\n",
    "test_tokens = []\n",
    "test_labels = []\n",
    "\n",
    "gc.collect()"
   ]
  },
  {
   "cell_type": "code",
   "execution_count": 4,
   "metadata": {},
   "outputs": [
    {
     "name": "stdout",
     "output_type": "stream",
     "text": [
      "\n"
     ]
    }
   ],
   "source": [
    "device = 'cuda' if torch.cuda.is_available() else 'cpu'\n",
    "\n",
    "class_weigths = torch.FloatTensor([1,1,1])\n",
    "model = BiLSTM(\n",
    "    embedding_dim=300,\n",
    "    hidden_size=32,\n",
    "    nclasses=len(class_weigths),\n",
    "    device=device,\n",
    "    class_weigths=class_weigths\n",
    ")\n",
    "\n",
    "checkpoint = torch.load('saved_models/bi_lstm_long.pt')\n",
    "model.load_state_dict(checkpoint['model_state_dict'])\n",
    "model.optim.load_state_dict(checkpoint['optimizer_state_dict'])\n",
    "model.eval()\n",
    "model.to(device)\n",
    "print()"
   ]
  },
  {
   "cell_type": "code",
   "execution_count": 5,
   "metadata": {},
   "outputs": [
    {
     "data": {
      "application/vnd.jupyter.widget-view+json": {
       "model_id": "0ad6b795e3404e15969f6eb93f7520b1",
       "version_major": 2,
       "version_minor": 0
      },
      "text/plain": [
       "0it [00:00, ?it/s]"
      ]
     },
     "metadata": {},
     "output_type": "display_data"
    }
   ],
   "source": [
    "token2emb = {}\n",
    "with open('wiki-news-300d-1M.vec', 'r', encoding='utf-8') as f:\n",
    "    next(f)\n",
    "    for it in tqdm(f):\n",
    "        row = it.split(' ')\n",
    "        token2emb[row[0]] = list(map(float, row[1:]))\n"
   ]
  },
  {
   "cell_type": "code",
   "execution_count": 6,
   "metadata": {},
   "outputs": [],
   "source": [
    "def get_predict_table(data, token2emb, num2label):\n",
    "    def check_name(x):\n",
    "        flag = False\n",
    "        flag = x[0].isupper()\n",
    "        for it in x[1:]:\n",
    "            flag *= it.islower()\n",
    "        return flag\n",
    "    \n",
    "    data_tokens, _ = embedding(data, token2emb)\n",
    "    predict_table = [[], [], [], [], []] # document, token_idx, token, predict, real\n",
    "    for i in tqdm(range(len(data))):\n",
    "        with torch.no_grad():\n",
    "            predict = torch.argmax(model.forward(data_tokens[i].to(device)), dim=1).cpu()\n",
    "            predict = [num2label[it.item()] for it in predict]\n",
    "            predict = ['O' if len(set(x)) < 2 else y for x, y in zip(data[i]['tokens'], predict)]\n",
    "            predict_table[0] += [data[i]['document']]*len(predict)\n",
    "            predict_table[1] += list(range(len(predict)))\n",
    "            predict_table[2] += data[i]['tokens']\n",
    "            predict_table[3] += predict\n",
    "            predict_table[4] += data[i]['labels'] \n",
    "        \n",
    "    predict_table = [[predict_table[0][i], predict_table[1][i], predict_table[2][i], predict_table[3][i], predict_table[4][i]] for i in range(len(predict_table[0]))]\n",
    "    predict_table = pd.DataFrame(predict_table, columns=['document', 'token_i', 'token', 'predict', 'label'])\n",
    "    predict_table = predict_table.loc[((predict_table.predict != 'O') | (predict_table.label != 'O')) & ((predict_table.token != \"\\n\") | (predict_table.token != \"\\n\\n\") | (predict_table.token != \"\\t\"))].reset_index(drop=True)\n",
    "    predict_table['prefix'] = 'B-'\n",
    "\n",
    "    predict_table['upper_start'] = predict_table.token.apply(check_name)\n",
    "    predict_table = predict_table.loc[((predict_table.upper_start == 1) & (predict_table.predict == 'NAME_STUDENT')) | (predict_table.predict != 'NAME_STUDENT')].reset_index(drop=True)\n",
    "    predict_table = predict_table.sort_values('document').reset_index(drop=True)\n",
    "\n",
    "    return predict_table.loc[predict_table.label.isin(set(['O', 'B-ID_NUM', 'I-ID_NUM', 'B-USERNAME', 'I-USERNAME']))].reset_index(drop=True)"
   ]
  },
  {
   "cell_type": "code",
   "execution_count": 7,
   "metadata": {},
   "outputs": [
    {
     "data": {
      "application/vnd.jupyter.widget-view+json": {
       "model_id": "4115ecdd805547f8bad54b9b315e6aaf",
       "version_major": 2,
       "version_minor": 0
      },
      "text/plain": [
       "  0%|          | 0/6807 [00:00<?, ?it/s]"
      ]
     },
     "metadata": {},
     "output_type": "display_data"
    },
    {
     "data": {
      "application/vnd.jupyter.widget-view+json": {
       "model_id": "c6b3b534e7f94aab9a015b5cc58683e3",
       "version_major": 2,
       "version_minor": 0
      },
      "text/plain": [
       "  0%|          | 0/6807 [00:00<?, ?it/s]"
      ]
     },
     "metadata": {},
     "output_type": "display_data"
    },
    {
     "data": {
      "text/plain": [
       "0"
      ]
     },
     "execution_count": 7,
     "metadata": {},
     "output_type": "execute_result"
    }
   ],
   "source": [
    "num2label = {\n",
    "    0: 'O',\n",
    "    1: 'NAME_STUDENT', \n",
    "    2: 'STREET_ADDRESS', \n",
    "    # 3: 'USERNAME',\n",
    "    # 4: 'ID_NUM',\n",
    "}\n",
    "\n",
    "import gc\n",
    "with open('data/train.json', 'r', encoding='utf-8') as f:\n",
    "    data = json.load(f)\n",
    "predict_table = get_predict_table(data, token2emb, num2label)\n",
    "gc.collect()"
   ]
  },
  {
   "cell_type": "code",
   "execution_count": 8,
   "metadata": {},
   "outputs": [
    {
     "name": "stdout",
     "output_type": "stream",
     "text": [
      "F1 score: 0.0\n"
     ]
    }
   ],
   "source": [
    "for i in range(1, predict_table.shape[0]):\n",
    "    if (predict_table.at[i-1, 'predict'] == predict_table.at[i, 'predict']) & (predict_table.at[i-1, 'document'] == predict_table.at[i, 'document']) & (predict_table.at[i, 'token_i'] - predict_table.at[i-1, 'token_i'] == 1):\n",
    "        predict_table.at[i, 'prefix'] = 'I-'\n",
    "predict_table['predict'] = predict_table['prefix'] + predict_table['predict']\n",
    "\n",
    "print(f'F1 score: {f1_score(predict_table.label, predict_table.predict, average=\"micro\")}')"
   ]
  },
  {
   "cell_type": "code",
   "execution_count": 9,
   "metadata": {},
   "outputs": [
    {
     "name": "stdout",
     "output_type": "stream",
     "text": [
      "F1 score: 0.07253886010362694\n"
     ]
    }
   ],
   "source": [
    "print(f'F1 score: {f1_score(predict_table.label, predict_table.predict, average=\"micro\")}')"
   ]
  },
  {
   "cell_type": "code",
   "execution_count": 9,
   "metadata": {},
   "outputs": [
    {
     "data": {
      "text/html": [
       "<div>\n",
       "<style scoped>\n",
       "    .dataframe tbody tr th:only-of-type {\n",
       "        vertical-align: middle;\n",
       "    }\n",
       "\n",
       "    .dataframe tbody tr th {\n",
       "        vertical-align: top;\n",
       "    }\n",
       "\n",
       "    .dataframe thead th {\n",
       "        text-align: right;\n",
       "    }\n",
       "</style>\n",
       "<table border=\"1\" class=\"dataframe\">\n",
       "  <thead>\n",
       "    <tr style=\"text-align: right;\">\n",
       "      <th></th>\n",
       "      <th>predict</th>\n",
       "      <th>label</th>\n",
       "    </tr>\n",
       "  </thead>\n",
       "  <tbody>\n",
       "    <tr>\n",
       "      <th>0</th>\n",
       "      <td>B-ID_NUM</td>\n",
       "      <td>76</td>\n",
       "    </tr>\n",
       "    <tr>\n",
       "      <th>1</th>\n",
       "      <td>B-NAME_STUDENT</td>\n",
       "      <td>733</td>\n",
       "    </tr>\n",
       "    <tr>\n",
       "      <th>2</th>\n",
       "      <td>B-O</td>\n",
       "      <td>3</td>\n",
       "    </tr>\n",
       "    <tr>\n",
       "      <th>3</th>\n",
       "      <td>B-STREET_ADDRESS</td>\n",
       "      <td>6</td>\n",
       "    </tr>\n",
       "    <tr>\n",
       "      <th>4</th>\n",
       "      <td>B-USERNAME</td>\n",
       "      <td>158</td>\n",
       "    </tr>\n",
       "    <tr>\n",
       "      <th>5</th>\n",
       "      <td>I-ID_NUM</td>\n",
       "      <td>1</td>\n",
       "    </tr>\n",
       "    <tr>\n",
       "      <th>6</th>\n",
       "      <td>I-NAME_STUDENT</td>\n",
       "      <td>95</td>\n",
       "    </tr>\n",
       "    <tr>\n",
       "      <th>7</th>\n",
       "      <td>I-STREET_ADDRESS</td>\n",
       "      <td>2</td>\n",
       "    </tr>\n",
       "    <tr>\n",
       "      <th>8</th>\n",
       "      <td>I-USERNAME</td>\n",
       "      <td>1</td>\n",
       "    </tr>\n",
       "  </tbody>\n",
       "</table>\n",
       "</div>"
      ],
      "text/plain": [
       "            predict  label\n",
       "0          B-ID_NUM     76\n",
       "1    B-NAME_STUDENT    733\n",
       "2               B-O      3\n",
       "3  B-STREET_ADDRESS      6\n",
       "4        B-USERNAME    158\n",
       "5          I-ID_NUM      1\n",
       "6    I-NAME_STUDENT     95\n",
       "7  I-STREET_ADDRESS      2\n",
       "8        I-USERNAME      1"
      ]
     },
     "execution_count": 9,
     "metadata": {},
     "output_type": "execute_result"
    }
   ],
   "source": [
    "predict_table.loc[predict_table.predict != predict_table.label].groupby('predict', as_index=False).label.count()"
   ]
  },
  {
   "cell_type": "code",
   "execution_count": null,
   "metadata": {},
   "outputs": [],
   "source": []
  }
 ],
 "metadata": {
  "kernelspec": {
   "display_name": "Python 3",
   "language": "python",
   "name": "python3"
  },
  "language_info": {
   "codemirror_mode": {
    "name": "ipython",
    "version": 3
   },
   "file_extension": ".py",
   "mimetype": "text/x-python",
   "name": "python",
   "nbconvert_exporter": "python",
   "pygments_lexer": "ipython3",
   "version": "3.10.11"
  }
 },
 "nbformat": 4,
 "nbformat_minor": 2
}
