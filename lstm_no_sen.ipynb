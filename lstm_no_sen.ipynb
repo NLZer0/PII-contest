{
 "cells": [
  {
   "cell_type": "code",
   "execution_count": 1,
   "metadata": {},
   "outputs": [],
   "source": [
    "# model class \n",
    "\n",
    "import torch \n",
    "from torch import nn \n",
    "from tqdm.auto import tqdm \n",
    "\n",
    "import json\n",
    "from importlib import reload\n",
    "\n",
    "import torch\n",
    "import numpy as np\n",
    "import pandas as pd \n",
    "from tqdm.auto import tqdm\n",
    "from sklearn.metrics import balanced_accuracy_score, f1_score, confusion_matrix\n",
    "\n",
    "from nn_module import BiLSTM_CRF"
   ]
  },
  {
   "cell_type": "code",
   "execution_count": 2,
   "metadata": {},
   "outputs": [],
   "source": [
    "def data_label_split(data, label, train_size=0.8):\n",
    "    randidx = np.arange(len(data))\n",
    "    data_train, data_test = train_test_split(data, randidx, train_size)\n",
    "    label_train, label_test = train_test_split(label, randidx, train_size)\n",
    "\n",
    "    return data_train, data_test, label_train, label_test\n",
    "\n",
    "def train_test_split(data, randidx, train_size):\n",
    "    N = len(data)\n",
    "    return [data[i] for i in randidx[:int(train_size*N)]], [data[i] for i in randidx[int(train_size*N):]]\n",
    "\n",
    "def shuffle_data_label_lists(data, label):\n",
    "    randidx = np.arange(len(data))\n",
    "    np.random.shuffle(randidx)\n",
    "    return [data[i] for i in randidx], [label[i] for i in randidx]\n",
    "\n",
    "def embedding(data, token2emb, label2num):\n",
    "    tokens_lst = []\n",
    "    labels_lst = []\n",
    "\n",
    "    for doc in tqdm(data):\n",
    "        tokens = map(lambda x: x.replace('\\t', '').replace('\\n', '').replace(' ', ''), doc['tokens'])\n",
    "        emb_tokens = torch.zeros(len(doc['tokens']), 300)\n",
    "        for i, token in enumerate(tokens):\n",
    "            if token in token2emb:\n",
    "                emb_tokens[i] = torch.FloatTensor(token2emb[token])\n",
    "            else:\n",
    "                for it in token:\n",
    "                    emb_tokens[i] += torch.FloatTensor(token2emb[it] if it in token2emb else [0]*300)\n",
    "\n",
    "        tokens_lst.append(torch.FloatTensor(emb_tokens))\n",
    "        labels_lst.append(torch.LongTensor([label2num[it] if it in label2num else 0 for it in doc['labels']]))\n",
    "        \n",
    "    return tokens_lst, labels_lst\n",
    "\n",
    "def batch_split(X, Y, seq_len, batch_size=1000):\n",
    "    x_batched = []\n",
    "    y_batched = []\n",
    "    seq_len_batched = []\n",
    "\n",
    "    n = len(X)\n",
    "    pointer = 0\n",
    "    while pointer + batch_size < n:\n",
    "        x_batched.append(X[pointer:pointer+batch_size])\n",
    "        y_batched.append(Y[pointer:pointer+batch_size])\n",
    "        seq_len_batched.append(seq_len[pointer:pointer+batch_size])\n",
    "        pointer += batch_size \n",
    "    \n",
    "    x_batched.append(X[pointer:])\n",
    "    y_batched.append(Y[pointer:])\n",
    "    seq_len_batched.append(seq_len[pointer:])\n",
    "\n",
    "    return x_batched, y_batched, seq_len_batched\n",
    "\n",
    "def fix_label_disbalance(data, labels):\n",
    "    label_idxs = {}\n",
    "    for i in range(len(data)):\n",
    "        unique_labels = np.unique(labels[i])\n",
    "        for lab in unique_labels:\n",
    "            if lab in label_idxs:\n",
    "                label_idxs[lab].append(i)\n",
    "            else:\n",
    "                label_idxs[lab] = [i]\n",
    "\n",
    "    idxs = []\n",
    "    count_o = len(label_idxs[0])\n",
    "    del label_idxs[0]\n",
    "\n",
    "    for it in label_idxs:\n",
    "        scale = count_o // len(label_idxs[it])\n",
    "        idxs += label_idxs[it]*scale\n",
    "\n",
    "    np.random.shuffle(idxs)\n",
    "    data = [data[i] for i in idxs]\n",
    "    labels = [labels[i] for i in idxs]\n",
    "\n",
    "    return data, labels"
   ]
  },
  {
   "cell_type": "code",
   "execution_count": 3,
   "metadata": {},
   "outputs": [],
   "source": [
    "# create table for name and address\n",
    "label2num = {\n",
    "    'B-NAME_STUDENT': 1, \n",
    "    'I-NAME_STUDENT': 2, \n",
    "    'B-STREET_ADDRESS': 3, \n",
    "    'I-STREET_ADDRESS': 4, \n",
    "    'B-USERNAME': 5,\n",
    "    'I-USERNAME': 6, \n",
    "    'B-ID_NUM': 7, \n",
    "    'I-ID_NUM': 8, \n",
    "    '<START>': 9, \n",
    "    '<STOP>': 10,\n",
    "    'O': 0,\n",
    "}\n",
    "\n",
    "num2label = {\n",
    "    0: 'O',\n",
    "    1: 'B-NAME_STUDENT',  \n",
    "    2: 'I-NAME_STUDENT',  \n",
    "    3: 'B-STREET_ADDRESS',  \n",
    "    4: 'I-STREET_ADDRESS',  \n",
    "    5: 'B-USERNAME', \n",
    "    6: 'I-USERNAME',  \n",
    "    7: 'B-ID_NUM',  \n",
    "    8: 'I-ID_NUM', \n",
    "}\n",
    "\n",
    "# encoding tokens and labels\n",
    "with open('data/mixtral-8x7b-v1.json', 'r', encoding='utf-8') as f:\n",
    "    data_1 = json.load(f)\n",
    "with open('data/train.json', 'r', encoding='utf-8') as f:\n",
    "    data_2 = json.load(f)\n",
    "data = data_1 + data_2\n",
    "\n",
    "reg_set = set(['B-URL_PERSONAL', 'I-URL_PERSONAL', 'B-EMAIL', 'I-EMAIL', 'B-PHONE_NUM', 'I-PHONE_NUM'])\n",
    "for i in range(len(data)):\n",
    "    data[i]['labels'] = ['O' if it in reg_set else it for it in data[i]['labels']]\n",
    "\n",
    "np.random.seed(123)\n",
    "data_idx = np.arange(len(data))\n",
    "np.random.shuffle(data_idx)\n",
    "data = [data[i] for i in data_idx]\n",
    "\n",
    "train_size = 0.7\n",
    "n = int(len(data)*train_size)\n",
    "train_data, valid_data = data[:n], data[n:]"
   ]
  },
  {
   "cell_type": "code",
   "execution_count": 4,
   "metadata": {},
   "outputs": [
    {
     "data": {
      "application/vnd.jupyter.widget-view+json": {
       "model_id": "692a3caf116e43e4a85cbc122be71e92",
       "version_major": 2,
       "version_minor": 0
      },
      "text/plain": [
       "0it [00:00, ?it/s]"
      ]
     },
     "metadata": {},
     "output_type": "display_data"
    },
    {
     "data": {
      "application/vnd.jupyter.widget-view+json": {
       "model_id": "6bc4f39d92ad4095934140c5f2e73bff",
       "version_major": 2,
       "version_minor": 0
      },
      "text/plain": [
       "  0%|          | 0/6413 [00:00<?, ?it/s]"
      ]
     },
     "metadata": {},
     "output_type": "display_data"
    },
    {
     "data": {
      "application/vnd.jupyter.widget-view+json": {
       "model_id": "dc7d633820cc4187ba573245e3d5c11b",
       "version_major": 2,
       "version_minor": 0
      },
      "text/plain": [
       "  0%|          | 0/2749 [00:00<?, ?it/s]"
      ]
     },
     "metadata": {},
     "output_type": "display_data"
    }
   ],
   "source": [
    "# load fastext\n",
    "token2emb = {}\n",
    "with open('wiki-news-300d-1M.vec', 'r', encoding='utf-8') as f:\n",
    "    next(f)\n",
    "    for it in tqdm(f):\n",
    "        row = it.split(' ')\n",
    "        token2emb[row[0]] = list(map(float, row[1:]))\n",
    "\n",
    "# split data on train and valid\n",
    "train_tokens, train_labels = embedding(train_data, token2emb, label2num)\n",
    "valid_tokens, valid_labels = embedding(valid_data, token2emb, label2num)\n",
    "\n",
    "# clearing token2emb memory\n",
    "token2emb = None\n",
    "import gc\n",
    "gc.collect()\n",
    "\n",
    "train_tokens, train_labels = fix_label_disbalance(train_tokens, train_labels)\n",
    "valid_tokens, valid_labels = fix_label_disbalance(valid_tokens, valid_labels)"
   ]
  },
  {
   "cell_type": "code",
   "execution_count": 9,
   "metadata": {},
   "outputs": [
    {
     "data": {
      "application/vnd.jupyter.widget-view+json": {
       "model_id": "5c52b64d20184cbba1b3ef063fc29d7a",
       "version_major": 2,
       "version_minor": 0
      },
      "text/plain": [
       "  0%|          | 0/20 [00:00<?, ?it/s]"
      ]
     },
     "metadata": {},
     "output_type": "display_data"
    },
    {
     "data": {
      "application/vnd.jupyter.widget-view+json": {
       "model_id": "6ebade80ea864480a2faea47bac46f8a",
       "version_major": 2,
       "version_minor": 0
      },
      "text/plain": [
       "0it [00:00, ?it/s]"
      ]
     },
     "metadata": {},
     "output_type": "display_data"
    }
   ],
   "source": [
    "# init class weigths\n",
    "class_weigths = torch.zeros(max(label2num.values())+1)\n",
    "for i in range(len(class_weigths)):\n",
    "    class_weigths[i] = sum([(it == i).sum().item() for it in train_labels])\n",
    "class_weigths = 1 / class_weigths \n",
    "class_weigths /= class_weigths.sum()\n",
    "\n",
    "device = 'cuda' if torch.cuda.is_available() else 'cpu'\n",
    "\n",
    "import nn_module\n",
    "reload(nn_module)\n",
    "from nn_module import BiLSTM_CRF\n",
    "\n",
    "# fit lstm\n",
    "model = BiLSTM_CRF(\n",
    "    embedding_dim=300,\n",
    "    hidden_size=32,\n",
    "    nclasses=len(class_weigths),\n",
    "    label2num=label2num,\n",
    "    device=device,\n",
    ")\n",
    "# checkpoint = torch.load('saved_models/bi_lstm_long.pt')\n",
    "# model.load_state_dict(checkpoint['model_state_dict'])\n",
    "# model.optim.load_state_dict(checkpoint['optimizer_state_dict'])\n",
    "\n",
    "model.fit(\n",
    "    train_X=train_tokens,\n",
    "    train_Y=train_labels,\n",
    "    valid_X=valid_tokens,\n",
    "    valid_Y=valid_labels,\n",
    "    nepochs=20,\n",
    "    lr=1e-3,\n",
    "    device=device\n",
    ")"
   ]
  },
  {
   "cell_type": "code",
   "execution_count": 7,
   "metadata": {},
   "outputs": [],
   "source": [
    "# save model\n",
    "torch.save({\n",
    "    'model_state_dict': model.state_dict(),\n",
    "    'optimizer_state_dict': model.optim.state_dict(),\n",
    "    }, 'saved_models/bi_lstm.pt')"
   ]
  },
  {
   "cell_type": "code",
   "execution_count": 9,
   "metadata": {},
   "outputs": [
    {
     "data": {
      "application/vnd.jupyter.widget-view+json": {
       "model_id": "6d54a9524a2c4dbbb62ec33ab713fd8f",
       "version_major": 2,
       "version_minor": 0
      },
      "text/plain": [
       "0it [00:00, ?it/s]"
      ]
     },
     "metadata": {},
     "output_type": "display_data"
    },
    {
     "data": {
      "application/vnd.jupyter.widget-view+json": {
       "model_id": "fdd3d515e0a84244a7e1f6b598c6e40f",
       "version_major": 2,
       "version_minor": 0
      },
      "text/plain": [
       "  0%|          | 0/2749 [00:00<?, ?it/s]"
      ]
     },
     "metadata": {},
     "output_type": "display_data"
    },
    {
     "data": {
      "text/plain": [
       "39"
      ]
     },
     "execution_count": 9,
     "metadata": {},
     "output_type": "execute_result"
    }
   ],
   "source": [
    "token2emb = {}\n",
    "with open('wiki-news-300d-1M.vec', 'r', encoding='utf-8') as f:\n",
    "    next(f)\n",
    "    for it in tqdm(f):\n",
    "        row = it.split(' ')\n",
    "        token2emb[row[0]] = list(map(float, row[1:]))\n",
    "\n",
    "valid_tokens, valid_labels = embedding(valid_data, token2emb, label2num)\n",
    "\n",
    "# clearing token2emb memory\n",
    "token2emb = None\n",
    "import gc\n",
    "gc.collect()"
   ]
  },
  {
   "cell_type": "code",
   "execution_count": 10,
   "metadata": {},
   "outputs": [
    {
     "name": "stdout",
     "output_type": "stream",
     "text": [
      "BA: 0.994\n"
     ]
    }
   ],
   "source": [
    "with torch.no_grad():\n",
    "    valid_predict = []\n",
    "    for batch_X in valid_tokens:\n",
    "        predict = model(batch_X.to(device)).cpu()\n",
    "        valid_predict.append(torch.argmax(predict, dim=1))\n",
    "    valid_predict = torch.cat(valid_predict)\n",
    "    valid_real = torch.cat(valid_labels)\n",
    "    print(f'BA: {balanced_accuracy_score(valid_real, valid_predict):.3f}')"
   ]
  },
  {
   "cell_type": "code",
   "execution_count": 16,
   "metadata": {},
   "outputs": [
    {
     "data": {
      "text/html": [
       "<div>\n",
       "<style scoped>\n",
       "    .dataframe tbody tr th:only-of-type {\n",
       "        vertical-align: middle;\n",
       "    }\n",
       "\n",
       "    .dataframe tbody tr th {\n",
       "        vertical-align: top;\n",
       "    }\n",
       "\n",
       "    .dataframe thead th {\n",
       "        text-align: right;\n",
       "    }\n",
       "</style>\n",
       "<table border=\"1\" class=\"dataframe\">\n",
       "  <thead>\n",
       "    <tr style=\"text-align: right;\">\n",
       "      <th></th>\n",
       "      <th>O</th>\n",
       "      <th>NAME_STUDENT</th>\n",
       "      <th>STREET_ADDRESS</th>\n",
       "      <th>USERNAME</th>\n",
       "      <th>ID_NUM</th>\n",
       "    </tr>\n",
       "  </thead>\n",
       "  <tbody>\n",
       "    <tr>\n",
       "      <th>0</th>\n",
       "      <td>2096363</td>\n",
       "      <td>433</td>\n",
       "      <td>10</td>\n",
       "      <td>22</td>\n",
       "      <td>16</td>\n",
       "    </tr>\n",
       "    <tr>\n",
       "      <th>1</th>\n",
       "      <td>48</td>\n",
       "      <td>4734</td>\n",
       "      <td>2</td>\n",
       "      <td>3</td>\n",
       "      <td>0</td>\n",
       "    </tr>\n",
       "    <tr>\n",
       "      <th>2</th>\n",
       "      <td>0</td>\n",
       "      <td>0</td>\n",
       "      <td>6565</td>\n",
       "      <td>0</td>\n",
       "      <td>0</td>\n",
       "    </tr>\n",
       "    <tr>\n",
       "      <th>3</th>\n",
       "      <td>9</td>\n",
       "      <td>0</td>\n",
       "      <td>0</td>\n",
       "      <td>732</td>\n",
       "      <td>0</td>\n",
       "    </tr>\n",
       "    <tr>\n",
       "      <th>4</th>\n",
       "      <td>5</td>\n",
       "      <td>0</td>\n",
       "      <td>0</td>\n",
       "      <td>0</td>\n",
       "      <td>1036</td>\n",
       "    </tr>\n",
       "  </tbody>\n",
       "</table>\n",
       "</div>"
      ],
      "text/plain": [
       "         O  NAME_STUDENT  STREET_ADDRESS  USERNAME  ID_NUM\n",
       "0  2096363           433              10        22      16\n",
       "1       48          4734               2         3       0\n",
       "2        0             0            6565         0       0\n",
       "3        9             0               0       732       0\n",
       "4        5             0               0         0    1036"
      ]
     },
     "execution_count": 16,
     "metadata": {},
     "output_type": "execute_result"
    }
   ],
   "source": [
    "columns = [\n",
    "    'O',\n",
    "    'NAME_STUDENT',\n",
    "    'STREET_ADDRESS',\n",
    "    'USERNAME',\n",
    "    'ID_NUM',\n",
    "]\n",
    "\n",
    "pd.DataFrame(confusion_matrix(valid_real, valid_predict), columns=columns)"
   ]
  },
  {
   "cell_type": "code",
   "execution_count": 8,
   "metadata": {},
   "outputs": [
    {
     "name": "stdout",
     "output_type": "stream",
     "text": [
      "BA: 1.000\n",
      "F1: 1.000\n"
     ]
    }
   ],
   "source": [
    "with torch.no_grad():\n",
    "    train_predict = []\n",
    "    train_proba = []\n",
    "    for batch_X in train_tokens:\n",
    "        predict = model(batch_X.to(device)).cpu()\n",
    "        train_proba.append(predict[:, 1])\n",
    "        train_predict.append(torch.argmax(predict, dim=1))\n",
    "    \n",
    "    train_predict = torch.cat(train_predict)\n",
    "    train_proba = torch.cat(train_proba)\n",
    "    train_real = torch.cat(train_labels)\n",
    "\n",
    "    print(f'BA: {balanced_accuracy_score(train_real, train_predict):.3f}')\n",
    "    print(f'F1: {f1_score(train_real, train_predict, average=\"micro\"):.3f}')\n",
    "\n",
    "with torch.no_grad():\n",
    "    valid_predict = []\n",
    "    valid_proba = []\n",
    "    for batch_X in valid_tokens:\n",
    "        predict = model(batch_X.to(device)).cpu()\n",
    "        valid_proba.append(predict[:, 1])\n",
    "        valid_predict.append(torch.argmax(predict, dim=1))\n",
    "\n",
    "    valid_predict = torch.cat(valid_predict)\n",
    "    valid_proba = torch.cat(valid_proba)\n",
    "    valid_real = torch.cat(valid_labels)\n",
    "\n",
    "    print(f'BA: {balanced_accuracy_score(valid_real, valid_predict):.3f}')\n",
    "    print(f'F1: {f1_score(valid_real, valid_predict, average=\"micro\"):.3f}')"
   ]
  },
  {
   "cell_type": "code",
   "execution_count": 11,
   "metadata": {},
   "outputs": [
    {
     "data": {
      "text/html": [
       "<div>\n",
       "<style scoped>\n",
       "    .dataframe tbody tr th:only-of-type {\n",
       "        vertical-align: middle;\n",
       "    }\n",
       "\n",
       "    .dataframe tbody tr th {\n",
       "        vertical-align: top;\n",
       "    }\n",
       "\n",
       "    .dataframe thead th {\n",
       "        text-align: right;\n",
       "    }\n",
       "</style>\n",
       "<table border=\"1\" class=\"dataframe\">\n",
       "  <thead>\n",
       "    <tr style=\"text-align: right;\">\n",
       "      <th></th>\n",
       "      <th>O</th>\n",
       "      <th>NAME_STUDENT</th>\n",
       "      <th>STREET_ADDRESS</th>\n",
       "    </tr>\n",
       "  </thead>\n",
       "  <tbody>\n",
       "    <tr>\n",
       "      <th>0</th>\n",
       "      <td>1671929</td>\n",
       "      <td>130</td>\n",
       "      <td>12</td>\n",
       "    </tr>\n",
       "    <tr>\n",
       "      <th>1</th>\n",
       "      <td>103</td>\n",
       "      <td>3815</td>\n",
       "      <td>1</td>\n",
       "    </tr>\n",
       "    <tr>\n",
       "      <th>2</th>\n",
       "      <td>0</td>\n",
       "      <td>0</td>\n",
       "      <td>5364</td>\n",
       "    </tr>\n",
       "  </tbody>\n",
       "</table>\n",
       "</div>"
      ],
      "text/plain": [
       "         O  NAME_STUDENT  STREET_ADDRESS\n",
       "0  1671929           130              12\n",
       "1      103          3815               1\n",
       "2        0             0            5364"
      ]
     },
     "execution_count": 11,
     "metadata": {},
     "output_type": "execute_result"
    }
   ],
   "source": [
    "columns = [\n",
    "    'O',\n",
    "    'NAME_STUDENT',\n",
    "    'STREET_ADDRESS',\n",
    "    # 'USERNAME',\n",
    "    # 'ID_NUM',\n",
    "]\n",
    "\n",
    "pd.DataFrame(confusion_matrix(valid_real, valid_predict), columns=columns)"
   ]
  },
  {
   "cell_type": "code",
   "execution_count": 17,
   "metadata": {},
   "outputs": [
    {
     "data": {
      "text/plain": [
       "0"
      ]
     },
     "execution_count": 17,
     "metadata": {},
     "output_type": "execute_result"
    }
   ],
   "source": [
    "token2emb = []\n",
    "train_tokens = []\n",
    "train_labels = []\n",
    "test_tokens = []\n",
    "test_labels = []\n",
    "\n",
    "import gc\n",
    "gc.collect()"
   ]
  },
  {
   "cell_type": "code",
   "execution_count": 4,
   "metadata": {},
   "outputs": [
    {
     "name": "stdout",
     "output_type": "stream",
     "text": [
      "\n"
     ]
    }
   ],
   "source": [
    "device = 'cuda' if torch.cuda.is_available() else 'cpu'\n",
    "\n",
    "class_weigths = torch.FloatTensor([1,1,1,1,1])\n",
    "model = BiLSTM(\n",
    "    embedding_dim=300,\n",
    "    hidden_size=32,\n",
    "    nclasses=len(class_weigths),\n",
    "    device=device,\n",
    "    class_weigths=class_weigths\n",
    ")\n",
    "\n",
    "checkpoint = torch.load('saved_models/bi_lstm.pt')\n",
    "model.load_state_dict(checkpoint['model_state_dict'])\n",
    "model.optim.load_state_dict(checkpoint['optimizer_state_dict'])\n",
    "model.eval()\n",
    "model.to(device)\n",
    "print()"
   ]
  },
  {
   "cell_type": "code",
   "execution_count": 5,
   "metadata": {},
   "outputs": [
    {
     "data": {
      "application/vnd.jupyter.widget-view+json": {
       "model_id": "f79c901979f54af79c718c7987c00996",
       "version_major": 2,
       "version_minor": 0
      },
      "text/plain": [
       "0it [00:00, ?it/s]"
      ]
     },
     "metadata": {},
     "output_type": "display_data"
    }
   ],
   "source": [
    "token2emb = {}\n",
    "with open('wiki-news-300d-1M.vec', 'r', encoding='utf-8') as f:\n",
    "    next(f)\n",
    "    for it in tqdm(f):\n",
    "        row = it.split(' ')\n",
    "        token2emb[row[0]] = list(map(float, row[1:]))"
   ]
  },
  {
   "cell_type": "code",
   "execution_count": 6,
   "metadata": {},
   "outputs": [],
   "source": [
    "def get_predict_table(data, token2emb, num2label, label2num):\n",
    "    def check_name(x):\n",
    "        flag = False\n",
    "        flag = x[0].isupper()\n",
    "        for it in x[1:]:\n",
    "            flag *= it.islower()\n",
    "        return flag\n",
    "    \n",
    "    data_tokens, _ = embedding(data, token2emb, label2num)\n",
    "    predict_table = [[], [], [], [], []] # document, token_idx, token, predict, real\n",
    "    for i in tqdm(range(len(data))):\n",
    "        with torch.no_grad():\n",
    "            predict = torch.argmax(model.forward(data_tokens[i].to(device)), dim=1).cpu()\n",
    "            predict = [num2label[it.item()] for it in predict]\n",
    "            predict = ['O' if len(set(x)) < 2 else y for x, y in zip(data[i]['tokens'], predict)]\n",
    "            predict_table[0] += [data[i]['document']]*len(predict)\n",
    "            predict_table[1] += list(range(len(predict)))\n",
    "            predict_table[2] += data[i]['tokens']\n",
    "            predict_table[3] += predict\n",
    "            predict_table[4] += data[i]['labels'] \n",
    "        \n",
    "    predict_table = [[predict_table[0][i], predict_table[1][i], predict_table[2][i], predict_table[3][i], predict_table[4][i]] for i in range(len(predict_table[0]))]\n",
    "    predict_table = pd.DataFrame(predict_table, columns=['document', 'token_i', 'token', 'predict', 'label'])\n",
    "    predict_table = predict_table.loc[(predict_table.label != 'O') & (predict_table.token != \"\\n\") & (predict_table.token != \"\\n\\n\") & (predict_table.token != \"\\t\")].reset_index(drop=True)\n",
    "    predict_table['prefix'] = 'B-'\n",
    "\n",
    "    predict_table = predict_table.sort_values('document').reset_index(drop=True)\n",
    "\n",
    "    # return predict_table.loc[predict_table.label.isin(set(['O', 'B-ID_NUM', 'I-ID_NUM', 'B-USERNAME', 'I-USERNAME']))].reset_index(drop=True)\n",
    "    # return predict_table.loc[predict_table.label.isin(set(['O', 'B-NAME_STUDENT', 'I-NAME_STUDENT', 'B-STREET_ADDRESS', 'I-STREET_ADDRESS']))].reset_index(drop=True)\n",
    "    return predict_table"
   ]
  },
  {
   "cell_type": "code",
   "execution_count": 8,
   "metadata": {},
   "outputs": [
    {
     "data": {
      "application/vnd.jupyter.widget-view+json": {
       "model_id": "d2b053e3cc0646f893a4371cc94555c1",
       "version_major": 2,
       "version_minor": 0
      },
      "text/plain": [
       "  0%|          | 0/6807 [00:00<?, ?it/s]"
      ]
     },
     "metadata": {},
     "output_type": "display_data"
    },
    {
     "data": {
      "application/vnd.jupyter.widget-view+json": {
       "model_id": "810e5844380e4d80b23733782502c95c",
       "version_major": 2,
       "version_minor": 0
      },
      "text/plain": [
       "  0%|          | 0/6807 [00:00<?, ?it/s]"
      ]
     },
     "metadata": {},
     "output_type": "display_data"
    },
    {
     "data": {
      "text/plain": [
       "0"
      ]
     },
     "execution_count": 8,
     "metadata": {},
     "output_type": "execute_result"
    }
   ],
   "source": [
    "# create table for name and address\n",
    "label2num = {\n",
    "    'B-NAME_STUDENT': 1, \n",
    "    'I-NAME_STUDENT': 1, \n",
    "    'B-STREET_ADDRESS': 2, \n",
    "    'I-STREET_ADDRESS': 2, \n",
    "    'B-USERNAME': 3,\n",
    "    'I-USERNAME': 3, \n",
    "    'B-ID_NUM': 4, \n",
    "    'I-ID_NUM': 4, \n",
    "    \n",
    "    'O': 0,\n",
    "    'B-URL_PERSONAL': 0, \n",
    "    'I-URL_PERSONAL': 0, \n",
    "    'B-EMAIL': 0, \n",
    "    'I-EMAIL': 0,\n",
    "    'B-PHONE_NUM': 0, \n",
    "    'I-PHONE_NUM': 0, \n",
    "}\n",
    "\n",
    "num2label = {\n",
    "    0: 'O',\n",
    "    1: 'NAME_STUDENT', \n",
    "    2: 'STREET_ADDRESS', \n",
    "    3: 'USERNAME',\n",
    "    4: 'ID_NUM',\n",
    "}\n",
    "\n",
    "import gc\n",
    "with open('data/train.json', 'r', encoding='utf-8') as f:\n",
    "    data = json.load(f)\n",
    "\n",
    "predict_table = get_predict_table(data, token2emb, num2label, label2num)\n",
    "gc.collect()"
   ]
  },
  {
   "cell_type": "code",
   "execution_count": 9,
   "metadata": {},
   "outputs": [
    {
     "data": {
      "text/html": [
       "<div>\n",
       "<style scoped>\n",
       "    .dataframe tbody tr th:only-of-type {\n",
       "        vertical-align: middle;\n",
       "    }\n",
       "\n",
       "    .dataframe tbody tr th {\n",
       "        vertical-align: top;\n",
       "    }\n",
       "\n",
       "    .dataframe thead th {\n",
       "        text-align: right;\n",
       "    }\n",
       "</style>\n",
       "<table border=\"1\" class=\"dataframe\">\n",
       "  <thead>\n",
       "    <tr style=\"text-align: right;\">\n",
       "      <th></th>\n",
       "      <th>document</th>\n",
       "      <th>token_i</th>\n",
       "      <th>token</th>\n",
       "      <th>predict</th>\n",
       "      <th>label</th>\n",
       "      <th>prefix</th>\n",
       "    </tr>\n",
       "  </thead>\n",
       "  <tbody>\n",
       "    <tr>\n",
       "      <th>0</th>\n",
       "      <td>7</td>\n",
       "      <td>9</td>\n",
       "      <td>Nathalie</td>\n",
       "      <td>NAME_STUDENT</td>\n",
       "      <td>B-NAME_STUDENT</td>\n",
       "      <td>B-</td>\n",
       "    </tr>\n",
       "    <tr>\n",
       "      <th>1</th>\n",
       "      <td>7</td>\n",
       "      <td>10</td>\n",
       "      <td>Sylla</td>\n",
       "      <td>NAME_STUDENT</td>\n",
       "      <td>I-NAME_STUDENT</td>\n",
       "      <td>B-</td>\n",
       "    </tr>\n",
       "    <tr>\n",
       "      <th>2</th>\n",
       "      <td>7</td>\n",
       "      <td>482</td>\n",
       "      <td>Nathalie</td>\n",
       "      <td>NAME_STUDENT</td>\n",
       "      <td>B-NAME_STUDENT</td>\n",
       "      <td>B-</td>\n",
       "    </tr>\n",
       "    <tr>\n",
       "      <th>3</th>\n",
       "      <td>7</td>\n",
       "      <td>483</td>\n",
       "      <td>Sylla</td>\n",
       "      <td>NAME_STUDENT</td>\n",
       "      <td>I-NAME_STUDENT</td>\n",
       "      <td>B-</td>\n",
       "    </tr>\n",
       "    <tr>\n",
       "      <th>4</th>\n",
       "      <td>7</td>\n",
       "      <td>741</td>\n",
       "      <td>Nathalie</td>\n",
       "      <td>NAME_STUDENT</td>\n",
       "      <td>B-NAME_STUDENT</td>\n",
       "      <td>B-</td>\n",
       "    </tr>\n",
       "  </tbody>\n",
       "</table>\n",
       "</div>"
      ],
      "text/plain": [
       "   document  token_i     token       predict           label prefix\n",
       "0         7        9  Nathalie  NAME_STUDENT  B-NAME_STUDENT     B-\n",
       "1         7       10     Sylla  NAME_STUDENT  I-NAME_STUDENT     B-\n",
       "2         7      482  Nathalie  NAME_STUDENT  B-NAME_STUDENT     B-\n",
       "3         7      483     Sylla  NAME_STUDENT  I-NAME_STUDENT     B-\n",
       "4         7      741  Nathalie  NAME_STUDENT  B-NAME_STUDENT     B-"
      ]
     },
     "execution_count": 9,
     "metadata": {},
     "output_type": "execute_result"
    }
   ],
   "source": [
    "predict_table.head()"
   ]
  },
  {
   "cell_type": "code",
   "execution_count": 10,
   "metadata": {},
   "outputs": [
    {
     "name": "stdout",
     "output_type": "stream",
     "text": [
      "F1 score: 0.9199853854585314\n"
     ]
    }
   ],
   "source": [
    "label = predict_table['label'].str.slice(2).values \n",
    "predict = predict_table['predict'].values \n",
    "print(f'F1 score: {f1_score(label, predict, average=\"micro\")}')"
   ]
  },
  {
   "cell_type": "code",
   "execution_count": 11,
   "metadata": {},
   "outputs": [
    {
     "name": "stdout",
     "output_type": "stream",
     "text": [
      "F1 score: 0.7822433321154548\n"
     ]
    }
   ],
   "source": [
    "for i in range(1, predict_table.shape[0]):\n",
    "    if (predict_table.at[i-1, 'predict'] == predict_table.at[i, 'predict']) & (predict_table.at[i-1, 'document'] == predict_table.at[i, 'document']) & (predict_table.at[i, 'token_i'] - predict_table.at[i-1, 'token_i'] == 1):\n",
    "        predict_table.at[i, 'prefix'] = 'I-'\n",
    "predict_table['predict'] = predict_table['prefix'] + predict_table['predict']\n",
    "\n",
    "print(f'F1 score: {f1_score(predict_table.label, predict_table.predict, average=\"micro\")}')"
   ]
  },
  {
   "cell_type": "code",
   "execution_count": 12,
   "metadata": {},
   "outputs": [
    {
     "data": {
      "text/html": [
       "<div>\n",
       "<style scoped>\n",
       "    .dataframe tbody tr th:only-of-type {\n",
       "        vertical-align: middle;\n",
       "    }\n",
       "\n",
       "    .dataframe tbody tr th {\n",
       "        vertical-align: top;\n",
       "    }\n",
       "\n",
       "    .dataframe thead th {\n",
       "        text-align: right;\n",
       "    }\n",
       "</style>\n",
       "<table border=\"1\" class=\"dataframe\">\n",
       "  <thead>\n",
       "    <tr style=\"text-align: right;\">\n",
       "      <th></th>\n",
       "      <th>document</th>\n",
       "      <th>token_i</th>\n",
       "      <th>token</th>\n",
       "      <th>predict</th>\n",
       "      <th>label</th>\n",
       "      <th>prefix</th>\n",
       "    </tr>\n",
       "  </thead>\n",
       "  <tbody>\n",
       "    <tr>\n",
       "      <th>0</th>\n",
       "      <td>7</td>\n",
       "      <td>9</td>\n",
       "      <td>Nathalie</td>\n",
       "      <td>B-NAME_STUDENT</td>\n",
       "      <td>B-NAME_STUDENT</td>\n",
       "      <td>B-</td>\n",
       "    </tr>\n",
       "    <tr>\n",
       "      <th>1</th>\n",
       "      <td>7</td>\n",
       "      <td>10</td>\n",
       "      <td>Sylla</td>\n",
       "      <td>I-NAME_STUDENT</td>\n",
       "      <td>I-NAME_STUDENT</td>\n",
       "      <td>I-</td>\n",
       "    </tr>\n",
       "    <tr>\n",
       "      <th>2</th>\n",
       "      <td>7</td>\n",
       "      <td>482</td>\n",
       "      <td>Nathalie</td>\n",
       "      <td>B-NAME_STUDENT</td>\n",
       "      <td>B-NAME_STUDENT</td>\n",
       "      <td>B-</td>\n",
       "    </tr>\n",
       "    <tr>\n",
       "      <th>3</th>\n",
       "      <td>7</td>\n",
       "      <td>483</td>\n",
       "      <td>Sylla</td>\n",
       "      <td>I-NAME_STUDENT</td>\n",
       "      <td>I-NAME_STUDENT</td>\n",
       "      <td>I-</td>\n",
       "    </tr>\n",
       "    <tr>\n",
       "      <th>4</th>\n",
       "      <td>7</td>\n",
       "      <td>741</td>\n",
       "      <td>Nathalie</td>\n",
       "      <td>B-NAME_STUDENT</td>\n",
       "      <td>B-NAME_STUDENT</td>\n",
       "      <td>B-</td>\n",
       "    </tr>\n",
       "    <tr>\n",
       "      <th>...</th>\n",
       "      <td>...</td>\n",
       "      <td>...</td>\n",
       "      <td>...</td>\n",
       "      <td>...</td>\n",
       "      <td>...</td>\n",
       "      <td>...</td>\n",
       "    </tr>\n",
       "    <tr>\n",
       "      <th>2732</th>\n",
       "      <td>15717</td>\n",
       "      <td>365</td>\n",
       "      <td>IV-8322</td>\n",
       "      <td>B-ID_NUM</td>\n",
       "      <td>B-ID_NUM</td>\n",
       "      <td>B-</td>\n",
       "    </tr>\n",
       "    <tr>\n",
       "      <th>2733</th>\n",
       "      <td>15717</td>\n",
       "      <td>964</td>\n",
       "      <td>IV-8322</td>\n",
       "      <td>B-ID_NUM</td>\n",
       "      <td>B-ID_NUM</td>\n",
       "      <td>B-</td>\n",
       "    </tr>\n",
       "    <tr>\n",
       "      <th>2734</th>\n",
       "      <td>19280</td>\n",
       "      <td>55</td>\n",
       "      <td>30407059</td>\n",
       "      <td>B-ID_NUM</td>\n",
       "      <td>I-ID_NUM</td>\n",
       "      <td>B-</td>\n",
       "    </tr>\n",
       "    <tr>\n",
       "      <th>2735</th>\n",
       "      <td>19280</td>\n",
       "      <td>54</td>\n",
       "      <td>Z.S.</td>\n",
       "      <td>B-ID_NUM</td>\n",
       "      <td>B-ID_NUM</td>\n",
       "      <td>B-</td>\n",
       "    </tr>\n",
       "    <tr>\n",
       "      <th>2736</th>\n",
       "      <td>20984</td>\n",
       "      <td>6</td>\n",
       "      <td>V69230</td>\n",
       "      <td>B-ID_NUM</td>\n",
       "      <td>B-ID_NUM</td>\n",
       "      <td>B-</td>\n",
       "    </tr>\n",
       "  </tbody>\n",
       "</table>\n",
       "<p>2737 rows × 6 columns</p>\n",
       "</div>"
      ],
      "text/plain": [
       "      document  token_i     token         predict           label prefix\n",
       "0            7        9  Nathalie  B-NAME_STUDENT  B-NAME_STUDENT     B-\n",
       "1            7       10     Sylla  I-NAME_STUDENT  I-NAME_STUDENT     I-\n",
       "2            7      482  Nathalie  B-NAME_STUDENT  B-NAME_STUDENT     B-\n",
       "3            7      483     Sylla  I-NAME_STUDENT  I-NAME_STUDENT     I-\n",
       "4            7      741  Nathalie  B-NAME_STUDENT  B-NAME_STUDENT     B-\n",
       "...        ...      ...       ...             ...             ...    ...\n",
       "2732     15717      365   IV-8322        B-ID_NUM        B-ID_NUM     B-\n",
       "2733     15717      964   IV-8322        B-ID_NUM        B-ID_NUM     B-\n",
       "2734     19280       55  30407059        B-ID_NUM        I-ID_NUM     B-\n",
       "2735     19280       54      Z.S.        B-ID_NUM        B-ID_NUM     B-\n",
       "2736     20984        6    V69230        B-ID_NUM        B-ID_NUM     B-\n",
       "\n",
       "[2737 rows x 6 columns]"
      ]
     },
     "execution_count": 12,
     "metadata": {},
     "output_type": "execute_result"
    }
   ],
   "source": [
    "predict_table"
   ]
  },
  {
   "cell_type": "code",
   "execution_count": 13,
   "metadata": {},
   "outputs": [
    {
     "data": {
      "text/html": [
       "<div>\n",
       "<style scoped>\n",
       "    .dataframe tbody tr th:only-of-type {\n",
       "        vertical-align: middle;\n",
       "    }\n",
       "\n",
       "    .dataframe tbody tr th {\n",
       "        vertical-align: top;\n",
       "    }\n",
       "\n",
       "    .dataframe thead th {\n",
       "        text-align: right;\n",
       "    }\n",
       "</style>\n",
       "<table border=\"1\" class=\"dataframe\">\n",
       "  <thead>\n",
       "    <tr style=\"text-align: right;\">\n",
       "      <th></th>\n",
       "      <th>predict</th>\n",
       "      <th>label</th>\n",
       "    </tr>\n",
       "  </thead>\n",
       "  <tbody>\n",
       "    <tr>\n",
       "      <th>0</th>\n",
       "      <td>B-ID_NUM</td>\n",
       "      <td>1</td>\n",
       "    </tr>\n",
       "    <tr>\n",
       "      <th>1</th>\n",
       "      <td>B-NAME_STUDENT</td>\n",
       "      <td>366</td>\n",
       "    </tr>\n",
       "    <tr>\n",
       "      <th>2</th>\n",
       "      <td>B-O</td>\n",
       "      <td>211</td>\n",
       "    </tr>\n",
       "    <tr>\n",
       "      <th>3</th>\n",
       "      <td>B-STREET_ADDRESS</td>\n",
       "      <td>10</td>\n",
       "    </tr>\n",
       "    <tr>\n",
       "      <th>4</th>\n",
       "      <td>B-USERNAME</td>\n",
       "      <td>1</td>\n",
       "    </tr>\n",
       "    <tr>\n",
       "      <th>5</th>\n",
       "      <td>I-O</td>\n",
       "      <td>7</td>\n",
       "    </tr>\n",
       "  </tbody>\n",
       "</table>\n",
       "</div>"
      ],
      "text/plain": [
       "            predict  label\n",
       "0          B-ID_NUM      1\n",
       "1    B-NAME_STUDENT    366\n",
       "2               B-O    211\n",
       "3  B-STREET_ADDRESS     10\n",
       "4        B-USERNAME      1\n",
       "5               I-O      7"
      ]
     },
     "execution_count": 13,
     "metadata": {},
     "output_type": "execute_result"
    }
   ],
   "source": [
    "predict_table.loc[predict_table.predict != predict_table.label].groupby('predict', as_index=False).label.count()"
   ]
  },
  {
   "cell_type": "code",
   "execution_count": 12,
   "metadata": {},
   "outputs": [
    {
     "data": {
      "text/html": [
       "<div>\n",
       "<style scoped>\n",
       "    .dataframe tbody tr th:only-of-type {\n",
       "        vertical-align: middle;\n",
       "    }\n",
       "\n",
       "    .dataframe tbody tr th {\n",
       "        vertical-align: top;\n",
       "    }\n",
       "\n",
       "    .dataframe thead th {\n",
       "        text-align: right;\n",
       "    }\n",
       "</style>\n",
       "<table border=\"1\" class=\"dataframe\">\n",
       "  <thead>\n",
       "    <tr style=\"text-align: right;\">\n",
       "      <th></th>\n",
       "      <th>document</th>\n",
       "      <th>token_i</th>\n",
       "      <th>token</th>\n",
       "      <th>predict</th>\n",
       "      <th>label</th>\n",
       "      <th>prefix</th>\n",
       "      <th>upper_start</th>\n",
       "    </tr>\n",
       "  </thead>\n",
       "  <tbody>\n",
       "    <tr>\n",
       "      <th>0</th>\n",
       "      <td>7</td>\n",
       "      <td>9</td>\n",
       "      <td>Nathalie</td>\n",
       "      <td>B-NAME_STUDENT</td>\n",
       "      <td>B-NAME_STUDENT</td>\n",
       "      <td>B-</td>\n",
       "      <td>1</td>\n",
       "    </tr>\n",
       "    <tr>\n",
       "      <th>1</th>\n",
       "      <td>7</td>\n",
       "      <td>10</td>\n",
       "      <td>Sylla</td>\n",
       "      <td>I-NAME_STUDENT</td>\n",
       "      <td>I-NAME_STUDENT</td>\n",
       "      <td>I-</td>\n",
       "      <td>1</td>\n",
       "    </tr>\n",
       "    <tr>\n",
       "      <th>2</th>\n",
       "      <td>7</td>\n",
       "      <td>482</td>\n",
       "      <td>Nathalie</td>\n",
       "      <td>B-NAME_STUDENT</td>\n",
       "      <td>B-NAME_STUDENT</td>\n",
       "      <td>B-</td>\n",
       "      <td>1</td>\n",
       "    </tr>\n",
       "    <tr>\n",
       "      <th>3</th>\n",
       "      <td>7</td>\n",
       "      <td>483</td>\n",
       "      <td>Sylla</td>\n",
       "      <td>I-NAME_STUDENT</td>\n",
       "      <td>I-NAME_STUDENT</td>\n",
       "      <td>I-</td>\n",
       "      <td>1</td>\n",
       "    </tr>\n",
       "    <tr>\n",
       "      <th>4</th>\n",
       "      <td>7</td>\n",
       "      <td>741</td>\n",
       "      <td>Nathalie</td>\n",
       "      <td>B-NAME_STUDENT</td>\n",
       "      <td>B-NAME_STUDENT</td>\n",
       "      <td>B-</td>\n",
       "      <td>1</td>\n",
       "    </tr>\n",
       "    <tr>\n",
       "      <th>...</th>\n",
       "      <td>...</td>\n",
       "      <td>...</td>\n",
       "      <td>...</td>\n",
       "      <td>...</td>\n",
       "      <td>...</td>\n",
       "      <td>...</td>\n",
       "      <td>...</td>\n",
       "    </tr>\n",
       "    <tr>\n",
       "      <th>2639</th>\n",
       "      <td>22147</td>\n",
       "      <td>457</td>\n",
       "      <td>Francesca</td>\n",
       "      <td>B-NAME_STUDENT</td>\n",
       "      <td>O</td>\n",
       "      <td>B-</td>\n",
       "      <td>1</td>\n",
       "    </tr>\n",
       "    <tr>\n",
       "      <th>2640</th>\n",
       "      <td>22147</td>\n",
       "      <td>1408</td>\n",
       "      <td>Melanie</td>\n",
       "      <td>B-NAME_STUDENT</td>\n",
       "      <td>O</td>\n",
       "      <td>B-</td>\n",
       "      <td>1</td>\n",
       "    </tr>\n",
       "    <tr>\n",
       "      <th>2641</th>\n",
       "      <td>22181</td>\n",
       "      <td>738</td>\n",
       "      <td>Portman</td>\n",
       "      <td>B-NAME_STUDENT</td>\n",
       "      <td>O</td>\n",
       "      <td>B-</td>\n",
       "      <td>1</td>\n",
       "    </tr>\n",
       "    <tr>\n",
       "      <th>2642</th>\n",
       "      <td>22181</td>\n",
       "      <td>736</td>\n",
       "      <td>Natalie</td>\n",
       "      <td>B-NAME_STUDENT</td>\n",
       "      <td>O</td>\n",
       "      <td>B-</td>\n",
       "      <td>1</td>\n",
       "    </tr>\n",
       "    <tr>\n",
       "      <th>2643</th>\n",
       "      <td>22206</td>\n",
       "      <td>108</td>\n",
       "      <td>René</td>\n",
       "      <td>B-NAME_STUDENT</td>\n",
       "      <td>O</td>\n",
       "      <td>B-</td>\n",
       "      <td>1</td>\n",
       "    </tr>\n",
       "  </tbody>\n",
       "</table>\n",
       "<p>2644 rows × 7 columns</p>\n",
       "</div>"
      ],
      "text/plain": [
       "      document  token_i      token         predict           label prefix  \\\n",
       "0            7        9   Nathalie  B-NAME_STUDENT  B-NAME_STUDENT     B-   \n",
       "1            7       10      Sylla  I-NAME_STUDENT  I-NAME_STUDENT     I-   \n",
       "2            7      482   Nathalie  B-NAME_STUDENT  B-NAME_STUDENT     B-   \n",
       "3            7      483      Sylla  I-NAME_STUDENT  I-NAME_STUDENT     I-   \n",
       "4            7      741   Nathalie  B-NAME_STUDENT  B-NAME_STUDENT     B-   \n",
       "...        ...      ...        ...             ...             ...    ...   \n",
       "2639     22147      457  Francesca  B-NAME_STUDENT               O     B-   \n",
       "2640     22147     1408    Melanie  B-NAME_STUDENT               O     B-   \n",
       "2641     22181      738    Portman  B-NAME_STUDENT               O     B-   \n",
       "2642     22181      736    Natalie  B-NAME_STUDENT               O     B-   \n",
       "2643     22206      108       René  B-NAME_STUDENT               O     B-   \n",
       "\n",
       "     upper_start  \n",
       "0              1  \n",
       "1              1  \n",
       "2              1  \n",
       "3              1  \n",
       "4              1  \n",
       "...          ...  \n",
       "2639           1  \n",
       "2640           1  \n",
       "2641           1  \n",
       "2642           1  \n",
       "2643           1  \n",
       "\n",
       "[2644 rows x 7 columns]"
      ]
     },
     "execution_count": 12,
     "metadata": {},
     "output_type": "execute_result"
    }
   ],
   "source": [
    "predict_table"
   ]
  },
  {
   "cell_type": "code",
   "execution_count": null,
   "metadata": {},
   "outputs": [],
   "source": []
  }
 ],
 "metadata": {
  "kernelspec": {
   "display_name": "Python 3",
   "language": "python",
   "name": "python3"
  },
  "language_info": {
   "codemirror_mode": {
    "name": "ipython",
    "version": 3
   },
   "file_extension": ".py",
   "mimetype": "text/x-python",
   "name": "python",
   "nbconvert_exporter": "python",
   "pygments_lexer": "ipython3",
   "version": "3.10.11"
  }
 },
 "nbformat": 4,
 "nbformat_minor": 2
}
