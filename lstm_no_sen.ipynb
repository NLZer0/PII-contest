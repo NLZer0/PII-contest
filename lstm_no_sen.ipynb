{
 "cells": [
  {
   "cell_type": "code",
   "execution_count": 1,
   "metadata": {},
   "outputs": [],
   "source": [
    "# model class \n",
    "\n",
    "import torch \n",
    "from torch import nn \n",
    "from tqdm.auto import tqdm \n",
    "\n",
    "import json\n",
    "from importlib import reload\n",
    "\n",
    "import torch\n",
    "import numpy as np\n",
    "import pandas as pd \n",
    "from tqdm.auto import tqdm\n",
    "from sklearn.metrics import balanced_accuracy_score, f1_score, confusion_matrix, roc_auc_score\n",
    "\n",
    "\n",
    "class BiLSTM(nn.Module):\n",
    "    def __init__(self, vocab_size, embedding_dim, hidden_size, nclasses, class_weigths=None, device='cpu') -> None:\n",
    "        super().__init__()\n",
    "\n",
    "        # self.embedding = nn.Embedding(num_embeddings=vocab_size, embedding_dim=embedding_dim).to(device)\n",
    "        self.lstm_model = nn.LSTM(embedding_dim, hidden_size//2, bidirectional=True).to(device)\n",
    "        self.ffwd_lay = nn.Linear(hidden_size, nclasses).to(device)\n",
    "        self.softmax = nn.Softmax(dim=1).to(device)\n",
    "\n",
    "        self.optim = torch.optim.Adam(self.parameters(), lr=1e-2)\n",
    "        self.criterion = nn.CrossEntropyLoss(weight=class_weigths)\n",
    "        \n",
    "        self.loss_history = []\n",
    "\n",
    "\n",
    "    def forward(self, batch):\n",
    "        # out = self.embedding(batch) # L x vocab_size -> L x embedding_dim\n",
    "        out = self.lstm_model(batch)[0] # L x hidden_size\n",
    "        out = self.ffwd_lay(out) # L x nclasses\n",
    "        return self.softmax(out)\n",
    "\n",
    "\n",
    "    def fit(self, train_X, train_Y, valid_X, valid_Y, nepochs, lr, device):\n",
    "        self.train()\n",
    "        self.to(device)\n",
    "\n",
    "        for g in self.optim.param_groups:\n",
    "            g['lr'] = lr    \n",
    "        \n",
    "        for ep in tqdm(range(nepochs)):\n",
    "            eploss = 0\n",
    "\n",
    "            for batch_X, batch_Y in zip(train_X, train_Y):\n",
    "                predict = self.forward(batch_X.to(device))\n",
    "                \n",
    "                self.optim.zero_grad()\n",
    "                loss = self.criterion(predict, batch_Y.to(device))\n",
    "                loss.backward()\n",
    "                self.optim.step()\n",
    "\n",
    "                eploss += loss.item()\n",
    "                self.loss_history.append(loss.item())\n",
    "            \n",
    "            printbool = ep % (nepochs//10) == 0 if nepochs > 10 else True\n",
    "            if printbool:\n",
    "                with torch.no_grad():\n",
    "                    train_predict = []\n",
    "                    for batch_X in train_X:\n",
    "                        predict = torch.argmax(self.forward(batch_X.to(device)), dim=1)\n",
    "                        train_predict.append(predict.cpu())\n",
    "                    \n",
    "                    train_predict = torch.cat(train_predict)\n",
    "                    train_real = torch.cat(train_Y)\n",
    "    \n",
    "                    test_predict = []\n",
    "                    for batch_X in valid_X:\n",
    "                        predict = torch.argmax(self.forward(batch_X.to(device)), dim=1)\n",
    "                        test_predict.append(predict.cpu())\n",
    "                    \n",
    "                    test_predict = torch.cat(test_predict)\n",
    "                    test_real = torch.cat(valid_Y)\n",
    "\n",
    "                    # train_predict, train_real = train_predict[train_predict != 0], train_real[train_predict != 0]\n",
    "                    # test_predict, test_real = test_predict[test_predict != 0], test_real[test_predict != 0]\n",
    "                    TP = ((train_predict == train_real) & (train_predict == 1)).sum()\n",
    "                    FP = ((train_predict != train_real) & (train_predict == 1)).sum()\n",
    "                    acc_metric_train = TP / (TP + FP)\n",
    "\n",
    "                    TP = ((test_predict == test_real) & (test_predict == 1)).sum()\n",
    "                    FP = ((test_predict != test_real) & (test_predict == 1)).sum()\n",
    "                    acc_metric_valid = TP / (TP + FP)\n",
    "                    \n",
    "                    print(f'Iter: {ep}, Loss: {eploss/len(train_X):.3f} Train precision {acc_metric_train:.3f}:, Valid precision: {acc_metric_valid:.3f}')\n",
    "                    # print(f'Iter: {ep}, Loss: {eploss/len(train_X):.3f} Train BA: {balanced_accuracy_score(train_real, train_predict):.3f}, Train F1: {f1_score(train_real, train_predict, average=\"micro\"):.3f}, Valid BA: {balanced_accuracy_score(test_real, test_predict):.3f}, Valid F1: {f1_score(test_real, test_predict, average=\"micro\"):.3f}')\n",
    "                        \n",
    "            # printbool = ep % (nepochs//10) == 0 if nepochs > 10 else True\n",
    "            # if printbool:\n",
    "            #     print(f'Train loss: {eploss/len(train_X):.3f}')"
   ]
  },
  {
   "cell_type": "code",
   "execution_count": 2,
   "metadata": {},
   "outputs": [
    {
     "data": {
      "application/vnd.jupyter.widget-view+json": {
       "model_id": "2667be2633844a3c9de3a39314fc4511",
       "version_major": 2,
       "version_minor": 0
      },
      "text/plain": [
       "0it [00:00, ?it/s]"
      ]
     },
     "metadata": {},
     "output_type": "display_data"
    }
   ],
   "source": [
    "token2emb = {}\n",
    "with open('saved_models/wiki-news-300d-1M.vec', 'r', encoding='utf-8') as f:\n",
    "    next(f)\n",
    "    for it in tqdm(f):\n",
    "        row = it.split(' ')\n",
    "        token2emb[row[0]] = list(map(float, row[1:]))"
   ]
  },
  {
   "cell_type": "code",
   "execution_count": 3,
   "metadata": {},
   "outputs": [],
   "source": [
    "def data_label_split(data, label, train_size=0.8):\n",
    "    randidx = np.arange(len(data))\n",
    "    data_train, data_test = train_test_split(data, randidx, train_size)\n",
    "    label_train, label_test = train_test_split(label, randidx, train_size)\n",
    "\n",
    "    return data_train, data_test, label_train, label_test\n",
    "\n",
    "def train_test_split(data, randidx, train_size):\n",
    "    N = len(data)\n",
    "    return [data[i] for i in randidx[:int(train_size*N)]], [data[i] for i in randidx[int(train_size*N):]]\n",
    "\n",
    "def shuffle_data_label_lists(data, label):\n",
    "    randidx = np.arange(len(data))\n",
    "    np.random.shuffle(randidx)\n",
    "    return [data[i] for i in randidx], [label[i] for i in randidx]\n",
    "\n",
    "def batch_split(X, Y, seq_len, batch_size=1000):\n",
    "    x_batched = []\n",
    "    y_batched = []\n",
    "    seq_len_batched = []\n",
    "\n",
    "    n = len(X)\n",
    "    pointer = 0\n",
    "    while pointer + batch_size < n:\n",
    "        x_batched.append(X[pointer:pointer+batch_size])\n",
    "        y_batched.append(Y[pointer:pointer+batch_size])\n",
    "        seq_len_batched.append(seq_len[pointer:pointer+batch_size])\n",
    "        pointer += batch_size \n",
    "    \n",
    "    x_batched.append(X[pointer:])\n",
    "    y_batched.append(Y[pointer:])\n",
    "    seq_len_batched.append(seq_len[pointer:])\n",
    "\n",
    "    return x_batched, y_batched, seq_len_batched"
   ]
  },
  {
   "cell_type": "code",
   "execution_count": 4,
   "metadata": {},
   "outputs": [],
   "source": [
    "# encoding tokens and labels\n",
    "with open('data/mixtral-8x7b-v1.json', 'r', encoding='utf-8') as f:\n",
    "    data_1 = json.load(f)\n",
    "with open('data/train.json', 'r', encoding='utf-8') as f:\n",
    "    data_2 = json.load(f)\n",
    "data = data_1 + data_2\n",
    "    \n",
    "randidx = np.arange(len(data))\n",
    "np.random.shuffle(randidx)\n",
    "data = [data[i] for i in randidx]\n",
    "\n",
    "train_data, valid_data = data[:5000], data[5000:]\n",
    "\n",
    "# unique_tokens, unique_labels = set(), set()\n",
    "# for doc_i, doc in enumerate(tqdm(train_data)):\n",
    "#     unique_tokens |= set(np.unique(doc['tokens']))\n",
    "#     unique_labels |= set(np.unique(doc['labels']))\n",
    "\n",
    "# token2num = dict(zip(unique_tokens, range(1, len(unique_tokens)+1)))\n",
    "# num2token = {}\n",
    "# for it in token2num:\n",
    "#     num2token[token2num[it]] = it\n",
    "    \n",
    "label2num = {\n",
    "    'O': 0,\n",
    "    'B-URL_PERSONAL': 0, \n",
    "    'I-URL_PERSONAL': 0, \n",
    "    'B-ID_NUM': 0, \n",
    "    'I-ID_NUM': 0, \n",
    "    'B-EMAIL': 0, \n",
    "    'I-EMAIL': 0,\n",
    "    'B-NAME_STUDENT': 1, \n",
    "    'I-NAME_STUDENT': 1, \n",
    "    'B-PHONE_NUM': 0, \n",
    "    'I-PHONE_NUM': 0, \n",
    "    'B-USERNAME': 0,\n",
    "    'I-USERNAME': 0, \n",
    "    'B-STREET_ADDRESS': 0, \n",
    "    'I-STREET_ADDRESS': 0, \n",
    "}\n",
    "\n",
    "num2label = {\n",
    "    0: 'O',\n",
    "    # 1: 'ID_NUM',  \n",
    "    1: 'NAME_STUDENT', \n",
    "    # 3: 'USERNAME',\n",
    "    # 4: 'STREET_ADDRESS', \n",
    "}"
   ]
  },
  {
   "cell_type": "code",
   "execution_count": 5,
   "metadata": {},
   "outputs": [
    {
     "data": {
      "application/vnd.jupyter.widget-view+json": {
       "model_id": "c3ef99c9b6814b53947546b2031f8e09",
       "version_major": 2,
       "version_minor": 0
      },
      "text/plain": [
       "  0%|          | 0/5000 [00:00<?, ?it/s]"
      ]
     },
     "metadata": {},
     "output_type": "display_data"
    },
    {
     "data": {
      "application/vnd.jupyter.widget-view+json": {
       "model_id": "fd765ba9e1ca4967ab64234b30cb63fa",
       "version_major": 2,
       "version_minor": 0
      },
      "text/plain": [
       "  0%|          | 0/4162 [00:00<?, ?it/s]"
      ]
     },
     "metadata": {},
     "output_type": "display_data"
    }
   ],
   "source": [
    "train_tokens = []\n",
    "train_labels = []\n",
    "for doc in tqdm(train_data):\n",
    "    train_tokens.append(torch.FloatTensor([token2emb[it] if it in token2emb else [0]*300 for it in doc['tokens']]))\n",
    "    train_labels.append(torch.LongTensor([label2num[it] if it in label2num else 0 for it in doc['labels']]))\n",
    "\n",
    "test_tokens = []\n",
    "test_labels = []\n",
    "for doc in tqdm(valid_data):\n",
    "    test_tokens.append(torch.FloatTensor([token2emb[it] if it in token2emb else [0]*300 for it in doc['tokens']]))\n",
    "    test_labels.append(torch.LongTensor([label2num[it] if it in label2num else 0 for it in doc['labels']]))"
   ]
  },
  {
   "cell_type": "code",
   "execution_count": 6,
   "metadata": {},
   "outputs": [
    {
     "data": {
      "text/plain": [
       "40"
      ]
     },
     "execution_count": 6,
     "metadata": {},
     "output_type": "execute_result"
    }
   ],
   "source": [
    "import gc\n",
    "token2emb = []\n",
    "gc.collect()"
   ]
  },
  {
   "cell_type": "code",
   "execution_count": 7,
   "metadata": {},
   "outputs": [],
   "source": [
    "class_weigths = torch.zeros(max(label2num.values())+1)\n",
    "for i in range(len(class_weigths)):\n",
    "    class_weigths[i] = sum([(it == i).sum().item() for it in train_labels])\n",
    "\n",
    "class_weigths /= class_weigths.sum()\n",
    "class_weigths = 1 - class_weigths\n",
    "class_weigths /= class_weigths.sum()"
   ]
  },
  {
   "cell_type": "code",
   "execution_count": 8,
   "metadata": {},
   "outputs": [],
   "source": [
    "device = 'cuda' if torch.cuda.is_available() else 'cpu'\n",
    "# device = 'cpu'\n",
    "# fit lstm\n",
    "model = BiLSTM(\n",
    "    vocab_size=None,\n",
    "    embedding_dim=300,\n",
    "    hidden_size=128,\n",
    "    nclasses=len(class_weigths),\n",
    "    device=device,\n",
    "    class_weigths=class_weigths\n",
    ")"
   ]
  },
  {
   "cell_type": "code",
   "execution_count": 9,
   "metadata": {},
   "outputs": [
    {
     "data": {
      "application/vnd.jupyter.widget-view+json": {
       "model_id": "0c7bd0b3ea914cf49ef64a8307e6cec6",
       "version_major": 2,
       "version_minor": 0
      },
      "text/plain": [
       "  0%|          | 0/50 [00:00<?, ?it/s]"
      ]
     },
     "metadata": {},
     "output_type": "display_data"
    },
    {
     "name": "stdout",
     "output_type": "stream",
     "text": [
      "Iter: 0, Loss: 0.321 Train precision 0.321:, Valid precision: 0.316\n",
      "Iter: 5, Loss: 0.314 Train precision 0.679:, Valid precision: 0.655\n",
      "Iter: 10, Loss: 0.314 Train precision 0.593:, Valid precision: 0.482\n",
      "Iter: 15, Loss: 0.314 Train precision 0.889:, Valid precision: 0.870\n",
      "Iter: 20, Loss: 0.313 Train precision 0.937:, Valid precision: 0.917\n",
      "Iter: 25, Loss: 0.314 Train precision 0.891:, Valid precision: 0.850\n",
      "Iter: 30, Loss: 0.314 Train precision 0.939:, Valid precision: 0.917\n",
      "Iter: 35, Loss: 0.313 Train precision 0.951:, Valid precision: 0.917\n",
      "Iter: 40, Loss: 0.313 Train precision 0.943:, Valid precision: 0.906\n",
      "Iter: 45, Loss: 0.313 Train precision 0.970:, Valid precision: 0.937\n"
     ]
    }
   ],
   "source": [
    "model.fit(\n",
    "    train_tokens,\n",
    "    train_labels,\n",
    "    valid_X=test_tokens,\n",
    "    valid_Y=test_labels,\n",
    "    nepochs=50,\n",
    "    lr=1e-3,\n",
    "    device=device\n",
    ")"
   ]
  },
  {
   "cell_type": "code",
   "execution_count": 10,
   "metadata": {},
   "outputs": [
    {
     "data": {
      "application/vnd.jupyter.widget-view+json": {
       "model_id": "573b4674271d4fc3a037d45d91ae683a",
       "version_major": 2,
       "version_minor": 0
      },
      "text/plain": [
       "  0%|          | 0/50 [00:00<?, ?it/s]"
      ]
     },
     "metadata": {},
     "output_type": "display_data"
    },
    {
     "name": "stdout",
     "output_type": "stream",
     "text": [
      "Iter: 0, Loss: 0.313 Train precision 0.961:, Valid precision: 0.914\n",
      "Iter: 5, Loss: 0.313 Train precision 0.984:, Valid precision: 0.966\n",
      "Iter: 10, Loss: 0.313 Train precision 0.987:, Valid precision: 0.971\n",
      "Iter: 15, Loss: 0.313 Train precision 0.989:, Valid precision: 0.975\n",
      "Iter: 20, Loss: 0.313 Train precision 0.991:, Valid precision: 0.979\n",
      "Iter: 25, Loss: 0.313 Train precision 0.992:, Valid precision: 0.978\n",
      "Iter: 30, Loss: 0.313 Train precision 0.993:, Valid precision: 0.979\n",
      "Iter: 35, Loss: 0.313 Train precision 0.994:, Valid precision: 0.979\n"
     ]
    },
    {
     "ename": "KeyboardInterrupt",
     "evalue": "",
     "output_type": "error",
     "traceback": [
      "\u001b[1;31m---------------------------------------------------------------------------\u001b[0m",
      "\u001b[1;31mKeyboardInterrupt\u001b[0m                         Traceback (most recent call last)",
      "Cell \u001b[1;32mIn [10], line 1\u001b[0m\n\u001b[1;32m----> 1\u001b[0m \u001b[43mmodel\u001b[49m\u001b[38;5;241;43m.\u001b[39;49m\u001b[43mfit\u001b[49m\u001b[43m(\u001b[49m\n\u001b[0;32m      2\u001b[0m \u001b[43m    \u001b[49m\u001b[43mtrain_tokens\u001b[49m\u001b[43m,\u001b[49m\n\u001b[0;32m      3\u001b[0m \u001b[43m    \u001b[49m\u001b[43mtrain_labels\u001b[49m\u001b[43m,\u001b[49m\n\u001b[0;32m      4\u001b[0m \u001b[43m    \u001b[49m\u001b[43mvalid_X\u001b[49m\u001b[38;5;241;43m=\u001b[39;49m\u001b[43mtest_tokens\u001b[49m\u001b[43m,\u001b[49m\n\u001b[0;32m      5\u001b[0m \u001b[43m    \u001b[49m\u001b[43mvalid_Y\u001b[49m\u001b[38;5;241;43m=\u001b[39;49m\u001b[43mtest_labels\u001b[49m\u001b[43m,\u001b[49m\n\u001b[0;32m      6\u001b[0m \u001b[43m    \u001b[49m\u001b[43mnepochs\u001b[49m\u001b[38;5;241;43m=\u001b[39;49m\u001b[38;5;241;43m50\u001b[39;49m\u001b[43m,\u001b[49m\n\u001b[0;32m      7\u001b[0m \u001b[43m    \u001b[49m\u001b[43mlr\u001b[49m\u001b[38;5;241;43m=\u001b[39;49m\u001b[38;5;241;43m1e-4\u001b[39;49m\u001b[43m,\u001b[49m\n\u001b[0;32m      8\u001b[0m \u001b[43m    \u001b[49m\u001b[43mdevice\u001b[49m\u001b[38;5;241;43m=\u001b[39;49m\u001b[43mdevice\u001b[49m\n\u001b[0;32m      9\u001b[0m \u001b[43m)\u001b[49m\n",
      "Cell \u001b[1;32mIn [1], line 54\u001b[0m, in \u001b[0;36mBiLSTM.fit\u001b[1;34m(self, train_X, train_Y, valid_X, valid_Y, nepochs, lr, device)\u001b[0m\n\u001b[0;32m     52\u001b[0m \u001b[38;5;28mself\u001b[39m\u001b[38;5;241m.\u001b[39moptim\u001b[38;5;241m.\u001b[39mzero_grad()\n\u001b[0;32m     53\u001b[0m loss \u001b[38;5;241m=\u001b[39m \u001b[38;5;28mself\u001b[39m\u001b[38;5;241m.\u001b[39mcriterion(predict, batch_Y\u001b[38;5;241m.\u001b[39mto(device))\n\u001b[1;32m---> 54\u001b[0m \u001b[43mloss\u001b[49m\u001b[38;5;241;43m.\u001b[39;49m\u001b[43mbackward\u001b[49m\u001b[43m(\u001b[49m\u001b[43m)\u001b[49m\n\u001b[0;32m     55\u001b[0m \u001b[38;5;28mself\u001b[39m\u001b[38;5;241m.\u001b[39moptim\u001b[38;5;241m.\u001b[39mstep()\n\u001b[0;32m     57\u001b[0m eploss \u001b[38;5;241m+\u001b[39m\u001b[38;5;241m=\u001b[39m loss\u001b[38;5;241m.\u001b[39mitem()\n",
      "File \u001b[1;32mc:\\Users\\zmitrovich.nik\\AppData\\Local\\Programs\\Python\\Python310\\lib\\site-packages\\torch\\_tensor.py:487\u001b[0m, in \u001b[0;36mTensor.backward\u001b[1;34m(self, gradient, retain_graph, create_graph, inputs)\u001b[0m\n\u001b[0;32m    477\u001b[0m \u001b[38;5;28;01mif\u001b[39;00m has_torch_function_unary(\u001b[38;5;28mself\u001b[39m):\n\u001b[0;32m    478\u001b[0m     \u001b[38;5;28;01mreturn\u001b[39;00m handle_torch_function(\n\u001b[0;32m    479\u001b[0m         Tensor\u001b[38;5;241m.\u001b[39mbackward,\n\u001b[0;32m    480\u001b[0m         (\u001b[38;5;28mself\u001b[39m,),\n\u001b[1;32m   (...)\u001b[0m\n\u001b[0;32m    485\u001b[0m         inputs\u001b[38;5;241m=\u001b[39minputs,\n\u001b[0;32m    486\u001b[0m     )\n\u001b[1;32m--> 487\u001b[0m \u001b[43mtorch\u001b[49m\u001b[38;5;241;43m.\u001b[39;49m\u001b[43mautograd\u001b[49m\u001b[38;5;241;43m.\u001b[39;49m\u001b[43mbackward\u001b[49m\u001b[43m(\u001b[49m\n\u001b[0;32m    488\u001b[0m \u001b[43m    \u001b[49m\u001b[38;5;28;43mself\u001b[39;49m\u001b[43m,\u001b[49m\u001b[43m \u001b[49m\u001b[43mgradient\u001b[49m\u001b[43m,\u001b[49m\u001b[43m \u001b[49m\u001b[43mretain_graph\u001b[49m\u001b[43m,\u001b[49m\u001b[43m \u001b[49m\u001b[43mcreate_graph\u001b[49m\u001b[43m,\u001b[49m\u001b[43m \u001b[49m\u001b[43minputs\u001b[49m\u001b[38;5;241;43m=\u001b[39;49m\u001b[43minputs\u001b[49m\n\u001b[0;32m    489\u001b[0m \u001b[43m\u001b[49m\u001b[43m)\u001b[49m\n",
      "File \u001b[1;32mc:\\Users\\zmitrovich.nik\\AppData\\Local\\Programs\\Python\\Python310\\lib\\site-packages\\torch\\autograd\\__init__.py:200\u001b[0m, in \u001b[0;36mbackward\u001b[1;34m(tensors, grad_tensors, retain_graph, create_graph, grad_variables, inputs)\u001b[0m\n\u001b[0;32m    195\u001b[0m     retain_graph \u001b[38;5;241m=\u001b[39m create_graph\n\u001b[0;32m    197\u001b[0m \u001b[38;5;66;03m# The reason we repeat same the comment below is that\u001b[39;00m\n\u001b[0;32m    198\u001b[0m \u001b[38;5;66;03m# some Python versions print out the first line of a multi-line function\u001b[39;00m\n\u001b[0;32m    199\u001b[0m \u001b[38;5;66;03m# calls in the traceback and some print out the last line\u001b[39;00m\n\u001b[1;32m--> 200\u001b[0m \u001b[43mVariable\u001b[49m\u001b[38;5;241;43m.\u001b[39;49m\u001b[43m_execution_engine\u001b[49m\u001b[38;5;241;43m.\u001b[39;49m\u001b[43mrun_backward\u001b[49m\u001b[43m(\u001b[49m\u001b[43m  \u001b[49m\u001b[38;5;66;43;03m# Calls into the C++ engine to run the backward pass\u001b[39;49;00m\n\u001b[0;32m    201\u001b[0m \u001b[43m    \u001b[49m\u001b[43mtensors\u001b[49m\u001b[43m,\u001b[49m\u001b[43m \u001b[49m\u001b[43mgrad_tensors_\u001b[49m\u001b[43m,\u001b[49m\u001b[43m \u001b[49m\u001b[43mretain_graph\u001b[49m\u001b[43m,\u001b[49m\u001b[43m \u001b[49m\u001b[43mcreate_graph\u001b[49m\u001b[43m,\u001b[49m\u001b[43m \u001b[49m\u001b[43minputs\u001b[49m\u001b[43m,\u001b[49m\n\u001b[0;32m    202\u001b[0m \u001b[43m    \u001b[49m\u001b[43mallow_unreachable\u001b[49m\u001b[38;5;241;43m=\u001b[39;49m\u001b[38;5;28;43;01mTrue\u001b[39;49;00m\u001b[43m,\u001b[49m\u001b[43m \u001b[49m\u001b[43maccumulate_grad\u001b[49m\u001b[38;5;241;43m=\u001b[39;49m\u001b[38;5;28;43;01mTrue\u001b[39;49;00m\u001b[43m)\u001b[49m\n",
      "\u001b[1;31mKeyboardInterrupt\u001b[0m: "
     ]
    }
   ],
   "source": [
    "model.fit(\n",
    "    train_tokens,\n",
    "    train_labels,\n",
    "    valid_X=test_tokens,\n",
    "    valid_Y=test_labels,\n",
    "    nepochs=50,\n",
    "    lr=1e-4,\n",
    "    device=device\n",
    ")"
   ]
  },
  {
   "cell_type": "code",
   "execution_count": null,
   "metadata": {},
   "outputs": [],
   "source": [
    "torch.save({\n",
    "    'model_state_dict': model.state_dict(),\n",
    "    'optimizer_state_dict': model.optim.state_dict(),\n",
    "    }, 'saved_models/bi_lstm.pt')"
   ]
  },
  {
   "cell_type": "code",
   "execution_count": 26,
   "metadata": {},
   "outputs": [
    {
     "data": {
      "text/plain": [
       "[<matplotlib.lines.Line2D at 0x242be5cabf0>]"
      ]
     },
     "execution_count": 26,
     "metadata": {},
     "output_type": "execute_result"
    },
    {
     "data": {
      "image/png": "[encoded data removed]",
      "text/plain": [
       "<Figure size 1600x400 with 1 Axes>"
      ]
     },
     "metadata": {},
     "output_type": "display_data"
    }
   ],
   "source": [
    "import matplotlib.pyplot as plt\n",
    "plt.figure(figsize=(16,4))\n",
    "plt.plot(model.loss_history)"
   ]
  },
  {
   "cell_type": "code",
   "execution_count": 13,
   "metadata": {},
   "outputs": [
    {
     "name": "stdout",
     "output_type": "stream",
     "text": [
      "BA: 1.000\n",
      "F1: 1.000\n",
      "ROC AUC: 1.000\n"
     ]
    }
   ],
   "source": [
    "with torch.no_grad():\n",
    "    train_predict = []\n",
    "    train_proba = []\n",
    "    for batch_X in train_tokens:\n",
    "        predict_proba = model(batch_X.to(device))[:, 1]\n",
    "        train_predict.append((predict_proba > 0.5).cpu())\n",
    "        train_proba.append(predict_proba.cpu())\n",
    "    \n",
    "    train_predict = torch.cat(train_predict)\n",
    "    train_proba = torch.cat(train_proba)\n",
    "    train_real = torch.cat(train_labels)\n",
    "\n",
    "    print(f'BA: {balanced_accuracy_score(train_real, train_predict):.3f}')\n",
    "    print(f'F1: {f1_score(train_real, train_predict, average=\"micro\"):.3f}')\n",
    "    print(f'ROC AUC: {roc_auc_score(train_real, train_proba):.3f}')"
   ]
  },
  {
   "cell_type": "code",
   "execution_count": 14,
   "metadata": {},
   "outputs": [
    {
     "name": "stdout",
     "output_type": "stream",
     "text": [
      "BA: 0.898\n",
      "F1: 1.000\n",
      "ROC AUC: 0.968\n"
     ]
    }
   ],
   "source": [
    "with torch.no_grad():\n",
    "    test_predict = []\n",
    "    test_proba = []\n",
    "    for batch_X in test_tokens:\n",
    "        predict_proba = model(batch_X.to(device))[:, 1]\n",
    "        test_predict.append((predict_proba > 0.5).cpu())\n",
    "        test_proba.append(predict_proba.cpu())\n",
    "    \n",
    "    test_predict = torch.cat(test_predict)\n",
    "    test_proba = torch.cat(test_proba)\n",
    "    test_real = torch.cat(test_labels)\n",
    "\n",
    "    print(f'BA: {balanced_accuracy_score(test_real, test_predict):.3f}')\n",
    "    print(f'F1: {f1_score(test_real, test_predict, average=\"micro\"):.3f}')\n",
    "    print(f'ROC AUC: {roc_auc_score(test_real, test_proba):.3f}')"
   ]
  },
  {
   "cell_type": "code",
   "execution_count": 15,
   "metadata": {},
   "outputs": [
    {
     "data": {
      "text/html": [
       "<div>\n",
       "<style scoped>\n",
       "    .dataframe tbody tr th:only-of-type {\n",
       "        vertical-align: middle;\n",
       "    }\n",
       "\n",
       "    .dataframe tbody tr th {\n",
       "        vertical-align: top;\n",
       "    }\n",
       "\n",
       "    .dataframe thead th {\n",
       "        text-align: right;\n",
       "    }\n",
       "</style>\n",
       "<table border=\"1\" class=\"dataframe\">\n",
       "  <thead>\n",
       "    <tr style=\"text-align: right;\">\n",
       "      <th></th>\n",
       "      <th>O</th>\n",
       "      <th>NAME_STUDENT</th>\n",
       "    </tr>\n",
       "  </thead>\n",
       "  <tbody>\n",
       "    <tr>\n",
       "      <th>0</th>\n",
       "      <td>1307030</td>\n",
       "      <td>67</td>\n",
       "    </tr>\n",
       "    <tr>\n",
       "      <th>1</th>\n",
       "      <td>129</td>\n",
       "      <td>502</td>\n",
       "    </tr>\n",
       "  </tbody>\n",
       "</table>\n",
       "</div>"
      ],
      "text/plain": [
       "         O  NAME_STUDENT\n",
       "0  1307030            67\n",
       "1      129           502"
      ]
     },
     "execution_count": 15,
     "metadata": {},
     "output_type": "execute_result"
    }
   ],
   "source": [
    "columns = [\n",
    "    'O',\n",
    "    # 'ID_NUM',\n",
    "    'NAME_STUDENT',\n",
    "    # 'USERNAME',\n",
    "    # 'STREET_ADDRESS',\n",
    "]\n",
    "\n",
    "pd.DataFrame(confusion_matrix(test_real, test_predict), columns=columns)"
   ]
  },
  {
   "cell_type": "code",
   "execution_count": 34,
   "metadata": {},
   "outputs": [
    {
     "data": {
      "text/plain": [
       "1192"
      ]
     },
     "execution_count": 34,
     "metadata": {},
     "output_type": "execute_result"
    }
   ],
   "source": [
    "token2emb = []\n",
    "train_tokens = []\n",
    "train_labels = []\n",
    "test_tokens = []\n",
    "test_labels = []\n",
    "\n",
    "gc.collect()"
   ]
  },
  {
   "cell_type": "code",
   "execution_count": 35,
   "metadata": {},
   "outputs": [
    {
     "data": {
      "application/vnd.jupyter.widget-view+json": {
       "model_id": "e2506974e46c4036969d7f336013204d",
       "version_major": 2,
       "version_minor": 0
      },
      "text/plain": [
       "0it [00:00, ?it/s]"
      ]
     },
     "metadata": {},
     "output_type": "display_data"
    }
   ],
   "source": [
    "token2emb = {}\n",
    "with open('saved_models/wiki-news-300d-1M.vec', 'r', encoding='utf-8') as f:\n",
    "    next(f)\n",
    "    for it in tqdm(f):\n",
    "        row = it.split(' ')\n",
    "        token2emb[row[0]] = list(map(float, row[1:]))\n",
    "\n",
    "def get_predict_table(data):\n",
    "    predict_table = [[], [], [], [], []] # document, token_idx, token, predict, real\n",
    "    for doc in tqdm(data):\n",
    "        with torch.no_grad():\n",
    "            doc_tokens = torch.FloatTensor([token2emb[it] if it in token2emb else [0]*300 for it in doc['tokens']])\n",
    "            predict = torch.argmax(model.forward(doc_tokens.to(device)), dim=1).cpu()\n",
    "            predict = [num2label[it.item()] for it in predict]\n",
    "            \n",
    "            predict_table[0] += [doc['document']]*len(predict)\n",
    "            predict_table[1] += list(range(len(predict)))\n",
    "            predict_table[2] += doc['tokens']\n",
    "            predict_table[3] += predict \n",
    "            predict_table[4] += doc['labels'] \n",
    "        \n",
    "    predict_table = [[predict_table[0][i], predict_table[1][i], predict_table[2][i], predict_table[3][i], predict_table[4][i]] for i in range(len(predict_table[0]))]\n",
    "    predict_table = pd.DataFrame(predict_table, columns=['document', 'token_i', 'token', 'predict', 'label'])\n",
    "    predict_table = predict_table.loc[(predict_table.predict != \"O\") & (predict_table.token != \"\\n\")].reset_index(drop=True)\n",
    "    predict_table['label'] = predict_table['label'].str.replace('I-', '').str.replace('B-', '')\n",
    "\n",
    "    return predict_table"
   ]
  },
  {
   "cell_type": "code",
   "execution_count": 18,
   "metadata": {},
   "outputs": [
    {
     "data": {
      "application/vnd.jupyter.widget-view+json": {
       "model_id": "7159c375293249a793bab1a1d1c13265",
       "version_major": 2,
       "version_minor": 0
      },
      "text/plain": [
       "  0%|          | 0/5000 [00:00<?, ?it/s]"
      ]
     },
     "metadata": {},
     "output_type": "display_data"
    },
    {
     "data": {
      "application/vnd.jupyter.widget-view+json": {
       "model_id": "bfcd16ca40e348f18205a8af5aaf3821",
       "version_major": 2,
       "version_minor": 0
      },
      "text/plain": [
       "  0%|          | 0/1807 [00:00<?, ?it/s]"
      ]
     },
     "metadata": {},
     "output_type": "display_data"
    },
    {
     "name": "stdout",
     "output_type": "stream",
     "text": [
      "Train 0.9616193480546793\n",
      "Valid 0.8822495606326889\n"
     ]
    }
   ],
   "source": [
    "predict_table_train = get_predict_table(train_data)\n",
    "predict_table_valid = get_predict_table(valid_data) \n",
    "\n",
    "print('Train', f1_score(predict_table_train['predict'], predict_table_train['label'], average='micro'))\n",
    "print('Valid', f1_score(predict_table_valid['predict'], predict_table_valid['label'], average='micro'))"
   ]
  },
  {
   "cell_type": "code",
   "execution_count": 19,
   "metadata": {},
   "outputs": [
    {
     "data": {
      "text/html": [
       "<div>\n",
       "<style scoped>\n",
       "    .dataframe tbody tr th:only-of-type {\n",
       "        vertical-align: middle;\n",
       "    }\n",
       "\n",
       "    .dataframe tbody tr th {\n",
       "        vertical-align: top;\n",
       "    }\n",
       "\n",
       "    .dataframe thead th {\n",
       "        text-align: right;\n",
       "    }\n",
       "</style>\n",
       "<table border=\"1\" class=\"dataframe\">\n",
       "  <thead>\n",
       "    <tr style=\"text-align: right;\">\n",
       "      <th></th>\n",
       "      <th>predict</th>\n",
       "      <th>document</th>\n",
       "    </tr>\n",
       "  </thead>\n",
       "  <tbody>\n",
       "    <tr>\n",
       "      <th>0</th>\n",
       "      <td>NAME_STUDENT</td>\n",
       "      <td>73</td>\n",
       "    </tr>\n",
       "  </tbody>\n",
       "</table>\n",
       "</div>"
      ],
      "text/plain": [
       "        predict  document\n",
       "0  NAME_STUDENT        73"
      ]
     },
     "execution_count": 19,
     "metadata": {},
     "output_type": "execute_result"
    }
   ],
   "source": [
    "predict_table_train.loc[predict_table_train.predict != predict_table_train.label].groupby('predict', as_index=False).document.count()"
   ]
  },
  {
   "cell_type": "code",
   "execution_count": 36,
   "metadata": {},
   "outputs": [
    {
     "data": {
      "application/vnd.jupyter.widget-view+json": {
       "model_id": "9780e9f50a7742308fe75cdbd691c53a",
       "version_major": 2,
       "version_minor": 0
      },
      "text/plain": [
       "  0%|          | 0/6807 [00:00<?, ?it/s]"
      ]
     },
     "metadata": {},
     "output_type": "display_data"
    }
   ],
   "source": [
    "with open('data/train.json', 'r', encoding='utf-8') as f:\n",
    "    data = json.load(f)\n",
    "predict_table = get_predict_table(data)"
   ]
  },
  {
   "cell_type": "code",
   "execution_count": 39,
   "metadata": {},
   "outputs": [
    {
     "data": {
      "text/html": [
       "<div>\n",
       "<style scoped>\n",
       "    .dataframe tbody tr th:only-of-type {\n",
       "        vertical-align: middle;\n",
       "    }\n",
       "\n",
       "    .dataframe tbody tr th {\n",
       "        vertical-align: top;\n",
       "    }\n",
       "\n",
       "    .dataframe thead th {\n",
       "        text-align: right;\n",
       "    }\n",
       "</style>\n",
       "<table border=\"1\" class=\"dataframe\">\n",
       "  <thead>\n",
       "    <tr style=\"text-align: right;\">\n",
       "      <th></th>\n",
       "      <th>document</th>\n",
       "      <th>token_i</th>\n",
       "      <th>token</th>\n",
       "      <th>predict</th>\n",
       "      <th>label</th>\n",
       "    </tr>\n",
       "  </thead>\n",
       "  <tbody>\n",
       "    <tr>\n",
       "      <th>0</th>\n",
       "      <td>7</td>\n",
       "      <td>9</td>\n",
       "      <td>Nathalie</td>\n",
       "      <td>NAME_STUDENT</td>\n",
       "      <td>NAME_STUDENT</td>\n",
       "    </tr>\n",
       "    <tr>\n",
       "      <th>1</th>\n",
       "      <td>7</td>\n",
       "      <td>10</td>\n",
       "      <td>Sylla</td>\n",
       "      <td>NAME_STUDENT</td>\n",
       "      <td>NAME_STUDENT</td>\n",
       "    </tr>\n",
       "    <tr>\n",
       "      <th>2</th>\n",
       "      <td>7</td>\n",
       "      <td>482</td>\n",
       "      <td>Nathalie</td>\n",
       "      <td>NAME_STUDENT</td>\n",
       "      <td>NAME_STUDENT</td>\n",
       "    </tr>\n",
       "    <tr>\n",
       "      <th>3</th>\n",
       "      <td>7</td>\n",
       "      <td>483</td>\n",
       "      <td>Sylla</td>\n",
       "      <td>NAME_STUDENT</td>\n",
       "      <td>NAME_STUDENT</td>\n",
       "    </tr>\n",
       "    <tr>\n",
       "      <th>4</th>\n",
       "      <td>7</td>\n",
       "      <td>741</td>\n",
       "      <td>Nathalie</td>\n",
       "      <td>NAME_STUDENT</td>\n",
       "      <td>NAME_STUDENT</td>\n",
       "    </tr>\n",
       "    <tr>\n",
       "      <th>...</th>\n",
       "      <td>...</td>\n",
       "      <td>...</td>\n",
       "      <td>...</td>\n",
       "      <td>...</td>\n",
       "      <td>...</td>\n",
       "    </tr>\n",
       "    <tr>\n",
       "      <th>2464</th>\n",
       "      <td>22088</td>\n",
       "      <td>19</td>\n",
       "      <td>Reyes</td>\n",
       "      <td>NAME_STUDENT</td>\n",
       "      <td>O</td>\n",
       "    </tr>\n",
       "    <tr>\n",
       "      <th>2465</th>\n",
       "      <td>22109</td>\n",
       "      <td>8</td>\n",
       "      <td>Hamzah</td>\n",
       "      <td>NAME_STUDENT</td>\n",
       "      <td>O</td>\n",
       "    </tr>\n",
       "    <tr>\n",
       "      <th>2466</th>\n",
       "      <td>22109</td>\n",
       "      <td>9</td>\n",
       "      <td>Halawani</td>\n",
       "      <td>NAME_STUDENT</td>\n",
       "      <td>O</td>\n",
       "    </tr>\n",
       "    <tr>\n",
       "      <th>2467</th>\n",
       "      <td>22147</td>\n",
       "      <td>457</td>\n",
       "      <td>Francesca</td>\n",
       "      <td>NAME_STUDENT</td>\n",
       "      <td>O</td>\n",
       "    </tr>\n",
       "    <tr>\n",
       "      <th>2468</th>\n",
       "      <td>22147</td>\n",
       "      <td>458</td>\n",
       "      <td>Hussain</td>\n",
       "      <td>NAME_STUDENT</td>\n",
       "      <td>O</td>\n",
       "    </tr>\n",
       "  </tbody>\n",
       "</table>\n",
       "<p>2469 rows × 5 columns</p>\n",
       "</div>"
      ],
      "text/plain": [
       "      document  token_i      token       predict         label\n",
       "0            7        9   Nathalie  NAME_STUDENT  NAME_STUDENT\n",
       "1            7       10      Sylla  NAME_STUDENT  NAME_STUDENT\n",
       "2            7      482   Nathalie  NAME_STUDENT  NAME_STUDENT\n",
       "3            7      483      Sylla  NAME_STUDENT  NAME_STUDENT\n",
       "4            7      741   Nathalie  NAME_STUDENT  NAME_STUDENT\n",
       "...        ...      ...        ...           ...           ...\n",
       "2464     22088       19      Reyes  NAME_STUDENT             O\n",
       "2465     22109        8     Hamzah  NAME_STUDENT             O\n",
       "2466     22109        9   Halawani  NAME_STUDENT             O\n",
       "2467     22147      457  Francesca  NAME_STUDENT             O\n",
       "2468     22147      458    Hussain  NAME_STUDENT             O\n",
       "\n",
       "[2469 rows x 5 columns]"
      ]
     },
     "execution_count": 39,
     "metadata": {},
     "output_type": "execute_result"
    }
   ],
   "source": [
    "predict_table"
   ]
  },
  {
   "cell_type": "code",
   "execution_count": 40,
   "metadata": {},
   "outputs": [
    {
     "data": {
      "text/plain": [
       "0.9445119481571488"
      ]
     },
     "execution_count": 40,
     "metadata": {},
     "output_type": "execute_result"
    }
   ],
   "source": [
    "f1_score(predict_table['predict'], predict_table['label'], average='micro')"
   ]
  },
  {
   "cell_type": "code",
   "execution_count": 23,
   "metadata": {},
   "outputs": [],
   "source": [
    "tb = predict_table.loc[predict_table.predict != 'NAME_STUDENT'].reset_index(drop=True)"
   ]
  },
  {
   "cell_type": "code",
   "execution_count": 24,
   "metadata": {},
   "outputs": [
    {
     "name": "stderr",
     "output_type": "stream",
     "text": [
      "c:\\Users\\zmitrovich.nik\\AppData\\Local\\Programs\\Python\\Python310\\lib\\site-packages\\sklearn\\metrics\\_classification.py:1757: UndefinedMetricWarning: F-score is ill-defined and being set to 0.0 due to no true nor predicted samples. Use `zero_division` parameter to control this behavior.\n",
      "  _warn_prf(average, \"true nor predicted\", \"F-score is\", len(true_sum))\n"
     ]
    },
    {
     "data": {
      "text/plain": [
       "0.0"
      ]
     },
     "execution_count": 24,
     "metadata": {},
     "output_type": "execute_result"
    }
   ],
   "source": [
    "f1_score(tb['predict'], tb['label'], average='micro')"
   ]
  },
  {
   "cell_type": "code",
   "execution_count": null,
   "metadata": {},
   "outputs": [],
   "source": []
  }
 ],
 "metadata": {
  "kernelspec": {
   "display_name": "Python 3",
   "language": "python",
   "name": "python3"
  },
  "language_info": {
   "codemirror_mode": {
    "name": "ipython",
    "version": 3
   },
   "file_extension": ".py",
   "mimetype": "text/x-python",
   "name": "python",
   "nbconvert_exporter": "python",
   "pygments_lexer": "ipython3",
   "version": "3.10.11"
  }
 },
 "nbformat": 4,
 "nbformat_minor": 2
}
