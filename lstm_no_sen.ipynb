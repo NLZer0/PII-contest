{
 "cells": [
  {
   "cell_type": "code",
   "execution_count": 1,
   "metadata": {},
   "outputs": [],
   "source": [
    "# model class \n",
    "\n",
    "import torch \n",
    "from torch import nn \n",
    "from tqdm.auto import tqdm \n",
    "\n",
    "import json\n",
    "from importlib import reload\n",
    "\n",
    "import torch\n",
    "import numpy as np\n",
    "import pandas as pd \n",
    "from tqdm.auto import tqdm\n",
    "from sklearn.metrics import balanced_accuracy_score, f1_score, confusion_matrix, roc_auc_score\n",
    "\n",
    "\n",
    "class BiLSTM(nn.Module):\n",
    "    def __init__(self, embedding_dim, hidden_size, nclasses, class_weigths=None, device='cpu') -> None:\n",
    "        super().__init__()\n",
    "\n",
    "        # self.embedding = nn.Embedding(num_embeddings=vocab_size, embedding_dim=embedding_dim).to(device)\n",
    "        self.lstm_model = nn.LSTM(embedding_dim, hidden_size//2, bidirectional=True).to(device)\n",
    "        self.ffwd_lay = nn.Linear(hidden_size, nclasses).to(device)\n",
    "        self.softmax = nn.Softmax(dim=1).to(device)\n",
    "\n",
    "        self.optim = torch.optim.Adam(self.parameters(), lr=1e-2)\n",
    "        self.criterion = nn.CrossEntropyLoss(weight=class_weigths)\n",
    "        \n",
    "        self.loss_history = []\n",
    "\n",
    "\n",
    "    def forward(self, batch):\n",
    "        # out = self.embedding(batch) # L x vocab_size -> L x embedding_dim\n",
    "        out = self.lstm_model(batch)[0] # L x hidden_size\n",
    "        out = self.ffwd_lay(out) # L x nclasses\n",
    "        return self.softmax(out)\n",
    "\n",
    "\n",
    "    def fit(self, train_X, train_Y, valid_X, valid_Y, nepochs, lr, device):\n",
    "        self.train()\n",
    "        self.to(device)\n",
    "\n",
    "        for g in self.optim.param_groups:\n",
    "            g['lr'] = lr    \n",
    "        \n",
    "        for ep in tqdm(range(nepochs)):\n",
    "            eploss = 0\n",
    "\n",
    "            for batch_X, batch_Y in zip(train_X, train_Y):\n",
    "                predict = self.forward(batch_X.to(device))\n",
    "                \n",
    "                self.optim.zero_grad()\n",
    "                loss = self.criterion(predict, batch_Y.to(device))\n",
    "                loss.backward()\n",
    "                self.optim.step()\n",
    "\n",
    "                eploss += loss.item()\n",
    "                self.loss_history.append(loss.item())\n",
    "            \n",
    "            printbool = ep % (nepochs//10) == 0 if nepochs > 10 else True\n",
    "            if printbool:\n",
    "                with torch.no_grad():\n",
    "                    train_predict = []\n",
    "                    for batch_X in train_X:\n",
    "                        predict = torch.argmax(self.forward(batch_X.to(device)), dim=1)\n",
    "                        train_predict.append(predict.cpu())\n",
    "                    \n",
    "                    train_predict = torch.cat(train_predict)\n",
    "                    train_real = torch.cat(train_Y)\n",
    "    \n",
    "                    test_predict = []\n",
    "                    for batch_X in valid_X:\n",
    "                        predict = torch.argmax(self.forward(batch_X.to(device)), dim=1)\n",
    "                        test_predict.append(predict.cpu())\n",
    "                    \n",
    "                    test_predict = torch.cat(test_predict)\n",
    "                    test_real = torch.cat(valid_Y)\n",
    "\n",
    "                    # train_predict, train_real = train_predict[train_predict != 0], train_real[train_predict != 0]\n",
    "                    # test_predict, test_real = test_predict[test_predict != 0], test_real[test_predict != 0]\n",
    "                    TP = ((train_predict == train_real) & (train_predict != 0)).sum()\n",
    "                    FP = ((train_predict != train_real) & (train_predict != 0)).sum()\n",
    "                    acc_metric_train = TP / (TP + FP)\n",
    "\n",
    "                    TP = ((test_predict == test_real) & (test_predict != 0)).sum()\n",
    "                    FP = ((test_predict != test_real) & (test_predict != 0)).sum()\n",
    "                    acc_metric_valid = TP / (TP + FP)\n",
    "                    \n",
    "                    print(f'Iter: {ep}, Loss: {eploss/len(train_X):.3f} Train precision {acc_metric_train:.3f}:, Valid precision: {acc_metric_valid:.3f}')\n",
    "                    # print(f'Iter: {ep}, Loss: {eploss/len(train_X):.3f} Train BA: {balanced_accuracy_score(train_real, train_predict):.3f}, Train F1: {f1_score(train_real, train_predict, average=\"micro\"):.3f}, Valid BA: {balanced_accuracy_score(test_real, test_predict):.3f}, Valid F1: {f1_score(test_real, test_predict, average=\"micro\"):.3f}')\n",
    "                        \n",
    "            # printbool = ep % (nepochs//10) == 0 if nepochs > 10 else True\n",
    "            # if printbool:\n",
    "            #     print(f'Train loss: {eploss/len(train_X):.3f}')"
   ]
  },
  {
   "cell_type": "code",
   "execution_count": 2,
   "metadata": {},
   "outputs": [],
   "source": [
    "def data_label_split(data, label, train_size=0.8):\n",
    "    randidx = np.arange(len(data))\n",
    "    data_train, data_test = train_test_split(data, randidx, train_size)\n",
    "    label_train, label_test = train_test_split(label, randidx, train_size)\n",
    "\n",
    "    return data_train, data_test, label_train, label_test\n",
    "\n",
    "def train_test_split(data, randidx, train_size):\n",
    "    N = len(data)\n",
    "    return [data[i] for i in randidx[:int(train_size*N)]], [data[i] for i in randidx[int(train_size*N):]]\n",
    "\n",
    "def shuffle_data_label_lists(data, label):\n",
    "    randidx = np.arange(len(data))\n",
    "    np.random.shuffle(randidx)\n",
    "    return [data[i] for i in randidx], [label[i] for i in randidx]\n",
    "\n",
    "def embedding(data, token2emb):\n",
    "    tokens_lst = []\n",
    "    labels_lst = []\n",
    "    for doc in tqdm(data):\n",
    "        tokens = map(lambda x: x.replace('\\t', '').replace('\\n', '').replace(' ', ''), doc['tokens'])\n",
    "        emb_tokens = []\n",
    "        for token in tokens:\n",
    "            if token in token2emb:\n",
    "                emb_tokens.append(token2emb[token])\n",
    "            else:\n",
    "                emb_tokens.append([token2emb[it] if it in token2emb else [0]*300 for it in list(token)])\n",
    "        tokens_lst.append(torch.FloatTensor(emb_tokens))\n",
    "        labels_lst.append(torch.LongTensor([label2num[it] if it in label2num else 0 for it in doc['labels']]))\n",
    "    return tokens_lst, labels_lst\n",
    "\n",
    "def batch_split(X, Y, seq_len, batch_size=1000):\n",
    "    x_batched = []\n",
    "    y_batched = []\n",
    "    seq_len_batched = []\n",
    "\n",
    "    n = len(X)\n",
    "    pointer = 0\n",
    "    while pointer + batch_size < n:\n",
    "        x_batched.append(X[pointer:pointer+batch_size])\n",
    "        y_batched.append(Y[pointer:pointer+batch_size])\n",
    "        seq_len_batched.append(seq_len[pointer:pointer+batch_size])\n",
    "        pointer += batch_size \n",
    "    \n",
    "    x_batched.append(X[pointer:])\n",
    "    y_batched.append(Y[pointer:])\n",
    "    seq_len_batched.append(seq_len[pointer:])\n",
    "\n",
    "    return x_batched, y_batched, seq_len_batched\n",
    "\n",
    "\n",
    "label2num = {\n",
    "    'B-NAME_STUDENT': 0, \n",
    "    'I-NAME_STUDENT': 0, \n",
    "    'B-STREET_ADDRESS': 0, \n",
    "    'I-STREET_ADDRESS': 0, \n",
    "    'B-USERNAME': 1,\n",
    "    'I-USERNAME': 1, \n",
    "    'B-ID_NUM': 2, \n",
    "    'I-ID_NUM': 2, \n",
    "    \n",
    "    'O': 0,\n",
    "    'B-URL_PERSONAL': 0, \n",
    "    'I-URL_PERSONAL': 0, \n",
    "    'B-EMAIL': 0, \n",
    "    'I-EMAIL': 0,\n",
    "    'B-PHONE_NUM': 0, \n",
    "    'I-PHONE_NUM': 0, \n",
    "}\n",
    "\n",
    "num2label = {\n",
    "    0: 'O',\n",
    "    1: 'USERNAME',\n",
    "    2: 'ID_NUM',\n",
    "    # 1: 'NAME_STUDENT', \n",
    "    # 1: 'STREET_ADDRESS', \n",
    "}"
   ]
  },
  {
   "cell_type": "code",
   "execution_count": 3,
   "metadata": {},
   "outputs": [
    {
     "data": {
      "application/vnd.jupyter.widget-view+json": {
       "model_id": "cdc3d39764ef4f3aa967045d9e3e7df9",
       "version_major": 2,
       "version_minor": 0
      },
      "text/plain": [
       "0it [00:00, ?it/s]"
      ]
     },
     "metadata": {},
     "output_type": "display_data"
    }
   ],
   "source": [
    "# load fastext\n",
    "token2emb = {}\n",
    "with open('wiki-news-300d-1M.vec', 'r', encoding='utf-8') as f:\n",
    "    next(f)\n",
    "    for it in tqdm(f):\n",
    "        row = it.split(' ')\n",
    "        token2emb[row[0]] = list(map(float, row[1:]))"
   ]
  },
  {
   "cell_type": "code",
   "execution_count": 4,
   "metadata": {},
   "outputs": [
    {
     "data": {
      "application/vnd.jupyter.widget-view+json": {
       "model_id": "edde7246d70b4e99950114f0aef5a76b",
       "version_major": 2,
       "version_minor": 0
      },
      "text/plain": [
       "  0%|          | 0/7000 [00:00<?, ?it/s]"
      ]
     },
     "metadata": {},
     "output_type": "display_data"
    },
    {
     "data": {
      "application/vnd.jupyter.widget-view+json": {
       "model_id": "80252393370340cf81aab1f3266be948",
       "version_major": 2,
       "version_minor": 0
      },
      "text/plain": [
       "  0%|          | 0/2162 [00:00<?, ?it/s]"
      ]
     },
     "metadata": {},
     "output_type": "display_data"
    }
   ],
   "source": [
    "# encoding tokens and labels\n",
    "with open('data/mixtral-8x7b-v1.json', 'r', encoding='utf-8') as f:\n",
    "    data_1 = json.load(f)\n",
    "with open('data/train.json', 'r', encoding='utf-8') as f:\n",
    "    data_2 = json.load(f)\n",
    "data = data_1 + data_2\n",
    "\n",
    "# shuffle data\n",
    "randidx = np.arange(len(data))\n",
    "np.random.shuffle(randidx)\n",
    "data = [data[i] for i in randidx]\n",
    "\n",
    "# split data on train and valid\n",
    "train_data, valid_data = data[:7000], data[7000:]\n",
    "train_tokens, train_labels = embedding(train_data, token2emb)\n",
    "valid_tokens, valid_labels = embedding(valid_data, token2emb)"
   ]
  },
  {
   "cell_type": "code",
   "execution_count": 6,
   "metadata": {},
   "outputs": [
    {
     "data": {
      "text/plain": [
       "534"
      ]
     },
     "execution_count": 6,
     "metadata": {},
     "output_type": "execute_result"
    }
   ],
   "source": [
    "token2emb = None\n",
    "import gc\n",
    "gc.collect()"
   ]
  },
  {
   "cell_type": "code",
   "execution_count": 7,
   "metadata": {},
   "outputs": [],
   "source": [
    "# init class weigths\n",
    "class_weigths = torch.zeros(max(label2num.values())+1)\n",
    "for i in range(len(class_weigths)):\n",
    "    class_weigths[i] = sum([(it == i).sum().item() for it in train_labels])\n",
    "class_weigths = 1 / class_weigths \n",
    "class_weigths /= class_weigths.sum()"
   ]
  },
  {
   "cell_type": "code",
   "execution_count": 8,
   "metadata": {},
   "outputs": [],
   "source": [
    "device = 'cuda' if torch.cuda.is_available() else 'cpu'\n",
    "# device = 'cpu'\n",
    "# fit lstm\n",
    "model = BiLSTM(\n",
    "    embedding_dim=300,\n",
    "    hidden_size=32,\n",
    "    nclasses=len(class_weigths),\n",
    "    device=device,\n",
    "    class_weigths=class_weigths\n",
    ")"
   ]
  },
  {
   "cell_type": "code",
   "execution_count": 9,
   "metadata": {},
   "outputs": [
    {
     "data": {
      "application/vnd.jupyter.widget-view+json": {
       "model_id": "19486539fb08476ca107a58064bd767c",
       "version_major": 2,
       "version_minor": 0
      },
      "text/plain": [
       "  0%|          | 0/100 [00:00<?, ?it/s]"
      ]
     },
     "metadata": {},
     "output_type": "display_data"
    },
    {
     "name": "stdout",
     "output_type": "stream",
     "text": [
      "Iter: 0, Loss: 0.576 Train precision 0.090:, Valid precision: 0.094\n",
      "Iter: 10, Loss: 0.554 Train precision 0.392:, Valid precision: 0.386\n",
      "Iter: 20, Loss: 0.554 Train precision 0.436:, Valid precision: 0.428\n",
      "Iter: 30, Loss: 0.554 Train precision 0.467:, Valid precision: 0.449\n",
      "Iter: 40, Loss: 0.554 Train precision 0.472:, Valid precision: 0.454\n",
      "Iter: 50, Loss: 0.553 Train precision 0.495:, Valid precision: 0.474\n",
      "Iter: 60, Loss: 0.553 Train precision 0.495:, Valid precision: 0.468\n",
      "Iter: 70, Loss: 0.553 Train precision 0.500:, Valid precision: 0.475\n",
      "Iter: 80, Loss: 0.553 Train precision 0.509:, Valid precision: 0.481\n",
      "Iter: 90, Loss: 0.553 Train precision 0.505:, Valid precision: 0.474\n"
     ]
    }
   ],
   "source": [
    "model.fit(\n",
    "    train_X=train_tokens,\n",
    "    train_Y=train_labels,\n",
    "    valid_X=valid_tokens,\n",
    "    valid_Y=valid_labels,\n",
    "    nepochs=100,\n",
    "    lr=1e-3,\n",
    "    device=device\n",
    ")"
   ]
  },
  {
   "cell_type": "code",
   "execution_count": 10,
   "metadata": {},
   "outputs": [
    {
     "data": {
      "application/vnd.jupyter.widget-view+json": {
       "model_id": "e83f4814581f4230bdfebb4914462166",
       "version_major": 2,
       "version_minor": 0
      },
      "text/plain": [
       "  0%|          | 0/50 [00:00<?, ?it/s]"
      ]
     },
     "metadata": {},
     "output_type": "display_data"
    },
    {
     "name": "stdout",
     "output_type": "stream",
     "text": [
      "Iter: 0, Loss: 0.553 Train precision 0.519:, Valid precision: 0.490\n",
      "Iter: 5, Loss: 0.553 Train precision 0.525:, Valid precision: 0.494\n",
      "Iter: 10, Loss: 0.553 Train precision 0.529:, Valid precision: 0.496\n",
      "Iter: 15, Loss: 0.553 Train precision 0.532:, Valid precision: 0.498\n",
      "Iter: 20, Loss: 0.553 Train precision 0.535:, Valid precision: 0.500\n",
      "Iter: 25, Loss: 0.553 Train precision 0.538:, Valid precision: 0.503\n",
      "Iter: 30, Loss: 0.553 Train precision 0.542:, Valid precision: 0.505\n",
      "Iter: 35, Loss: 0.553 Train precision 0.544:, Valid precision: 0.505\n",
      "Iter: 40, Loss: 0.553 Train precision 0.546:, Valid precision: 0.508\n",
      "Iter: 45, Loss: 0.553 Train precision 0.549:, Valid precision: 0.510\n"
     ]
    }
   ],
   "source": [
    "model.fit(\n",
    "    train_X=train_tokens,\n",
    "    train_Y=train_labels,\n",
    "    valid_X=valid_tokens,\n",
    "    valid_Y=valid_labels,\n",
    "    nepochs=50,\n",
    "    lr=1e-4,\n",
    "    device=device\n",
    ")"
   ]
  },
  {
   "cell_type": "code",
   "execution_count": 12,
   "metadata": {},
   "outputs": [],
   "source": [
    "torch.save({\n",
    "    'model_state_dict': model.state_dict(),\n",
    "    'optimizer_state_dict': model.optim.state_dict(),\n",
    "    }, 'saved_models/bi_lstm2.pt')"
   ]
  },
  {
   "cell_type": "code",
   "execution_count": 11,
   "metadata": {},
   "outputs": [
    {
     "data": {
      "text/plain": [
       "[<matplotlib.lines.Line2D at 0x25510055630>]"
      ]
     },
     "execution_count": 11,
     "metadata": {},
     "output_type": "execute_result"
    },
    {
     "data": {
      "image/png": "[encoded data removed]",
      "text/plain": [
       "<Figure size 1600x400 with 1 Axes>"
      ]
     },
     "metadata": {},
     "output_type": "display_data"
    }
   ],
   "source": [
    "import matplotlib.pyplot as plt\n",
    "plt.figure(figsize=(16,4))\n",
    "plt.plot(model.loss_history)"
   ]
  },
  {
   "cell_type": "code",
   "execution_count": 17,
   "metadata": {},
   "outputs": [
    {
     "name": "stdout",
     "output_type": "stream",
     "text": [
      "BA: 0.995\n",
      "F1: 0.999\n"
     ]
    }
   ],
   "source": [
    "with torch.no_grad():\n",
    "    train_predict = []\n",
    "    train_proba = []\n",
    "    for batch_X in train_tokens:\n",
    "        predict = model(batch_X.to(device)).cpu()\n",
    "        train_proba.append(predict[:, 1])\n",
    "        train_predict.append(torch.argmax(predict, dim=1))\n",
    "    \n",
    "    train_predict = torch.cat(train_predict)\n",
    "    train_proba = torch.cat(train_proba)\n",
    "    train_real = torch.cat(train_labels)\n",
    "\n",
    "    print(f'BA: {balanced_accuracy_score(train_real, train_predict):.3f}')\n",
    "    print(f'F1: {f1_score(train_real, train_predict, average=\"micro\"):.3f}')\n",
    "    # print(f'ROC AUC: {roc_auc_score(train_real, train_proba):.3f}')"
   ]
  },
  {
   "cell_type": "code",
   "execution_count": 18,
   "metadata": {},
   "outputs": [
    {
     "name": "stdout",
     "output_type": "stream",
     "text": [
      "BA: 0.958\n",
      "F1: 0.999\n"
     ]
    }
   ],
   "source": [
    "with torch.no_grad():\n",
    "    valid_predict = []\n",
    "    valid_proba = []\n",
    "    for batch_X in valid_tokens:\n",
    "        predict = model(batch_X.to(device)).cpu()\n",
    "        valid_proba.append(predict[:, 1])\n",
    "        valid_predict.append(torch.argmax(predict, dim=1))\n",
    "\n",
    "    valid_predict = torch.cat(valid_predict)\n",
    "    valid_proba = torch.cat(valid_proba)\n",
    "    valid_real = torch.cat(valid_labels)\n",
    "\n",
    "    print(f'BA: {balanced_accuracy_score(valid_real, valid_predict):.3f}')\n",
    "    print(f'F1: {f1_score(valid_real, valid_predict, average=\"micro\"):.3f}')\n",
    "    # print(f'ROC AUC: {roc_auc_score(test_real, test_proba):.3f}')"
   ]
  },
  {
   "cell_type": "code",
   "execution_count": 25,
   "metadata": {},
   "outputs": [
    {
     "data": {
      "text/html": [
       "<div>\n",
       "<style scoped>\n",
       "    .dataframe tbody tr th:only-of-type {\n",
       "        vertical-align: middle;\n",
       "    }\n",
       "\n",
       "    .dataframe tbody tr th {\n",
       "        vertical-align: top;\n",
       "    }\n",
       "\n",
       "    .dataframe thead th {\n",
       "        text-align: right;\n",
       "    }\n",
       "</style>\n",
       "<table border=\"1\" class=\"dataframe\">\n",
       "  <thead>\n",
       "    <tr style=\"text-align: right;\">\n",
       "      <th></th>\n",
       "      <th>O</th>\n",
       "      <th>STREET_ADDRESS</th>\n",
       "      <th>USERNAME</th>\n",
       "      <th>ID_NUM</th>\n",
       "    </tr>\n",
       "  </thead>\n",
       "  <tbody>\n",
       "    <tr>\n",
       "      <th>0</th>\n",
       "      <td>1657550</td>\n",
       "      <td>0</td>\n",
       "      <td>0</td>\n",
       "      <td>0</td>\n",
       "    </tr>\n",
       "    <tr>\n",
       "      <th>1</th>\n",
       "      <td>7</td>\n",
       "      <td>5185</td>\n",
       "      <td>0</td>\n",
       "      <td>0</td>\n",
       "    </tr>\n",
       "    <tr>\n",
       "      <th>2</th>\n",
       "      <td>547</td>\n",
       "      <td>0</td>\n",
       "      <td>0</td>\n",
       "      <td>0</td>\n",
       "    </tr>\n",
       "    <tr>\n",
       "      <th>3</th>\n",
       "      <td>840</td>\n",
       "      <td>1</td>\n",
       "      <td>0</td>\n",
       "      <td>0</td>\n",
       "    </tr>\n",
       "  </tbody>\n",
       "</table>\n",
       "</div>"
      ],
      "text/plain": [
       "         O  STREET_ADDRESS  USERNAME  ID_NUM\n",
       "0  1657550               0         0       0\n",
       "1        7            5185         0       0\n",
       "2      547               0         0       0\n",
       "3      840               1         0       0"
      ]
     },
     "execution_count": 25,
     "metadata": {},
     "output_type": "execute_result"
    }
   ],
   "source": [
    "columns = [\n",
    "    'O',\n",
    "    'STREET_ADDRESS',\n",
    "    'USERNAME',\n",
    "    'ID_NUM',\n",
    "    # 'NAME_STUDENT',\n",
    "]\n",
    "\n",
    "pd.DataFrame(confusion_matrix(test_real, test_predict), columns=columns)"
   ]
  },
  {
   "cell_type": "code",
   "execution_count": null,
   "metadata": {},
   "outputs": [],
   "source": [
    "test_real == ''"
   ]
  },
  {
   "cell_type": "code",
   "execution_count": 19,
   "metadata": {},
   "outputs": [
    {
     "data": {
      "text/plain": [
       "270"
      ]
     },
     "execution_count": 19,
     "metadata": {},
     "output_type": "execute_result"
    }
   ],
   "source": [
    "token2emb = []\n",
    "train_tokens = []\n",
    "train_labels = []\n",
    "test_tokens = []\n",
    "test_labels = []\n",
    "\n",
    "gc.collect()"
   ]
  },
  {
   "cell_type": "code",
   "execution_count": 4,
   "metadata": {},
   "outputs": [
    {
     "name": "stdout",
     "output_type": "stream",
     "text": [
      "\n"
     ]
    }
   ],
   "source": [
    "device = 'cuda' if torch.cuda.is_available() else 'cpu'\n",
    "\n",
    "class_weigths = torch.FloatTensor([1,1,1])\n",
    "model = BiLSTM(\n",
    "    embedding_dim=300,\n",
    "    hidden_size=32,\n",
    "    nclasses=len(class_weigths),\n",
    "    device=device,\n",
    "    class_weigths=class_weigths\n",
    ")\n",
    "\n",
    "checkpoint = torch.load('saved_models/bi_lstm2.pt')\n",
    "model.load_state_dict(checkpoint['model_state_dict'])\n",
    "model.optim.load_state_dict(checkpoint['optimizer_state_dict'])\n",
    "model.eval()\n",
    "model.to(device)\n",
    "print()"
   ]
  },
  {
   "cell_type": "code",
   "execution_count": 5,
   "metadata": {},
   "outputs": [
    {
     "data": {
      "application/vnd.jupyter.widget-view+json": {
       "model_id": "06d5b53a4f854a59be928ba9a195f60b",
       "version_major": 2,
       "version_minor": 0
      },
      "text/plain": [
       "0it [00:00, ?it/s]"
      ]
     },
     "metadata": {},
     "output_type": "display_data"
    }
   ],
   "source": [
    "token2emb = {}\n",
    "with open('wiki-news-300d-1M.vec', 'r', encoding='utf-8') as f:\n",
    "    next(f)\n",
    "    for it in tqdm(f):\n",
    "        row = it.split(' ')\n",
    "        token2emb[row[0]] = list(map(float, row[1:]))\n"
   ]
  },
  {
   "cell_type": "code",
   "execution_count": 25,
   "metadata": {},
   "outputs": [],
   "source": [
    "def get_predict_table(data):\n",
    "    def check_name(x):\n",
    "        flag = False\n",
    "        flag = x[0].isupper()\n",
    "        for it in x[1:]:\n",
    "            flag *= it.islower()\n",
    "        return flag\n",
    "\n",
    "    predict_table = [[], [], [], [], []] # document, token_idx, token, predict, real\n",
    "    for doc in tqdm(data):\n",
    "        with torch.no_grad():\n",
    "            doc_tokens = torch.FloatTensor([token2emb[it] if it in token2emb else [0]*300 for it in doc['tokens']])\n",
    "            predict = torch.argmax(model.forward(doc_tokens.to(device)), dim=1).cpu()\n",
    "            predict = [num2label[it.item()] for it in predict]\n",
    "            predict = ['O' if len(set(x)) < 2 else y for x, y in zip(doc['tokens'], predict)]\n",
    "            predict_table[0] += [doc['document']]*len(predict)\n",
    "            predict_table[1] += list(range(len(predict)))\n",
    "            predict_table[2] += doc['tokens']\n",
    "            predict_table[3] += predict\n",
    "            predict_table[4] += doc['labels'] \n",
    "        \n",
    "    predict_table = [[predict_table[0][i], predict_table[1][i], predict_table[2][i], predict_table[3][i], predict_table[4][i]] for i in range(len(predict_table[0]))]\n",
    "    predict_table = pd.DataFrame(predict_table, columns=['document', 'token_i', 'token', 'predict', 'label'])\n",
    "    predict_table = predict_table.loc[((predict_table.predict != 'O') | (predict_table.label != 'O')) & ((predict_table.token != \"\\n\") | (predict_table.token != \"\\n\\n\") | (predict_table.token != \"\\t\"))].reset_index(drop=True)\n",
    "    predict_table['prefix'] = 'B-'\n",
    "\n",
    "    predict_table['upper_start'] = predict_table.token.apply(check_name)\n",
    "    predict_table = predict_table.loc[((predict_table.upper_start == 1) & (predict_table.predict == 'NAME_STUDENT')) | (predict_table.predict != 'NAME_STUDENT')].reset_index(drop=True)\n",
    "    predict_table = predict_table.sort_values('document').reset_index(drop=True)\n",
    "\n",
    "    return predict_table.loc[predict_table.label.isin(set(['O', 'B-ID_NUM', 'I-ID_NUM', 'B-USERNAME', 'I-USERNAME']))].reset_index(drop=True)"
   ]
  },
  {
   "cell_type": "code",
   "execution_count": 26,
   "metadata": {},
   "outputs": [],
   "source": [
    "num2label = {\n",
    "    0: 'O',\n",
    "    1: 'USERNAME',\n",
    "    2: 'ID_NUM',\n",
    "    # 1: 'NAME_STUDENT', \n",
    "    # 1: 'STREET_ADDRESS', \n",
    "}"
   ]
  },
  {
   "cell_type": "code",
   "execution_count": 36,
   "metadata": {},
   "outputs": [
    {
     "data": {
      "application/vnd.jupyter.widget-view+json": {
       "model_id": "75b9f5ef440043b68d8a1c2eaa30ba22",
       "version_major": 2,
       "version_minor": 0
      },
      "text/plain": [
       "  0%|          | 0/6807 [00:00<?, ?it/s]"
      ]
     },
     "metadata": {},
     "output_type": "display_data"
    },
    {
     "data": {
      "text/plain": [
       "0"
      ]
     },
     "execution_count": 36,
     "metadata": {},
     "output_type": "execute_result"
    }
   ],
   "source": [
    "import gc\n",
    "with open('data/train.json', 'r', encoding='utf-8') as f:\n",
    "    data = json.load(f)\n",
    "predict_table = get_predict_table(data)\n",
    "gc.collect()\n",
    "\n",
    "for i in range(1, predict_table.shape[0]):\n",
    "    if (predict_table.at[i-1, 'predict'] == predict_table.at[i, 'predict']) & (predict_table.at[i-1, 'document'] == predict_table.at[i, 'document']) & (predict_table.at[i, 'token_i'] - predict_table.at[i-1, 'token_i'] == 1):\n",
    "        predict_table.at[i, 'prefix'] = 'I-'\n",
    "predict_table['predict'] = predict_table['prefix'] + predict_table['predict']\n",
    "\n",
    "print(f'F1 score: {f1_score(predict_table.label, predict_table.predict, average=\"micro\")}')"
   ]
  },
  {
   "cell_type": "code",
   "execution_count": 39,
   "metadata": {},
   "outputs": [
    {
     "name": "stdout",
     "output_type": "stream",
     "text": [
      "F1 score: 0.7912087912087912\n"
     ]
    }
   ],
   "source": [
    "print(f'F1 score: {f1_score(predict_table.label, predict_table.predict, average=\"micro\")}')"
   ]
  },
  {
   "cell_type": "code",
   "execution_count": 40,
   "metadata": {},
   "outputs": [
    {
     "data": {
      "text/html": [
       "<div>\n",
       "<style scoped>\n",
       "    .dataframe tbody tr th:only-of-type {\n",
       "        vertical-align: middle;\n",
       "    }\n",
       "\n",
       "    .dataframe tbody tr th {\n",
       "        vertical-align: top;\n",
       "    }\n",
       "\n",
       "    .dataframe thead th {\n",
       "        text-align: right;\n",
       "    }\n",
       "</style>\n",
       "<table border=\"1\" class=\"dataframe\">\n",
       "  <thead>\n",
       "    <tr style=\"text-align: right;\">\n",
       "      <th></th>\n",
       "      <th>predict</th>\n",
       "      <th>label</th>\n",
       "    </tr>\n",
       "  </thead>\n",
       "  <tbody>\n",
       "    <tr>\n",
       "      <th>0</th>\n",
       "      <td>B-ID_NUM</td>\n",
       "      <td>6</td>\n",
       "    </tr>\n",
       "    <tr>\n",
       "      <th>1</th>\n",
       "      <td>B-O</td>\n",
       "      <td>10</td>\n",
       "    </tr>\n",
       "    <tr>\n",
       "      <th>2</th>\n",
       "      <td>B-USERNAME</td>\n",
       "      <td>3</td>\n",
       "    </tr>\n",
       "  </tbody>\n",
       "</table>\n",
       "</div>"
      ],
      "text/plain": [
       "      predict  label\n",
       "0    B-ID_NUM      6\n",
       "1         B-O     10\n",
       "2  B-USERNAME      3"
      ]
     },
     "execution_count": 40,
     "metadata": {},
     "output_type": "execute_result"
    }
   ],
   "source": [
    "predict_table.loc[predict_table.predict != predict_table.label].groupby('predict', as_index=False).label.count()"
   ]
  },
  {
   "cell_type": "code",
   "execution_count": 41,
   "metadata": {},
   "outputs": [
    {
     "data": {
      "text/html": [
       "<div>\n",
       "<style scoped>\n",
       "    .dataframe tbody tr th:only-of-type {\n",
       "        vertical-align: middle;\n",
       "    }\n",
       "\n",
       "    .dataframe tbody tr th {\n",
       "        vertical-align: top;\n",
       "    }\n",
       "\n",
       "    .dataframe thead th {\n",
       "        text-align: right;\n",
       "    }\n",
       "</style>\n",
       "<table border=\"1\" class=\"dataframe\">\n",
       "  <thead>\n",
       "    <tr style=\"text-align: right;\">\n",
       "      <th></th>\n",
       "      <th>document</th>\n",
       "      <th>token_i</th>\n",
       "      <th>token</th>\n",
       "      <th>predict</th>\n",
       "      <th>label</th>\n",
       "      <th>prefix</th>\n",
       "      <th>upper_start</th>\n",
       "    </tr>\n",
       "  </thead>\n",
       "  <tbody>\n",
       "    <tr>\n",
       "      <th>3</th>\n",
       "      <td>609</td>\n",
       "      <td>68</td>\n",
       "      <td>557349702179</td>\n",
       "      <td>B-USERNAME</td>\n",
       "      <td>B-ID_NUM</td>\n",
       "      <td>B-</td>\n",
       "      <td>0</td>\n",
       "    </tr>\n",
       "    <tr>\n",
       "      <th>10</th>\n",
       "      <td>3351</td>\n",
       "      <td>61</td>\n",
       "      <td>castanedagabriel</td>\n",
       "      <td>B-O</td>\n",
       "      <td>B-USERNAME</td>\n",
       "      <td>B-</td>\n",
       "      <td>0</td>\n",
       "    </tr>\n",
       "    <tr>\n",
       "      <th>13</th>\n",
       "      <td>4094</td>\n",
       "      <td>39</td>\n",
       "      <td>07.17.15</td>\n",
       "      <td>B-USERNAME</td>\n",
       "      <td>O</td>\n",
       "      <td>B-</td>\n",
       "      <td>0</td>\n",
       "    </tr>\n",
       "    <tr>\n",
       "      <th>14</th>\n",
       "      <td>4462</td>\n",
       "      <td>584</td>\n",
       "      <td>3.17.2016</td>\n",
       "      <td>B-USERNAME</td>\n",
       "      <td>O</td>\n",
       "      <td>B-</td>\n",
       "      <td>0</td>\n",
       "    </tr>\n",
       "    <tr>\n",
       "      <th>36</th>\n",
       "      <td>5653</td>\n",
       "      <td>112</td>\n",
       "      <td>35615904922</td>\n",
       "      <td>B-O</td>\n",
       "      <td>B-ID_NUM</td>\n",
       "      <td>B-</td>\n",
       "      <td>0</td>\n",
       "    </tr>\n",
       "    <tr>\n",
       "      <th>37</th>\n",
       "      <td>5716</td>\n",
       "      <td>1</td>\n",
       "      <td>meyermichelle</td>\n",
       "      <td>B-ID_NUM</td>\n",
       "      <td>B-USERNAME</td>\n",
       "      <td>B-</td>\n",
       "      <td>0</td>\n",
       "    </tr>\n",
       "    <tr>\n",
       "      <th>40</th>\n",
       "      <td>6007</td>\n",
       "      <td>1096</td>\n",
       "      <td>cyilinder</td>\n",
       "      <td>B-ID_NUM</td>\n",
       "      <td>O</td>\n",
       "      <td>B-</td>\n",
       "      <td>0</td>\n",
       "    </tr>\n",
       "    <tr>\n",
       "      <th>52</th>\n",
       "      <td>7156</td>\n",
       "      <td>6</td>\n",
       "      <td>DM:705244534902</td>\n",
       "      <td>B-O</td>\n",
       "      <td>B-ID_NUM</td>\n",
       "      <td>B-</td>\n",
       "      <td>0</td>\n",
       "    </tr>\n",
       "    <tr>\n",
       "      <th>55</th>\n",
       "      <td>8714</td>\n",
       "      <td>10</td>\n",
       "      <td>762035863358</td>\n",
       "      <td>B-O</td>\n",
       "      <td>B-ID_NUM</td>\n",
       "      <td>B-</td>\n",
       "      <td>0</td>\n",
       "    </tr>\n",
       "    <tr>\n",
       "      <th>70</th>\n",
       "      <td>10448</td>\n",
       "      <td>195</td>\n",
       "      <td>027693</td>\n",
       "      <td>B-O</td>\n",
       "      <td>B-ID_NUM</td>\n",
       "      <td>B-</td>\n",
       "      <td>0</td>\n",
       "    </tr>\n",
       "    <tr>\n",
       "      <th>71</th>\n",
       "      <td>10517</td>\n",
       "      <td>498</td>\n",
       "      <td>ras21</td>\n",
       "      <td>B-O</td>\n",
       "      <td>B-ID_NUM</td>\n",
       "      <td>B-</td>\n",
       "      <td>0</td>\n",
       "    </tr>\n",
       "    <tr>\n",
       "      <th>75</th>\n",
       "      <td>11900</td>\n",
       "      <td>3</td>\n",
       "      <td>723847538279</td>\n",
       "      <td>B-O</td>\n",
       "      <td>B-ID_NUM</td>\n",
       "      <td>B-</td>\n",
       "      <td>0</td>\n",
       "    </tr>\n",
       "    <tr>\n",
       "      <th>83</th>\n",
       "      <td>15717</td>\n",
       "      <td>964</td>\n",
       "      <td>IV-8322</td>\n",
       "      <td>B-O</td>\n",
       "      <td>B-ID_NUM</td>\n",
       "      <td>B-</td>\n",
       "      <td>0</td>\n",
       "    </tr>\n",
       "    <tr>\n",
       "      <th>84</th>\n",
       "      <td>15717</td>\n",
       "      <td>365</td>\n",
       "      <td>IV-8322</td>\n",
       "      <td>B-O</td>\n",
       "      <td>B-ID_NUM</td>\n",
       "      <td>B-</td>\n",
       "      <td>0</td>\n",
       "    </tr>\n",
       "    <tr>\n",
       "      <th>85</th>\n",
       "      <td>18062</td>\n",
       "      <td>224</td>\n",
       "      <td>Age:37</td>\n",
       "      <td>B-ID_NUM</td>\n",
       "      <td>O</td>\n",
       "      <td>B-</td>\n",
       "      <td>0</td>\n",
       "    </tr>\n",
       "    <tr>\n",
       "      <th>86</th>\n",
       "      <td>19280</td>\n",
       "      <td>55</td>\n",
       "      <td>30407059</td>\n",
       "      <td>B-ID_NUM</td>\n",
       "      <td>I-ID_NUM</td>\n",
       "      <td>B-</td>\n",
       "      <td>0</td>\n",
       "    </tr>\n",
       "    <tr>\n",
       "      <th>88</th>\n",
       "      <td>20984</td>\n",
       "      <td>6</td>\n",
       "      <td>V69230</td>\n",
       "      <td>B-O</td>\n",
       "      <td>B-ID_NUM</td>\n",
       "      <td>B-</td>\n",
       "      <td>0</td>\n",
       "    </tr>\n",
       "    <tr>\n",
       "      <th>89</th>\n",
       "      <td>21657</td>\n",
       "      <td>18</td>\n",
       "      <td>theelues</td>\n",
       "      <td>B-ID_NUM</td>\n",
       "      <td>O</td>\n",
       "      <td>B-</td>\n",
       "      <td>0</td>\n",
       "    </tr>\n",
       "    <tr>\n",
       "      <th>90</th>\n",
       "      <td>21657</td>\n",
       "      <td>22</td>\n",
       "      <td>tayk</td>\n",
       "      <td>B-ID_NUM</td>\n",
       "      <td>O</td>\n",
       "      <td>B-</td>\n",
       "      <td>0</td>\n",
       "    </tr>\n",
       "  </tbody>\n",
       "</table>\n",
       "</div>"
      ],
      "text/plain": [
       "    document  token_i             token     predict       label prefix  \\\n",
       "3        609       68      557349702179  B-USERNAME    B-ID_NUM     B-   \n",
       "10      3351       61  castanedagabriel         B-O  B-USERNAME     B-   \n",
       "13      4094       39          07.17.15  B-USERNAME           O     B-   \n",
       "14      4462      584         3.17.2016  B-USERNAME           O     B-   \n",
       "36      5653      112       35615904922         B-O    B-ID_NUM     B-   \n",
       "37      5716        1     meyermichelle    B-ID_NUM  B-USERNAME     B-   \n",
       "40      6007     1096         cyilinder    B-ID_NUM           O     B-   \n",
       "52      7156        6   DM:705244534902         B-O    B-ID_NUM     B-   \n",
       "55      8714       10      762035863358         B-O    B-ID_NUM     B-   \n",
       "70     10448      195            027693         B-O    B-ID_NUM     B-   \n",
       "71     10517      498             ras21         B-O    B-ID_NUM     B-   \n",
       "75     11900        3      723847538279         B-O    B-ID_NUM     B-   \n",
       "83     15717      964           IV-8322         B-O    B-ID_NUM     B-   \n",
       "84     15717      365           IV-8322         B-O    B-ID_NUM     B-   \n",
       "85     18062      224            Age:37    B-ID_NUM           O     B-   \n",
       "86     19280       55          30407059    B-ID_NUM    I-ID_NUM     B-   \n",
       "88     20984        6            V69230         B-O    B-ID_NUM     B-   \n",
       "89     21657       18          theelues    B-ID_NUM           O     B-   \n",
       "90     21657       22              tayk    B-ID_NUM           O     B-   \n",
       "\n",
       "   upper_start  \n",
       "3            0  \n",
       "10           0  \n",
       "13           0  \n",
       "14           0  \n",
       "36           0  \n",
       "37           0  \n",
       "40           0  \n",
       "52           0  \n",
       "55           0  \n",
       "70           0  \n",
       "71           0  \n",
       "75           0  \n",
       "83           0  \n",
       "84           0  \n",
       "85           0  \n",
       "86           0  \n",
       "88           0  \n",
       "89           0  \n",
       "90           0  "
      ]
     },
     "execution_count": 41,
     "metadata": {},
     "output_type": "execute_result"
    }
   ],
   "source": [
    "predict_table.loc[predict_table.predict != predict_table.label]"
   ]
  },
  {
   "cell_type": "code",
   "execution_count": 49,
   "metadata": {},
   "outputs": [],
   "source": [
    "res = np.array(token2emb['I']) + np.array(token2emb['V'])"
   ]
  },
  {
   "cell_type": "code",
   "execution_count": 55,
   "metadata": {},
   "outputs": [],
   "source": [
    "res1 = token2emb['some']"
   ]
  },
  {
   "cell_type": "code",
   "execution_count": 56,
   "metadata": {},
   "outputs": [
    {
     "data": {
      "text/plain": [
       "0.031072332533333333"
      ]
     },
     "execution_count": 56,
     "metadata": {},
     "output_type": "execute_result"
    }
   ],
   "source": [
    "np.mean((res1 - res)**2)"
   ]
  },
  {
   "cell_type": "code",
   "execution_count": null,
   "metadata": {},
   "outputs": [],
   "source": []
  }
 ],
 "metadata": {
  "kernelspec": {
   "display_name": "Python 3",
   "language": "python",
   "name": "python3"
  },
  "language_info": {
   "codemirror_mode": {
    "name": "ipython",
    "version": 3
   },
   "file_extension": ".py",
   "mimetype": "text/x-python",
   "name": "python",
   "nbconvert_exporter": "python",
   "pygments_lexer": "ipython3",
   "version": "3.10.11"
  }
 },
 "nbformat": 4,
 "nbformat_minor": 2
}
